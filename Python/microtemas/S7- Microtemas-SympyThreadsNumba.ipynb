{
 "cells": [
  {
   "cell_type": "markdown",
   "metadata": {},
   "source": [
    "# Introducción a Python"
   ]
  },
  {
   "cell_type": "markdown",
   "metadata": {},
   "source": [
    "## Microtemas"
   ]
  },
  {
   "cell_type": "markdown",
   "metadata": {},
   "source": [
    "Hay mucho que hablar, aprender y codificar con Python. Una revisión completa del lenguaje y sus aplicaciones requeriría de dos cursos semestrales. Para concretar esta breve introducción, a continuación se presenten tres microtemas que con los conocimientos adquiridos hasta el momento bien podrás profundizar al revisar la documentación y tutoriales. Los microtemas son:\n",
    "- **Sympy**: Python para el álgebra computacional.\n",
    "- **Multithreading**: Elaboración y ejecución de multiples hilos con Python\n",
    "- **Numba**: Aceleración de código Python con compilación de código."
   ]
  },
  {
   "cell_type": "markdown",
   "metadata": {},
   "source": [
    "### Sympy"
   ]
  },
  {
   "cell_type": "markdown",
   "metadata": {},
   "source": [
    "**Sympy es una biblioteca de Python para matemática simbólica**. Posicionado actualmente en un sistema de álgebra computacional (CAS) con prestaciones de mantenimiento de código tan simple como sea posible para que sea comprensible y extendible. Sympy est{a escrito totalmente en Python y no requiere bibliotecas adicionales. El proyecto comenzó en 2005 y lanzado al público en 2007 y en el que han contribuido cientos de personas."
   ]
  },
  {
   "cell_type": "code",
   "execution_count": 1,
   "metadata": {},
   "outputs": [
    {
     "data": {
      "text/html": [
       "\n",
       "        <iframe\n",
       "            width=\"100%\"\n",
       "            height=\"350\"\n",
       "            src=\"https://www.sympy.org/en/index.html\"\n",
       "            frameborder=\"0\"\n",
       "            allowfullscreen\n",
       "            \n",
       "        ></iframe>\n",
       "        "
      ],
      "text/plain": [
       "<IPython.lib.display.IFrame at 0x7fcaf8282560>"
      ]
     },
     "execution_count": 1,
     "metadata": {},
     "output_type": "execute_result"
    }
   ],
   "source": [
    "from IPython.display import IFrame\n",
    "IFrame('https://www.sympy.org/en/index.html', width='100%', height=350)"
   ]
  },
  {
   "cell_type": "code",
   "execution_count": 2,
   "metadata": {},
   "outputs": [
    {
     "data": {
      "text/html": [
       "\n",
       "        <iframe\n",
       "            width=\"100%\"\n",
       "            height=\"350\"\n",
       "            src=\"https://docs.sympy.org/latest/index.html\"\n",
       "            frameborder=\"0\"\n",
       "            allowfullscreen\n",
       "            \n",
       "        ></iframe>\n",
       "        "
      ],
      "text/plain": [
       "<IPython.lib.display.IFrame at 0x7fcaf82b7520>"
      ]
     },
     "execution_count": 2,
     "metadata": {},
     "output_type": "execute_result"
    }
   ],
   "source": [
    "from IPython.display import IFrame\n",
    "IFrame('https://docs.sympy.org/latest/index.html', width='100%', height=350)"
   ]
  },
  {
   "cell_type": "markdown",
   "metadata": {},
   "source": [
    "Otros CAS conocidos son Mathematica y Maple, sin embargo ambos software son privativos y de pago. Vamos revisar brevemente en este notebook:\n",
    "- Crear símbolos y expresiones\n",
    "- Manipular expresiones (simplificación, expansión)\n",
    "- Calcular derivadas e integrales\n",
    "- Límites y desarrollos de serie\n",
    "- Resolución de EDO's\n",
    "- Matrices"
   ]
  },
  {
   "cell_type": "markdown",
   "metadata": {},
   "source": [
    "#### Instalación \n",
    "`conda install sympy`\n",
    "\n",
    "`conda update sympy`"
   ]
  },
  {
   "cell_type": "markdown",
   "metadata": {},
   "source": [
    "#### Creación de símbolos"
   ]
  },
  {
   "cell_type": "code",
   "execution_count": 3,
   "metadata": {},
   "outputs": [],
   "source": [
    "# Importar módulos de sympy y todos sus módulos\n",
    "from sympy import *"
   ]
  },
  {
   "cell_type": "code",
   "execution_count": 4,
   "metadata": {},
   "outputs": [
    {
     "name": "stdout",
     "output_type": "stream",
     "text": [
      "IPython console for SymPy 1.11.1 (Python 3.10.10-64-bit) (ground types: gmpy)\n",
      "\n",
      "These commands were executed:\n",
      ">>> from sympy import *\n",
      ">>> x, y, z, t = symbols('x y z t')\n",
      ">>> k, m, n = symbols('k m n', integer=True)\n",
      ">>> f, g, h = symbols('f g h', cls=Function)\n",
      ">>> init_printing()\n",
      "\n",
      "Documentation can be found at https://docs.sympy.org/1.11.1/\n",
      "\n"
     ]
    }
   ],
   "source": [
    "# Importar módulos de sympy, activar latex, crea variables\n",
    "# para utilizarlas en la sesión\n",
    "from sympy import init_session\n",
    "init_session(use_latex = True)"
   ]
  },
  {
   "cell_type": "code",
   "execution_count": 6,
   "metadata": {},
   "outputs": [
    {
     "ename": "NameError",
     "evalue": "name 'b' is not defined",
     "output_type": "error",
     "traceback": [
      "\u001b[0;31m---------------------------------------------------------------------------\u001b[0m",
      "\u001b[0;31mNameError\u001b[0m                                 Traceback (most recent call last)",
      "Cell \u001b[0;32mIn[6], line 3\u001b[0m\n\u001b[1;32m      1\u001b[0m \u001b[38;5;66;03m# variable no definida\u001b[39;00m\n\u001b[1;32m      2\u001b[0m \u001b[38;5;66;03m# debe crearse\u001b[39;00m\n\u001b[0;32m----> 3\u001b[0m a \u001b[38;5;241m=\u001b[39m \u001b[38;5;241m2\u001b[39m \u001b[38;5;241m*\u001b[39m \u001b[43mb\u001b[49m\n",
      "\u001b[0;31mNameError\u001b[0m: name 'b' is not defined"
     ]
    }
   ],
   "source": [
    "# variable no definida\n",
    "# debe crearse\n",
    "a = 2 * b"
   ]
  },
  {
   "cell_type": "markdown",
   "metadata": {},
   "source": [
    "Antes de usar un variable en Sympy debe definirse como símbolo y luego utilizarlo: "
   ]
  },
  {
   "cell_type": "code",
   "execution_count": 8,
   "metadata": {},
   "outputs": [
    {
     "data": {
      "image/png": "[encoded data removed]",
      "text/latex": [
       "$\\displaystyle a$"
      ],
      "text/plain": [
       "a"
      ]
     },
     "execution_count": 8,
     "metadata": {},
     "output_type": "execute_result"
    }
   ],
   "source": [
    "# Crear un símbolo\n",
    "a = symbols('a')\n",
    "a"
   ]
  },
  {
   "cell_type": "code",
   "execution_count": 9,
   "metadata": {},
   "outputs": [
    {
     "data": {
      "image/png": "[encoded data removed]",
      "text/latex": [
       "$\\displaystyle \\left(a + \\pi\\right)^{2}$"
      ],
      "text/plain": [
       "       2\n",
       "(a + π) "
      ]
     },
     "execution_count": 9,
     "metadata": {},
     "output_type": "execute_result"
    }
   ],
   "source": [
    "# Número Pi\n",
    "(a + pi)**2"
   ]
  },
  {
   "cell_type": "code",
   "execution_count": 10,
   "metadata": {},
   "outputs": [
    {
     "data": {
      "image/png": "[encoded data removed]",
      "text/latex": [
       "$\\displaystyle 1 + 2 i$"
      ],
      "text/plain": [
       "1 + 2⋅ⅈ"
      ]
     },
     "execution_count": 10,
     "metadata": {},
     "output_type": "execute_result"
    }
   ],
   "source": [
    "# Unidad imaginaria\n",
    "1 + 2*I"
   ]
  },
  {
   "cell_type": "code",
   "execution_count": 11,
   "metadata": {},
   "outputs": [
    {
     "data": {
      "image/png": "[encoded data removed]",
      "text/latex": [
       "$\\displaystyle e^{2}$"
      ],
      "text/plain": [
       " 2\n",
       "ℯ "
      ]
     },
     "execution_count": 11,
     "metadata": {},
     "output_type": "execute_result"
    }
   ],
   "source": [
    "# Número e\n",
    "E ** 2"
   ]
  },
  {
   "cell_type": "code",
   "execution_count": 12,
   "metadata": {},
   "outputs": [
    {
     "data": {
      "text/plain": [
       "sympy.core.symbol.Symbol"
      ]
     },
     "execution_count": 12,
     "metadata": {},
     "output_type": "execute_result"
    }
   ],
   "source": [
    "# tipo de a\n",
    "type(a)"
   ]
  },
  {
   "cell_type": "markdown",
   "metadata": {},
   "source": [
    "Puedo operar con a y asignar a otra variable"
   ]
  },
  {
   "cell_type": "code",
   "execution_count": 13,
   "metadata": {},
   "outputs": [
    {
     "data": {
      "text/plain": [
       "sympy.core.mul.Mul"
      ]
     },
     "execution_count": 13,
     "metadata": {},
     "output_type": "execute_result"
    }
   ],
   "source": [
    "b = 2 * a\n",
    "type(b)"
   ]
  },
  {
   "cell_type": "markdown",
   "metadata": {},
   "source": [
    "$b$ es el resultado de una multiplicación por lo que adquiere ese tipo símbolo resultado de una multiplicación."
   ]
  },
  {
   "cell_type": "code",
   "execution_count": 14,
   "metadata": {},
   "outputs": [
    {
     "data": {
      "text/plain": [
       "float"
      ]
     },
     "execution_count": 14,
     "metadata": {},
     "output_type": "execute_result"
    }
   ],
   "source": [
    "b = 2.\n",
    "type(b)"
   ]
  },
  {
   "cell_type": "markdown",
   "metadata": {},
   "source": [
    "Si sobre-escribo el valor de $b$ esta variable adquiere un nuevo tipo"
   ]
  },
  {
   "cell_type": "code",
   "execution_count": 15,
   "metadata": {},
   "outputs": [
    {
     "data": {
      "image/png": "[encoded data removed]",
      "text/latex": [
       "$\\displaystyle \\left( α, \\  β\\right)$"
      ],
      "text/plain": [
       "(α, β)"
      ]
     },
     "execution_count": 15,
     "metadata": {},
     "output_type": "execute_result"
    }
   ],
   "source": [
    "# creación de símbolos\n",
    "α, β = symbols('α β')\n",
    "α, β"
   ]
  },
  {
   "cell_type": "code",
   "execution_count": 16,
   "metadata": {},
   "outputs": [
    {
     "data": {
      "image/png": "[encoded data removed]",
      "text/latex": [
       "$\\displaystyle c_{t}$"
      ],
      "text/plain": [
       "cₜ"
      ]
     },
     "execution_count": 16,
     "metadata": {},
     "output_type": "execute_result"
    }
   ],
   "source": [
    "c_t = symbols('c_t')\n",
    "c_t"
   ]
  },
  {
   "cell_type": "code",
   "execution_count": 17,
   "metadata": {},
   "outputs": [
    {
     "data": {
      "image/png": "[encoded data removed]",
      "text/latex": [
       "$\\displaystyle \\left( x, \\  y, \\  z, \\  t\\right)$"
      ],
      "text/plain": [
       "(x, y, z, t)"
      ]
     },
     "execution_count": 17,
     "metadata": {},
     "output_type": "execute_result"
    }
   ],
   "source": [
    "# Creamos símbolos reales\n",
    "x, y, z, t = symbols('x, y, z, t')\n",
    "x, y, z, t"
   ]
  },
  {
   "cell_type": "code",
   "execution_count": 18,
   "metadata": {},
   "outputs": [
    {
     "data": {
      "text/plain": [
       "{'commutative': True}"
      ]
     },
     "execution_count": 18,
     "metadata": {},
     "output_type": "execute_result"
    }
   ],
   "source": [
    "x.assumptions0"
   ]
  },
  {
   "cell_type": "code",
   "execution_count": 19,
   "metadata": {},
   "outputs": [
    {
     "data": {
      "image/png": "[encoded data removed]",
      "text/latex": [
       "$\\displaystyle x$"
      ],
      "text/plain": [
       "x"
      ]
     },
     "execution_count": 19,
     "metadata": {},
     "output_type": "execute_result"
    }
   ],
   "source": [
    "# creamos definiciones para un símbolo\n",
    "x = symbols('x', real = True, positive = True)\n",
    "x"
   ]
  },
  {
   "cell_type": "code",
   "execution_count": 20,
   "metadata": {},
   "outputs": [
    {
     "data": {
      "text/plain": [
       "{'real': True,\n",
       " 'extended_real': True,\n",
       " 'infinite': False,\n",
       " 'imaginary': False,\n",
       " 'complex': True,\n",
       " 'commutative': True,\n",
       " 'hermitian': True,\n",
       " 'finite': True,\n",
       " 'positive': True,\n",
       " 'nonnegative': True,\n",
       " 'extended_nonzero': True,\n",
       " 'nonzero': True,\n",
       " 'extended_negative': False,\n",
       " 'extended_nonnegative': True,\n",
       " 'nonpositive': False,\n",
       " 'negative': False,\n",
       " 'extended_nonpositive': False,\n",
       " 'zero': False,\n",
       " 'extended_positive': True}"
      ]
     },
     "execution_count": 20,
     "metadata": {},
     "output_type": "execute_result"
    }
   ],
   "source": [
    "x.assumptions0"
   ]
  },
  {
   "cell_type": "markdown",
   "metadata": {},
   "source": [
    "#### Expresiones"
   ]
  },
  {
   "cell_type": "markdown",
   "metadata": {},
   "source": [
    "Creemos algo como $cos^2(x) + sin^2(x)$"
   ]
  },
  {
   "cell_type": "code",
   "execution_count": 21,
   "metadata": {},
   "outputs": [
    {
     "data": {
      "image/png": "[encoded data removed]",
      "text/latex": [
       "$\\displaystyle \\sin^{2}{\\left(x \\right)} + \\cos^{2}{\\left(x \\right)}$"
      ],
      "text/plain": [
       "   2         2   \n",
       "sin (x) + cos (x)"
      ]
     },
     "execution_count": 21,
     "metadata": {},
     "output_type": "execute_result"
    }
   ],
   "source": [
    "cos(x)**2 + sin(x)**2"
   ]
  },
  {
   "cell_type": "code",
   "execution_count": 22,
   "metadata": {},
   "outputs": [
    {
     "data": {
      "image/png": "[encoded data removed]",
      "text/latex": [
       "$\\displaystyle \\sqrt{z^{2}}$"
      ],
      "text/plain": [
       "   ____\n",
       "  ╱  2 \n",
       "╲╱  z  "
      ]
     },
     "execution_count": 22,
     "metadata": {},
     "output_type": "execute_result"
    }
   ],
   "source": [
    "sqrt(z**2)"
   ]
  },
  {
   "cell_type": "code",
   "execution_count": 23,
   "metadata": {},
   "outputs": [
    {
     "data": {
      "image/png": "[encoded data removed]",
      "text/latex": [
       "$\\displaystyle \\sqrt{z^{2}}$"
      ],
      "text/plain": [
       "   ____\n",
       "  ╱  2 \n",
       "╲╱  z  "
      ]
     },
     "execution_count": 23,
     "metadata": {},
     "output_type": "execute_result"
    }
   ],
   "source": [
    "simplify(_)  # ¿simplify = simpify?"
   ]
  },
  {
   "cell_type": "code",
   "execution_count": 24,
   "metadata": {},
   "outputs": [
    {
     "data": {
      "image/png": "[encoded data removed]",
      "text/latex": [
       "$\\displaystyle \\left|{y}\\right|$"
      ],
      "text/plain": [
       "│y│"
      ]
     },
     "execution_count": 24,
     "metadata": {},
     "output_type": "execute_result"
    }
   ],
   "source": [
    "y = symbols('y', real=True)\n",
    "simplify(sqrt(y**2))"
   ]
  },
  {
   "cell_type": "code",
   "execution_count": 25,
   "metadata": {},
   "outputs": [
    {
     "data": {
      "image/png": "[encoded data removed]",
      "text/latex": [
       "$\\displaystyle x$"
      ],
      "text/plain": [
       "x"
      ]
     },
     "execution_count": 25,
     "metadata": {},
     "output_type": "execute_result"
    }
   ],
   "source": [
    "sympify(sqrt(x**2))"
   ]
  },
  {
   "cell_type": "markdown",
   "metadata": {},
   "source": [
    "#### Sustituciones"
   ]
  },
  {
   "cell_type": "code",
   "execution_count": 26,
   "metadata": {},
   "outputs": [
    {
     "data": {
      "image/png": "[encoded data removed]",
      "text/latex": [
       "$\\displaystyle \\sin{\\left(z \\right)}$"
      ],
      "text/plain": [
       "sin(z)"
      ]
     },
     "execution_count": 26,
     "metadata": {},
     "output_type": "execute_result"
    }
   ],
   "source": [
    "sin(z)"
   ]
  },
  {
   "cell_type": "code",
   "execution_count": 27,
   "metadata": {},
   "outputs": [
    {
     "data": {
      "image/png": "[encoded data removed]",
      "text/latex": [
       "$\\displaystyle \\sin{\\left(x^{2} + 1 \\right)}$"
      ],
      "text/plain": [
       "   ⎛ 2    ⎞\n",
       "sin⎝x  + 1⎠"
      ]
     },
     "execution_count": 27,
     "metadata": {},
     "output_type": "execute_result"
    }
   ],
   "source": [
    "_.subs(z, 1 + x ** 2)"
   ]
  },
  {
   "cell_type": "code",
   "execution_count": 28,
   "metadata": {},
   "outputs": [
    {
     "data": {
      "image/png": "[encoded data removed]",
      "text/latex": [
       "$\\displaystyle \\sin^{2}{\\left(z + 1 \\right)} + \\cos^{2}{\\left(z - 1 \\right)}$"
      ],
      "text/plain": [
       "   2             2       \n",
       "sin (z + 1) + cos (z - 1)"
      ]
     },
     "execution_count": 28,
     "metadata": {},
     "output_type": "execute_result"
    }
   ],
   "source": [
    "# Sustituye x, y\n",
    "(sin(x)**2 + cos(y) ** 2).subs({x:1+z, y:1-z})"
   ]
  },
  {
   "cell_type": "code",
   "execution_count": 29,
   "metadata": {},
   "outputs": [
    {
     "data": {
      "image/png": "[encoded data removed]",
      "text/latex": [
       "$\\displaystyle e^{x}$"
      ],
      "text/plain": [
       " x\n",
       "ℯ "
      ]
     },
     "execution_count": 29,
     "metadata": {},
     "output_type": "execute_result"
    }
   ],
   "source": [
    "# remplaza funciones\n",
    "sin(x).replace(sin, exp)"
   ]
  },
  {
   "cell_type": "code",
   "execution_count": 30,
   "metadata": {},
   "outputs": [
    {
     "data": {
      "image/png": "[encoded data removed]",
      "text/latex": [
       "$\\displaystyle 3 \\pi$"
      ],
      "text/plain": [
       "3⋅π"
      ]
     },
     "execution_count": 30,
     "metadata": {},
     "output_type": "execute_result"
    }
   ],
   "source": [
    "# sustituye un valor particular y reduce\n",
    "# la expresion, hace x = pi\n",
    "(sin(x) + 3 * x).subs(x, pi)"
   ]
  },
  {
   "cell_type": "code",
   "execution_count": 31,
   "metadata": {},
   "outputs": [
    {
     "data": {
      "image/png": "[encoded data removed]",
      "text/latex": [
       "$\\displaystyle 9.42477796076938$"
      ],
      "text/plain": [
       "9.42477796076938"
      ]
     },
     "execution_count": 31,
     "metadata": {},
     "output_type": "execute_result"
    }
   ],
   "source": [
    "# evalua expresión\n",
    "_30.evalf()"
   ]
  },
  {
   "cell_type": "code",
   "execution_count": 74,
   "metadata": {},
   "outputs": [],
   "source": [
    "# muestra la ayuda\n",
    "_30.evalf?"
   ]
  },
  {
   "cell_type": "code",
   "execution_count": 33,
   "metadata": {},
   "outputs": [
    {
     "data": {
      "image/png": "[encoded data removed]",
      "text/latex": [
       "$\\displaystyle 9.42477796076938$"
      ],
      "text/plain": [
       "9.42477796076938"
      ]
     },
     "execution_count": 33,
     "metadata": {},
     "output_type": "execute_result"
    }
   ],
   "source": [
    "# Equivalente a la anterior\n",
    "N(_30)"
   ]
  },
  {
   "cell_type": "markdown",
   "metadata": {},
   "source": [
    "#### Simplificación\n",
    "\n",
    "Sympy ofrece numerosas funciones para simplificar y manipular xpresiones. Estre otras tantas funciones, las que destacan son:\n",
    "- expand()\n",
    "- factor()\n",
    "- collect()\n",
    "- apart()\n",
    "- cancel()"
   ]
  },
  {
   "cell_type": "markdown",
   "metadata": {},
   "source": [
    "Existen también funciones específicas de simplificación para funciones trigonoméricas, potencias y logaritmos."
   ]
  },
  {
   "cell_type": "markdown",
   "metadata": {},
   "source": [
    "$(x^3 + 3y + 2)^2 \\to x^6 + 6 x^3 𝑦 + 4x^3 + 9y^2 + 12y + 4 $ "
   ]
  },
  {
   "cell_type": "code",
   "execution_count": 35,
   "metadata": {},
   "outputs": [],
   "source": [
    "x, y, z, t = symbols('x y z t')"
   ]
  },
  {
   "cell_type": "code",
   "execution_count": 36,
   "metadata": {},
   "outputs": [
    {
     "data": {
      "image/png": "[encoded data removed]",
      "text/latex": [
       "$\\displaystyle \\left(x^{3} + 3 y + 2\\right)^{2}$"
      ],
      "text/plain": [
       "              2\n",
       "⎛ 3          ⎞ \n",
       "⎝x  + 3⋅y + 2⎠ "
      ]
     },
     "execution_count": 36,
     "metadata": {},
     "output_type": "execute_result"
    }
   ],
   "source": [
    "(x**3 + 3 * y + 2) ** 2"
   ]
  },
  {
   "cell_type": "code",
   "execution_count": 37,
   "metadata": {},
   "outputs": [
    {
     "data": {
      "image/png": "[encoded data removed]",
      "text/latex": [
       "$\\displaystyle x^{6} + 6 x^{3} y + 4 x^{3} + 9 y^{2} + 12 y + 4$"
      ],
      "text/plain": [
       " 6      3        3      2           \n",
       "x  + 6⋅x ⋅y + 4⋅x  + 9⋅y  + 12⋅y + 4"
      ]
     },
     "execution_count": 37,
     "metadata": {},
     "output_type": "execute_result"
    }
   ],
   "source": [
    "expand(_)"
   ]
  },
  {
   "cell_type": "code",
   "execution_count": 38,
   "metadata": {},
   "outputs": [
    {
     "data": {
      "image/png": "[encoded data removed]",
      "text/latex": [
       "$\\displaystyle x^{6} + 6 x^{3} y + 4 x^{3} + 9 y^{2} + 12 y + 4$"
      ],
      "text/plain": [
       " 6      3        3      2           \n",
       "x  + 6⋅x ⋅y + 4⋅x  + 9⋅y  + 12⋅y + 4"
      ]
     },
     "execution_count": 38,
     "metadata": {},
     "output_type": "execute_result"
    }
   ],
   "source": [
    "_36.expand()"
   ]
  },
  {
   "cell_type": "code",
   "execution_count": 39,
   "metadata": {},
   "outputs": [],
   "source": [
    "apart?"
   ]
  },
  {
   "cell_type": "code",
   "execution_count": 40,
   "metadata": {},
   "outputs": [
    {
     "data": {
      "image/png": "[encoded data removed]",
      "text/latex": [
       "$\\displaystyle \\frac{3 x^{2} - 2 x + 1}{\\left(x - 1\\right)^{2}}$"
      ],
      "text/plain": [
       "   2          \n",
       "3⋅x  - 2⋅x + 1\n",
       "──────────────\n",
       "          2   \n",
       "   (x - 1)    "
      ]
     },
     "execution_count": 40,
     "metadata": {},
     "output_type": "execute_result"
    }
   ],
   "source": [
    "(3 * x ** 2 - 2 * x + 1 ) / (x-1) ** 2 "
   ]
  },
  {
   "cell_type": "code",
   "execution_count": 41,
   "metadata": {},
   "outputs": [
    {
     "data": {
      "image/png": "[encoded data removed]",
      "text/latex": [
       "$\\displaystyle 3 + \\frac{4}{x - 1} + \\frac{2}{\\left(x - 1\\right)^{2}}$"
      ],
      "text/plain": [
       "      4        2    \n",
       "3 + ───── + ────────\n",
       "    x - 1          2\n",
       "            (x - 1) "
      ]
     },
     "execution_count": 41,
     "metadata": {},
     "output_type": "execute_result"
    }
   ],
   "source": [
    "apart(_)"
   ]
  },
  {
   "cell_type": "markdown",
   "metadata": {},
   "source": [
    "Un tutorial muy bueno del uso de Sympy es presentado por **Juan Luis Cano**, lo puedes consultar en Youtube y consta de varias partes, puedes iniciar con [Sympy: Introducción y comandos básicos](https://www.youtube.com/watch?v=OGQRcYVys1Q) de donde tomé el contenido de este notebook.  "
   ]
  },
  {
   "cell_type": "markdown",
   "metadata": {},
   "source": [
    "### Multithreading"
   ]
  },
  {
   "cell_type": "markdown",
   "metadata": {},
   "source": [
    "Los hilos o *threads* son procesos ligeros que se ejecutan el mismo espacio de memoria. Esto complica el uso de variables dado que múltiples hilos pueden escribir en la misma localidad de memoria.\n",
    "\n",
    "No obstante, el intérprete de Python nos proporciona un mecanismo de seguridad para los hilos (_thread-safe mechanism_): GIL (Global intepreter Lock) el interprete global de bloqueo. Este mecanismo previene de conflictos entre hilos al ejecutar una sola instrucción al mismo tiempo.\n",
    "\n",
    "El intérprete de bloque global evita el paralelismo de hilos que se ejecutan en múltiples núcleos, así la implementación de hilos en python es mucho más útil en concurrencia en servidores web. \n",
    "\n",
    "Múltiples hilos pueden vivir en el mismo proceso y en el mismo espacio, cada hilo hará una tarea específica con base en su propio código y su segmento de memoria (*stack*), su apuntador de instrucciones y la memoria compartida (*heap*)."
   ]
  },
  {
   "cell_type": "markdown",
   "metadata": {},
   "source": [
    "![title](threads1.png)"
   ]
  },
  {
   "cell_type": "markdown",
   "metadata": {},
   "source": [
    "`Multithreading` es una biblioteca de Python que sirve de interface de alto nivel para la creación de hilos."
   ]
  },
  {
   "cell_type": "code",
   "execution_count": 46,
   "metadata": {},
   "outputs": [
    {
     "name": "stdout",
     "output_type": "stream",
     "text": [
      "Square: 4\n",
      "Square: 9\n",
      "Square: 25\n",
      "Square: 36\n",
      "Quad: 16\n",
      "Quad: 81\n",
      "Quad: 625\n",
      "Quad: 1296\n",
      "time: 0.0001068115234375\n"
     ]
    }
   ],
   "source": [
    "import threading\n",
    "import time\n",
    "\n",
    "def calc_square(numbers):\n",
    "    for num in numbers:\n",
    "        print('Square:' , num * num)\n",
    "    \n",
    "def calc_quad(numbers):\n",
    "    for num in numbers:\n",
    "        print('Quad:' , num * num * num * num)\n",
    "\n",
    "numbers = [2, 3, 5, 6]\n",
    "\n",
    "t = time.time()\n",
    "calc_square(numbers)\n",
    "calc_quad(numbers)\n",
    "print(\"time: \" + str(time.time()-t)) "
   ]
  },
  {
   "cell_type": "markdown",
   "metadata": {},
   "source": [
    "Cada función `calc_square()`es invocada y ejecutada y al finalizar su ejecución es invocada y ejecutada la función `calc_quad()`, se trata de una ejecución secuencial.\n",
    "![title](threads_serial.png)"
   ]
  },
  {
   "cell_type": "markdown",
   "metadata": {},
   "source": [
    "Ahora vamos a crear dos `threads`, cada uno ejecutará las funciones anteriores:"
   ]
  },
  {
   "cell_type": "code",
   "execution_count": 51,
   "metadata": {},
   "outputs": [
    {
     "name": "stdout",
     "output_type": "stream",
     "text": [
      "Square: 4\n",
      "Quad: 16\n",
      "Square: 9\n",
      "Quad: 81\n",
      "Square: 25\n",
      "Quad: 625\n",
      "Square: 36\n",
      "Quad: 1296\n",
      "time: 0.8041832447052002\n"
     ]
    }
   ],
   "source": [
    "import threading\n",
    "import time\n",
    "\n",
    "def calc_square(numbers):\n",
    "    for num in numbers:\n",
    "        time.sleep(0.2)\n",
    "        print('Square:' , num * num)\n",
    "    \n",
    "def calc_quad(numbers):\n",
    "    for num in numbers:\n",
    "        time.sleep(0.2)\n",
    "        print('Quad:' , num * num * num * num)\n",
    "    \n",
    "if __name__ == \"__main__\":\n",
    "    numbers = [2, 3, 5, 6]\n",
    "    \n",
    "    t = time.time()\n",
    "    \n",
    "    thread1 = threading.Thread(target=calc_square, args=(numbers,))\n",
    "    thread2 = threading.Thread(target=calc_quad, args=(numbers,))\n",
    "    \n",
    "    # Ejecuta los dos hilos concurrentemente \n",
    "    thread1.start()\n",
    "    thread2.start()\n",
    "    \n",
    "    # Retoma los hilos y los une de vuelta al proceso padre\n",
    "    # que es este programa\n",
    "    thread1.join()\n",
    "    thread2.join()\n",
    "    \n",
    "    print(\"time: \" + str(time.time()-t)) "
   ]
  },
  {
   "cell_type": "markdown",
   "metadata": {},
   "source": [
    "En este caso, cada hilo o `thread` es ejecutado de manera **concurrente**:"
   ]
  },
  {
   "cell_type": "markdown",
   "metadata": {},
   "source": [
    "![title](threads2.png)"
   ]
  },
  {
   "cell_type": "markdown",
   "metadata": {},
   "source": [
    "El sistma operativo inicia la ejecución de cada hilo y la planifica de forma intercalada de acuerdo a la tabla de procesos presentes en el sistema. "
   ]
  },
  {
   "cell_type": "markdown",
   "metadata": {},
   "source": [
    "#### Creación de hilos diversos\n",
    "\n",
    "Como todo en Python es un objeto, es posible crear multiples hilos al estilo Python usando iteradores o ciclos."
   ]
  },
  {
   "cell_type": "code",
   "execution_count": null,
   "metadata": {},
   "outputs": [],
   "source": [
    "import threading\n",
    "\n",
    "def worker(number):\n",
    "    time.sleep(0.1)\n",
    "    print(\"Soy el hilo: \" + str(number))\n",
    "    \n",
    "thread_list = []\n",
    "for i in range(5):\n",
    "    thread = threading.Thread(target=worker, args=(i,))\n",
    "    thread.start()\n",
    "    thread_list.append(thread)\n",
    "    \n",
    "# regresa cada hilo al hilo principal\n",
    "for thread in thread_list:\n",
    "    thread.join()\n",
    "    \n",
    "print(\"Fin proceso principal\")"
   ]
  },
  {
   "cell_type": "markdown",
   "metadata": {},
   "source": [
    "#### Crea hilos como instancias de clase\n",
    "\n",
    "Los hilos en Python están implementados como objetos de tipo `threading.Thread`"
   ]
  },
  {
   "cell_type": "code",
   "execution_count": 53,
   "metadata": {},
   "outputs": [
    {
     "name": "stdout",
     "output_type": "stream",
     "text": [
      "Conteo en reversa:  10\n",
      "Conteo en reversa:  20\n",
      "Conteo en reversa:  9\n",
      "Conteo en reversa:  19\n",
      "Conteo en reversa:  8\n",
      "Conteo en reversa:  18\n",
      "Conteo en reversa:  17\n",
      "Conteo en reversa:  7\n",
      "Conteo en reversa:  16\n",
      "Conteo en reversa:  6\n",
      "Conteo en reversa:  15\n",
      "Conteo en reversa:  5\n",
      "Conteo en reversa:  4\n",
      "Conteo en reversa:  14\n",
      "Conteo en reversa:  3\n",
      "Conteo en reversa:  13\n",
      "Conteo en reversa:  2\n",
      "Conteo en reversa:  12\n",
      "Conteo en reversa:  1\n",
      "Conteo en reversa:  11\n",
      "Conteo en reversa:  10\n",
      "Conteo en reversa:  9\n",
      "Conteo en reversa:  8\n",
      "Conteo en reversa:  7\n",
      "Conteo en reversa:  6\n",
      "Conteo en reversa:  5\n",
      "Conteo en reversa:  4\n",
      "Conteo en reversa:  3\n",
      "Conteo en reversa:  2\n",
      "Conteo en reversa:  1\n"
     ]
    }
   ],
   "source": [
    "import time\n",
    "import threading\n",
    "\n",
    "# el hilo es definido por una clase\n",
    "class CountdownThread(threading.Thread):\n",
    "    \n",
    "    # se hereda de Thread y se redefine run()\n",
    "    def __init__(self, count):\n",
    "        threading.Thread.__init__(self)\n",
    "        self.count = count\n",
    "        \n",
    "    def run(self):\n",
    "        while self.count > 0:\n",
    "            print(\"Conteo en reversa: \", self.count)\n",
    "            self.count -= 1\n",
    "            time.sleep(1)\n",
    "        return\n",
    "    \n",
    "t1 = CountdownThread(10)\n",
    "t1.start()\n",
    "\n",
    "t2 = CountdownThread(20)\n",
    "t2.start()"
   ]
  },
  {
   "cell_type": "code",
   "execution_count": 54,
   "metadata": {},
   "outputs": [
    {
     "name": "stdout",
     "output_type": "stream",
     "text": [
      "Soy el hilo: 0\n",
      "Soy el hilo: 2\n",
      "Soy el hilo: 1\n",
      "Soy el hilo: 3\n",
      "Soy el hilo: 4\n"
     ]
    }
   ],
   "source": [
    "import threading\n",
    "import time\n",
    "\n",
    "class MyThread(threading.Thread):\n",
    "    \n",
    "    def __init__(self,  number):\n",
    "        super(MyThread, self).__init__()\n",
    "        self.number = number\n",
    "    \n",
    "    def run(self):\n",
    "        time.sleep(0.1)\n",
    "        print(\"Soy el hilo: \" + str(self.number))\n",
    "    \n",
    "thread_list = []\n",
    "for i in range(5):\n",
    "    thread = MyThread(i)\n",
    "    thread_list.append(thread)\n",
    "    thread.start()"
   ]
  },
  {
   "cell_type": "markdown",
   "metadata": {},
   "source": [
    "#### Ejecutor de hilos (thread pool executor)"
   ]
  },
  {
   "cell_type": "code",
   "execution_count": 56,
   "metadata": {},
   "outputs": [
    {
     "name": "stdout",
     "output_type": "stream",
     "text": [
      "Soy el hilo: 1\n",
      "Done...\n",
      "Soy el hilo: 2\n",
      "Done...\n"
     ]
    }
   ],
   "source": [
    "import concurrent.futures\n",
    "\n",
    "def worker(number):\n",
    "    time.sleep(0.1)\n",
    "    print(\"Soy el hilo: \" + str(number))\n",
    "    return (\"Done...\")\n",
    "\n",
    "with concurrent.futures.ThreadPoolExecutor() as executor:\n",
    "    t1 = executor.submit(worker, 1)\n",
    "    print(t1.result())\n",
    "    t2 = executor.submit(worker, 2)\n",
    "    print(t2.result())"
   ]
  },
  {
   "cell_type": "markdown",
   "metadata": {},
   "source": [
    "#### Dificultades con los hilos\n",
    "\n",
    "Existen diversas problemáticas a trabajar con multitarea:\n",
    "+ Los hilos no tienen un comportamiento determinista\n",
    "+ La planificación la realiza el sistema operativo, no el intérprete de Python\n",
    "+ Es impredecible la ejecución de un hilo, por lo tanto el código debe ser seguro para cada hilo (*thread safe*)\n",
    "+ Los hilos usan bloqueo de recursos de E/S (ejemplo, sistema de archivos) para tenerlos disponibles\n",
    "+ Se requieren bloqueos (*locks*) para sincronizar el acceso a variables compartidas de lo multihilos\n",
    "+ La sincronización usando bloqueos es difícil y propenso a errores"
   ]
  },
  {
   "cell_type": "markdown",
   "metadata": {},
   "source": [
    "### Numba\n",
    "\n",
    "Python sacrifica velocidad por flexibilidad. Tener un lenguaje dinámico, flexible, con múltiples objetos implementados y reutilización de código conduce a ejecuciones de código lentas. Cuando en ciertas aplicaciones el rendimiento (_performance_) es necesario se tiene la alternativa de acelerar código Python con el paquete **Numba**\n",
    "\n",
    "- Numba es un compilador para Python.\n",
    "- Enfocado a funciones numéricas que permite acelerar aplicaciones transcribiendo funciones escritas directamente en Python a funciones con alto rendimiento.\n",
    "- Numba genera código máquina optimizado desde la sintaxis de Python usando el compilador LLVM.\n",
    "- Con unos simples cambios, el código de Python puede ser optimizado \"just-in-time\" para obtener rendimiento similar a C, C++ sin tener que cambiar el lenguaje."
   ]
  },
  {
   "cell_type": "markdown",
   "metadata": {},
   "source": [
    "#### Características de Numba\n",
    "- **Compilador de funciones:** Numba compila funciones, no aplicaciones completas, sólo parte de ellas. Básicamente, Numba es otro módulo de Python para mejorar el rendimiento de funciones contenidas en el código.\n",
    "- **Just-in-time:** (Transición dinámica) Numba transcribe el código en bits (bytecode o código intermedio) a código máquina inmediatamente antes de su ejecución para incrementar la velocidad de ejecución.\n",
    "- **Enfocado a algoritmos numéricos:** Numba está enfocado a datos y cálculos numéricos, Int, Float, Complex. "
   ]
  },
  {
   "cell_type": "markdown",
   "metadata": {},
   "source": [
    "#### Otras opciones para aceleración de código\n",
    "\n",
    "- CUDA C/C++\n",
    "- PyCUDA\n",
    "    - Es la forma más eficiente de usar CUDA desde Python\n",
    "    - Requiere programar en C el código en Python, muchos cambios se requieren\n",
    "- Numba\n",
    "    - Menos eficiente que PyCUDA\n",
    "    - Permite escribir código Python y optimizarlo con pocas modificiciones\n",
    "    - Optimiza código para CPU y GPU"
   ]
  },
  {
   "cell_type": "code",
   "execution_count": 1,
   "metadata": {},
   "outputs": [],
   "source": [
    "import numba\n",
    "from numba import jit\n",
    "import numpy as np\n",
    "import math\n",
    "import random"
   ]
  },
  {
   "cell_type": "code",
   "execution_count": 60,
   "metadata": {},
   "outputs": [],
   "source": [
    "random.seed(42)"
   ]
  },
  {
   "cell_type": "markdown",
   "metadata": {},
   "source": [
    "#### Primeros pasos: Compilar código en CPU\n",
    "Numba optimiza funciones en la CPU, para esto se utilizan *decoradores* (macros que modifican funciones). Veamos el uso del `@jit` "
   ]
  },
  {
   "cell_type": "code",
   "execution_count": 6,
   "metadata": {},
   "outputs": [
    {
     "name": "stderr",
     "output_type": "stream",
     "text": [
      "/tmp/ipykernel_141827/3662081512.py:1: NumbaDeprecationWarning: The 'nopython' keyword argument was not supplied to the 'numba.jit' decorator. The implicit default value for this argument is currently False, but it will be changed to True in Numba 0.59.0. See https://numba.readthedocs.io/en/stable/reference/deprecation.html#deprecation-of-object-mode-fall-back-behaviour-when-using-jit for details.\n",
      "  @jit()\n"
     ]
    }
   ],
   "source": [
    "@jit()\n",
    "def hypot(x, y):\n",
    "    return math.sqrt(x*x + y*y)"
   ]
  },
  {
   "cell_type": "code",
   "execution_count": 8,
   "metadata": {},
   "outputs": [
    {
     "data": {
      "text/plain": [
       "5.0"
      ]
     },
     "execution_count": 8,
     "metadata": {},
     "output_type": "execute_result"
    }
   ],
   "source": [
    "# Función de Numba\n",
    "hypot(3.0, 4.0)"
   ]
  },
  {
   "cell_type": "markdown",
   "metadata": {},
   "source": [
    "Numba escribe la implementación original de la función en `.py_func`, la cual es posible utilizar. "
   ]
  },
  {
   "cell_type": "code",
   "execution_count": 9,
   "metadata": {},
   "outputs": [
    {
     "data": {
      "text/plain": [
       "5.0"
      ]
     },
     "execution_count": 9,
     "metadata": {},
     "output_type": "execute_result"
    }
   ],
   "source": [
    "# Función original en Python\n",
    "hypot.py_func(3.0, 4.0)"
   ]
  },
  {
   "cell_type": "markdown",
   "metadata": {},
   "source": [
    "\n",
    "Naturalmente, es importante medir el rendimiento del código escrito y verificar si realmente Numba funciona correctamente respecto a la diferencia en tiempo de la implementación de Python y la implementación de Numba."
   ]
  },
  {
   "cell_type": "code",
   "execution_count": 10,
   "metadata": {},
   "outputs": [
    {
     "name": "stdout",
     "output_type": "stream",
     "text": [
      "129 ns ± 1.62 ns per loop (mean ± std. dev. of 7 runs, 10,000,000 loops each)\n"
     ]
    }
   ],
   "source": [
    "# Función de Python\n",
    "%timeit hypot.py_func(3.0, 4.0)"
   ]
  },
  {
   "cell_type": "code",
   "execution_count": 11,
   "metadata": {},
   "outputs": [
    {
     "name": "stdout",
     "output_type": "stream",
     "text": [
      "127 ns ± 1.16 ns per loop (mean ± std. dev. of 7 runs, 10,000,000 loops each)\n"
     ]
    }
   ],
   "source": [
    "# Función de Numba\n",
    "%timeit hypot(3.0, 4.0)"
   ]
  },
  {
   "cell_type": "markdown",
   "metadata": {},
   "source": [
    "Adicionalmente, la biblioteca `math` también incluye la función `hypot`:"
   ]
  },
  {
   "cell_type": "code",
   "execution_count": 12,
   "metadata": {},
   "outputs": [
    {
     "name": "stdout",
     "output_type": "stream",
     "text": [
      "88.9 ns ± 0.459 ns per loop (mean ± std. dev. of 7 runs, 10,000,000 loops each)\n"
     ]
    }
   ],
   "source": [
    "# math function\n",
    "%timeit math.hypot(3.0, 4.0)"
   ]
  },
  {
   "cell_type": "markdown",
   "metadata": {},
   "source": [
    "Nótese que  la función `math.hypot` es más rápida que Numba. Esto se debe a que Numba introduce cierta sobrecarga en la llamada a la función que supera la sobrecarga de la llamada a la función de Python, para funciones que se ejecutan rápidamente se verán afectadas por esta sobrecarga.\n",
    "Sin embargo, si se invocan funciones de Numba desde otras funciones, esta sobrecarga puede disminuir considerablemente, algunas veces desaparece si el compilador integra la llamada de Numba dentro de otra función. Es recomendable verificar la acelaración que ofrece Numba."
   ]
  },
  {
   "cell_type": "markdown",
   "metadata": {},
   "source": [
    "#### Ejemplo con Fractales"
   ]
  },
  {
   "cell_type": "markdown",
   "metadata": {},
   "source": [
    "Vamos a dibujar un fractal. Un fractal es una figura que sigue un patrón geométrico que se sucede hasta el infinito. Los fractales se construyen mediante múltipleas números complejos que se son semejantes a diferentes escalas. Los fractales se construyen mediante un proceso iterativo: $z_{n+1} = z_n + c$\n"
   ]
  },
  {
   "cell_type": "code",
   "execution_count": 13,
   "metadata": {},
   "outputs": [
    {
     "name": "stdout",
     "output_type": "stream",
     "text": [
      "3.06 s ± 32.9 ms per loop (mean ± std. dev. of 7 runs, 1 loop each)\n"
     ]
    },
    {
     "data": {
      "text/plain": [
       "<matplotlib.image.AxesImage at 0x7f8deace7610>"
      ]
     },
     "execution_count": 13,
     "metadata": {},
     "output_type": "execute_result"
    },
    {
     "data": {
      "image/png": "[encoded data removed]",
      "text/plain": [
       "<Figure size 640x480 with 1 Axes>"
      ]
     },
     "metadata": {},
     "output_type": "display_data"
    }
   ],
   "source": [
    "from matplotlib.pylab import imshow, ion\n",
    "\n",
    "def mandel(x, y , max_iters):\n",
    "    i = 0\n",
    "    c = complex(x, y)\n",
    "    z = 0.0j\n",
    "    for i in range(max_iters):\n",
    "        z = z*z +c\n",
    "        if (z.real*z.real + z.imag*z.imag) >= 4:\n",
    "            return i\n",
    "        \n",
    "    return 255\n",
    "\n",
    "def create_fractal(min_x, max_x, min_y, max_y, image, iters):\n",
    "    height = image.shape[0]\n",
    "    width = image.shape[1]\n",
    "    \n",
    "    pixel_size_x = (max_x - min_x) / width\n",
    "    pixel_size_y = (max_y - min_y) / height\n",
    "    for x in range(width):\n",
    "        real = min_x + x * pixel_size_x\n",
    "        for y in range(height):\n",
    "            imag = min_y + y * pixel_size_y\n",
    "            color = mandel(real, imag, iters)\n",
    "            image[y,x] = color\n",
    "            \n",
    "    return image\n",
    "\n",
    "image = np.zeros((500 * 2, 750 * 2), dtype=np.uint8)\n",
    "%timeit create_fractal(-2.0, 1.0, -1.0, 1.0, image, 20)\n",
    "img = create_fractal(-2.0, 1.0, -1.0, 1.0, image, 20)\n",
    "imshow(img)\n",
    "    "
   ]
  },
  {
   "cell_type": "code",
   "execution_count": 3,
   "metadata": {},
   "outputs": [
    {
     "name": "stderr",
     "output_type": "stream",
     "text": [
      "/tmp/ipykernel_141827/2370836737.py:2: NumbaDeprecationWarning: The 'nopython' keyword argument was not supplied to the 'numba.jit' decorator. The implicit default value for this argument is currently False, but it will be changed to True in Numba 0.59.0. See https://numba.readthedocs.io/en/stable/reference/deprecation.html#deprecation-of-object-mode-fall-back-behaviour-when-using-jit for details.\n",
      "  def mandel(x, y , max_iters):\n",
      "/tmp/ipykernel_141827/2370836737.py:14: NumbaDeprecationWarning: The 'nopython' keyword argument was not supplied to the 'numba.jit' decorator. The implicit default value for this argument is currently False, but it will be changed to True in Numba 0.59.0. See https://numba.readthedocs.io/en/stable/reference/deprecation.html#deprecation-of-object-mode-fall-back-behaviour-when-using-jit for details.\n",
      "  def create_fractal(min_x, max_x, min_y, max_y, image, iters):\n"
     ]
    },
    {
     "name": "stdout",
     "output_type": "stream",
     "text": [
      "32.2 ms ± 272 µs per loop (mean ± std. dev. of 7 runs, 1 loop each)\n"
     ]
    },
    {
     "data": {
      "text/plain": [
       "<matplotlib.image.AxesImage at 0x7f8dead6af20>"
      ]
     },
     "execution_count": 3,
     "metadata": {},
     "output_type": "execute_result"
    },
    {
     "data": {
      "image/png": "[encoded data removed]",
      "text/plain": [
       "<Figure size 640x480 with 1 Axes>"
      ]
     },
     "metadata": {},
     "output_type": "display_data"
    }
   ],
   "source": [
    "@jit\n",
    "def mandel(x, y , max_iters):\n",
    "    i = 0\n",
    "    c = complex(x, y)\n",
    "    z = 0.0j\n",
    "    for i in range(max_iters):\n",
    "        z = z*z +c\n",
    "        if (z.real*z.real + z.imag*z.imag) >= 4:\n",
    "            return i\n",
    "        \n",
    "    return 255\n",
    "\n",
    "@jit\n",
    "def create_fractal(min_x, max_x, min_y, max_y, image, iters):\n",
    "    height = image.shape[0]\n",
    "    width = image.shape[1]\n",
    "    \n",
    "    pixel_size_x = (max_x - min_x) / width\n",
    "    pixel_size_y = (max_y - min_y) / height\n",
    "    for x in range(width):\n",
    "        real = min_x + x * pixel_size_x\n",
    "        for y in range(height):\n",
    "            imag = min_y + y * pixel_size_y\n",
    "            color = mandel(real, imag, iters)\n",
    "            image[y,x] = color\n",
    "            \n",
    "    return image\n",
    "\n",
    "image = np.zeros((500 * 2, 750 * 2), dtype=np.uint8)\n",
    "%timeit create_fractal(-2.0, 1.0, -1.0, 1.0, image, 20)\n",
    "img = create_fractal(-2.0, 1.0, -1.0, 1.0, image, 20)\n",
    "imshow(img)"
   ]
  },
  {
   "cell_type": "code",
   "execution_count": null,
   "metadata": {},
   "outputs": [],
   "source": []
  }
 ],
 "metadata": {
  "kernelspec": {
   "display_name": "Python 3 (ipykernel)",
   "language": "python",
   "name": "python3"
  },
  "language_info": {
   "codemirror_mode": {
    "name": "ipython",
    "version": 3
   },
   "file_extension": ".py",
   "mimetype": "text/x-python",
   "name": "python",
   "nbconvert_exporter": "python",
   "pygments_lexer": "ipython3",
   "version": "3.10.10"
  },
  "widgets": {
   "state": {},
   "version": "1.1.2"
  }
 },
 "nbformat": 4,
 "nbformat_minor": 1
}
