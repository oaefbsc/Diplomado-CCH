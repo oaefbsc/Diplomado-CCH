{
 "cells": [
  {
   "cell_type": "markdown",
   "id": "15341999",
   "metadata": {},
   "source": [
    "# Introducción a Python"
   ]
  },
  {
   "cell_type": "markdown",
   "id": "fa3c648d",
   "metadata": {},
   "source": [
    "## Visualización con Python: Ipywidgets"
   ]
  },
  {
   "cell_type": "markdown",
   "id": "a7b99518",
   "metadata": {},
   "source": [
    "Los widgets son objetos de Python que producen de eventos reproducibles en el navegador, comunmente pueden ser botones, controles deslizantes, un cuadro de texto, etc."
   ]
  },
  {
   "cell_type": "markdown",
   "id": "1409f211",
   "metadata": {},
   "source": [
    "El uso de estos objetos requiere la importar el paque `ipywidgets`. Para instalar el paquete, puede hacerse mediante el manejador de paquetes `conda` con la instrucción: \n",
    "`conda install -c conda-forge ipywidgets`"
   ]
  },
  {
   "cell_type": "markdown",
   "id": "b25982dc",
   "metadata": {},
   "source": [
    "La mayoría de las veces, la instalación de `ipywidgets configura automáticamente Jupyter Notebook para usar widgets."
   ]
  },
  {
   "cell_type": "code",
   "execution_count": 3,
   "id": "f115e8bc",
   "metadata": {},
   "outputs": [
    {
     "name": "stdout",
     "output_type": "stream",
     "text": [
      "# packages in environment at /home/oscar/anaconda3:\r\n",
      "#\r\n",
      "# Name                    Version                   Build  Channel\r\n",
      "ipywidgets                8.0.4              pyhd8ed1ab_0    conda-forge\r\n"
     ]
    }
   ],
   "source": [
    "!conda list ipywidgets"
   ]
  },
  {
   "cell_type": "code",
   "execution_count": 6,
   "id": "c2ff43dc",
   "metadata": {},
   "outputs": [],
   "source": [
    "import ipywidgets as widgets"
   ]
  },
  {
   "cell_type": "markdown",
   "id": "516e3bde",
   "metadata": {},
   "source": [
    "### Construcción de un widget"
   ]
  },
  {
   "cell_type": "markdown",
   "id": "1d7b6cdc",
   "metadata": {},
   "source": [
    "Los widgets tienen su propia representación de visualización que les permite mostrarse utilizando el marco de visualización de IPython. La construcción y devolución de un `IntSlider` muestra automáticamente el widget. Los widgets se muestran dentro del área de salida debajo de la celda de código. Borrar la salida de la celda también eliminará el widget."
   ]
  },
  {
   "cell_type": "code",
   "execution_count": 8,
   "id": "0ba2b779",
   "metadata": {},
   "outputs": [
    {
     "data": {
      "application/vnd.jupyter.widget-view+json": {
       "model_id": "de031e45d24f44eab22075b76006f195",
       "version_major": 2,
       "version_minor": 0
      },
      "text/plain": [
       "IntSlider(value=0)"
      ]
     },
     "execution_count": 8,
     "metadata": {},
     "output_type": "execute_result"
    }
   ],
   "source": [
    "widgets.IntSlider()"
   ]
  },
  {
   "cell_type": "markdown",
   "id": "66898f95",
   "metadata": {},
   "source": [
    "También puede mostrar explícitamente el widget usando `display()`"
   ]
  },
  {
   "cell_type": "code",
   "execution_count": 10,
   "id": "1b69c36b",
   "metadata": {},
   "outputs": [
    {
     "data": {
      "application/vnd.jupyter.widget-view+json": {
       "model_id": "",
       "version_major": 2,
       "version_minor": 0
      },
      "text/plain": [
       "IntSlider(value=0)"
      ]
     },
     "metadata": {},
     "output_type": "display_data"
    }
   ],
   "source": [
    "from IPython.display import display\n",
    "\n",
    "w = widgets.IntSlider()\n",
    "display(w)"
   ]
  },
  {
   "cell_type": "markdown",
   "id": "315fa55a",
   "metadata": {},
   "source": [
    "Puede cerrarse un widget explícitamente con `close()`"
   ]
  },
  {
   "cell_type": "code",
   "execution_count": 12,
   "id": "a777531b",
   "metadata": {},
   "outputs": [
    {
     "data": {
      "application/vnd.jupyter.widget-view+json": {
       "model_id": "",
       "version_major": 2,
       "version_minor": 0
      },
      "text/plain": [
       "IntSlider(value=0)"
      ]
     },
     "metadata": {},
     "output_type": "display_data"
    }
   ],
   "source": [
    "display(w)"
   ]
  },
  {
   "cell_type": "code",
   "execution_count": 13,
   "id": "6f5c5dce",
   "metadata": {},
   "outputs": [],
   "source": [
    "w.close()"
   ]
  },
  {
   "cell_type": "markdown",
   "id": "f1b8f326",
   "metadata": {},
   "source": [
    "### Propiedades de un widget\n",
    "\n",
    "Todos los widgets de IPython comparten un esquema de nombres similar. Para leer el valor de un widget, puede consultar su propiedad de `value`:"
   ]
  },
  {
   "cell_type": "code",
   "execution_count": 17,
   "id": "84e24807",
   "metadata": {},
   "outputs": [
    {
     "data": {
      "application/vnd.jupyter.widget-view+json": {
       "model_id": "5e782b7aec284c2cb63a4409ed8c595a",
       "version_major": 2,
       "version_minor": 0
      },
      "text/plain": [
       "IntSlider(value=0)"
      ]
     },
     "metadata": {},
     "output_type": "display_data"
    }
   ],
   "source": [
    "w = widgets.IntSlider()\n",
    "display(w)\n"
   ]
  },
  {
   "cell_type": "code",
   "execution_count": 18,
   "id": "8a8da28a",
   "metadata": {},
   "outputs": [
    {
     "data": {
      "text/plain": [
       "40"
      ]
     },
     "execution_count": 18,
     "metadata": {},
     "output_type": "execute_result"
    }
   ],
   "source": [
    "w.value"
   ]
  },
  {
   "cell_type": "markdown",
   "id": "055da0be",
   "metadata": {},
   "source": [
    "Además del valor, la mayoría de los widgets comparten claves, descripción y estado (si están deshabilitados). Para ver la lista completa de propiedades sincronizadas de cualquier widget específico, se puede consultar la propiedad `keys`."
   ]
  },
  {
   "cell_type": "code",
   "execution_count": 19,
   "id": "9703c61b",
   "metadata": {},
   "outputs": [
    {
     "data": {
      "text/plain": [
       "['_dom_classes',\n",
       " '_model_module',\n",
       " '_model_module_version',\n",
       " '_model_name',\n",
       " '_view_count',\n",
       " '_view_module',\n",
       " '_view_module_version',\n",
       " '_view_name',\n",
       " 'behavior',\n",
       " 'continuous_update',\n",
       " 'description',\n",
       " 'description_allow_html',\n",
       " 'disabled',\n",
       " 'layout',\n",
       " 'max',\n",
       " 'min',\n",
       " 'orientation',\n",
       " 'readout',\n",
       " 'readout_format',\n",
       " 'step',\n",
       " 'style',\n",
       " 'tabbable',\n",
       " 'tooltip',\n",
       " 'value']"
      ]
     },
     "execution_count": 19,
     "metadata": {},
     "output_type": "execute_result"
    }
   ],
   "source": [
    "w.keys"
   ]
  },
  {
   "cell_type": "markdown",
   "id": "2c597d90",
   "metadata": {},
   "source": [
    "### Inicialización de un widget\n",
    "\n",
    "Al crear un widget se pueden establecer algunos o todos los valores iniciales de ese widget definiéndolos como argumentos de palabras clave en el constructor del widget:"
   ]
  },
  {
   "cell_type": "code",
   "execution_count": 21,
   "id": "3f266fee",
   "metadata": {},
   "outputs": [
    {
     "data": {
      "application/vnd.jupyter.widget-view+json": {
       "model_id": "35b36241681e439e857a0f8e355a490e",
       "version_major": 2,
       "version_minor": 0
      },
      "text/plain": [
       "Text(value='Hello World!', disabled=True)"
      ]
     },
     "execution_count": 21,
     "metadata": {},
     "output_type": "execute_result"
    }
   ],
   "source": [
    "widgets.Text(value='Hello World!', disabled=True)"
   ]
  },
  {
   "cell_type": "markdown",
   "id": "5fea4dba",
   "metadata": {},
   "source": [
    "### Vincular dos widgets similares\n",
    "\n",
    "Si se necesita mostrar el mismo valor de dos maneras diferentes, tendrá que usar dos widgets diferentes. En lugar de intentar sincronizar manualmente los valores de los dos widgets, puede usarse la función `link` o `jslink` para vincular dos propiedades."
   ]
  },
  {
   "cell_type": "code",
   "execution_count": 22,
   "id": "cc60964a",
   "metadata": {},
   "outputs": [
    {
     "data": {
      "application/vnd.jupyter.widget-view+json": {
       "model_id": "8a9b9d081d0a4752b26fa420253ac3df",
       "version_major": 2,
       "version_minor": 0
      },
      "text/plain": [
       "FloatText(value=0.0)"
      ]
     },
     "metadata": {},
     "output_type": "display_data"
    },
    {
     "data": {
      "application/vnd.jupyter.widget-view+json": {
       "model_id": "ba5d809cf5484a89a454f267791b22e3",
       "version_major": 2,
       "version_minor": 0
      },
      "text/plain": [
       "FloatSlider(value=0.0)"
      ]
     },
     "metadata": {},
     "output_type": "display_data"
    }
   ],
   "source": [
    "a = widgets.FloatText()\n",
    "b = widgets.FloatSlider()\n",
    "display(a,b)\n",
    "\n",
    "mylink = widgets.jslink((a, 'value'), (b, 'value'))\n"
   ]
  },
  {
   "cell_type": "markdown",
   "id": "ee8bbb4d",
   "metadata": {},
   "source": [
    "### Desvincular widgets\n",
    "\n",
    "Desvincular los widgets es simple. Todo lo que tiene que hacerse es llamar a `.unlink` en el objeto de enlace. "
   ]
  },
  {
   "cell_type": "code",
   "execution_count": 23,
   "id": "fc49dc67",
   "metadata": {},
   "outputs": [],
   "source": [
    "mylink.unlink()"
   ]
  },
  {
   "cell_type": "markdown",
   "id": "0a2809e9",
   "metadata": {},
   "source": [
    "### Lista de widgets"
   ]
  },
  {
   "cell_type": "markdown",
   "id": "3ed75f6c",
   "metadata": {},
   "source": [
    "#### Widgets numéricos\n",
    "Hay muchos widgets distribuidos con ipywidgets diseñados para mostrar valores numéricos. Existen widgets para mostrar números enteros y flotantes, tanto acotados como ilimitados. Los widgets de enteros comparten un esquema de nombres similar a sus contrapartes de punto flotante. Al reemplazar `Float` con `Int` en el nombre del widget, puede encontrar el equivalente de Integer."
   ]
  },
  {
   "cell_type": "markdown",
   "id": "0a7a25e5",
   "metadata": {},
   "source": [
    "#### IntSlider\n",
    "\n",
    "El control deslizante entero se muestra con un `value` inicial especificado. Los límites inferior y superior están definidos por `min` y `max`, y el valor se puede incrementar según el parámetro `step`. \n",
    "\n",
    "- La etiqueta del control deslizante está definida por el parámetro `description`. \n",
    "- La orientación del control deslizante `orientation` es `horizontal` (predeterminada) o `vertical`.\n",
    "- El parámetro `readout` muestra el valor actual del control deslizante junto a él. Las opciones son `True` (predeterminado) o `False`.\n",
    "- `readout_format` especifica el formato utilizado para representar el valor del control deslizante, el valor predeterminado es `.2f`"
   ]
  },
  {
   "cell_type": "code",
   "execution_count": 24,
   "id": "32758b4b",
   "metadata": {},
   "outputs": [
    {
     "data": {
      "application/vnd.jupyter.widget-view+json": {
       "model_id": "4bf508dcad7a4a6681e2d2638b1fe2d9",
       "version_major": 2,
       "version_minor": 0
      },
      "text/plain": [
       "IntSlider(value=7, continuous_update=False, description='Test:', max=10)"
      ]
     },
     "execution_count": 24,
     "metadata": {},
     "output_type": "execute_result"
    }
   ],
   "source": [
    "widgets.IntSlider(\n",
    "    value=7,\n",
    "    min=0,\n",
    "    max=10,\n",
    "    step=1,\n",
    "    description='Test:',\n",
    "    disabled=False,\n",
    "    continuous_update=False,\n",
    "    orientation='horizontal',\n",
    "    readout=True,\n",
    "    readout_format='d'\n",
    ")"
   ]
  },
  {
   "cell_type": "markdown",
   "id": "8b0f2d7e",
   "metadata": {},
   "source": [
    "#### FloatSlider"
   ]
  },
  {
   "cell_type": "code",
   "execution_count": 26,
   "id": "068309ec",
   "metadata": {},
   "outputs": [
    {
     "data": {
      "application/vnd.jupyter.widget-view+json": {
       "model_id": "ba4c0f253df14087b95f080f8cf72b8a",
       "version_major": 2,
       "version_minor": 0
      },
      "text/plain": [
       "FloatSlider(value=7.5, continuous_update=False, description='Test:', max=10.0, readout_format='.1f')"
      ]
     },
     "execution_count": 26,
     "metadata": {},
     "output_type": "execute_result"
    }
   ],
   "source": [
    "widgets.FloatSlider(\n",
    "    value=7.5,\n",
    "    min=0,\n",
    "    max=10.0,\n",
    "    step=0.1,\n",
    "    description='Test:',\n",
    "    disabled=False,\n",
    "    continuous_update=False,\n",
    "    orientation='horizontal',\n",
    "    readout=True,\n",
    "    readout_format='.1f',\n",
    ")"
   ]
  },
  {
   "cell_type": "markdown",
   "id": "b45651a2",
   "metadata": {},
   "source": [
    "Un ejemplo de un `slider` desplegado verticalmente:"
   ]
  },
  {
   "cell_type": "code",
   "execution_count": 27,
   "id": "3740be0f",
   "metadata": {},
   "outputs": [
    {
     "data": {
      "application/vnd.jupyter.widget-view+json": {
       "model_id": "0bcaa90c32394c89aea121943b494192",
       "version_major": 2,
       "version_minor": 0
      },
      "text/plain": [
       "FloatSlider(value=7.5, continuous_update=False, description='Test:', max=10.0, orientation='vertical', readout…"
      ]
     },
     "execution_count": 27,
     "metadata": {},
     "output_type": "execute_result"
    }
   ],
   "source": [
    "widgets.FloatSlider(\n",
    "    value=7.5,\n",
    "    min=0,\n",
    "    max=10.0,\n",
    "    step=0.1,\n",
    "    description='Test:',\n",
    "    disabled=False,\n",
    "    continuous_update=False,\n",
    "    orientation='vertical',\n",
    "    readout=True,\n",
    "    readout_format='.1f',\n",
    ")\n"
   ]
  },
  {
   "cell_type": "markdown",
   "id": "2386364c",
   "metadata": {},
   "source": [
    "#### FloatLogSlider"
   ]
  },
  {
   "cell_type": "markdown",
   "id": "25c88e59",
   "metadata": {},
   "source": [
    "El `FloatLogSlider` tiene una escala logarítmica, lo que facilita tener un control deslizante que cubra una amplia gama de magnitudes positivas.-\n",
    "- Los parámetros `min` y `max` refieren a los exponentes mínimo y máximo de la base\n",
    "- El parámetro `value` refiere al valor real del control deslizante."
   ]
  },
  {
   "cell_type": "code",
   "execution_count": 36,
   "id": "e6ad645b",
   "metadata": {},
   "outputs": [
    {
     "data": {
      "application/vnd.jupyter.widget-view+json": {
       "model_id": "5ff45fcd141b4af7a617098525ec9d5c",
       "version_major": 2,
       "version_minor": 0
      },
      "text/plain": [
       "FloatLogSlider(value=10.0, description='Log Slider', max=10.0, min=-10.0, step=0.2)"
      ]
     },
     "execution_count": 36,
     "metadata": {},
     "output_type": "execute_result"
    }
   ],
   "source": [
    "widgets.FloatLogSlider(\n",
    "    value=10,\n",
    "    base=10,\n",
    "    min=-10, # max exponent of base\n",
    "    max=10, # min exponent of base\n",
    "    step=0.2, # exponent step\n",
    "    description='Log Slider'\n",
    ")"
   ]
  },
  {
   "cell_type": "markdown",
   "id": "50b01e77",
   "metadata": {},
   "source": [
    "#### FloatText"
   ]
  },
  {
   "cell_type": "code",
   "execution_count": 37,
   "id": "f3f34407",
   "metadata": {},
   "outputs": [
    {
     "data": {
      "application/vnd.jupyter.widget-view+json": {
       "model_id": "743513594e9f484b87e60891e9506dbf",
       "version_major": 2,
       "version_minor": 0
      },
      "text/plain": [
       "FloatText(value=7.5, description='Número:')"
      ]
     },
     "execution_count": 37,
     "metadata": {},
     "output_type": "execute_result"
    }
   ],
   "source": [
    "widgets.FloatText(\n",
    "    value=7.5,\n",
    "    description='Número:',\n",
    "    disabled=False\n",
    ")"
   ]
  },
  {
   "cell_type": "markdown",
   "id": "b762ebeb",
   "metadata": {},
   "source": [
    "#### Checkbox\n",
    "\n",
    "- El parámetro `value` especifica el valor de la casilla de verificación\n",
    "- El parámetro `indent` coloca una casilla de verificación con sangría, alineada con otros controles. Las opciones son `True`(predeterminado) o `False`."
   ]
  },
  {
   "cell_type": "code",
   "execution_count": 38,
   "id": "6f0eba8c",
   "metadata": {},
   "outputs": [
    {
     "data": {
      "application/vnd.jupyter.widget-view+json": {
       "model_id": "78073a2205da4672b6d01993b5d9448b",
       "version_major": 2,
       "version_minor": 0
      },
      "text/plain": [
       "Checkbox(value=False, description='Check me', indent=False)"
      ]
     },
     "execution_count": 38,
     "metadata": {},
     "output_type": "execute_result"
    }
   ],
   "source": [
    "widgets.Checkbox(\n",
    "    value=False,\n",
    "    description='Check me',\n",
    "    disabled=False,\n",
    "    indent=False\n",
    ")"
   ]
  },
  {
   "cell_type": "markdown",
   "id": "7cd766cb",
   "metadata": {},
   "source": [
    "### Lista y funcionalidad de widgets\n",
    "\n",
    "En general, se tienen diversas categorias de widgets como los numéricos, boolenos, selección, cadenas, imagen, botones, animación, etc. La lista completa de widgets y ejemplos de inicializacion pueden consultarse en el sitio de [Jupyter Widgets](https://ipywidgets.readthedocs.io/en/stable/index.html).  "
   ]
  },
  {
   "cell_type": "markdown",
   "id": "2055b860",
   "metadata": {},
   "source": [
    "## Interact"
   ]
  },
  {
   "cell_type": "markdown",
   "id": "aa147154",
   "metadata": {},
   "source": [
    "Los widgets de salida forman la base de cómo se implementan los métodos interactivos. Se pueden usar para crear diseños enriquecidos de ejecución de código. Una forma sencilla de personalizar el aspecto de una interfaz de usuario interactiva es usar la función `interactive_output` para conectar los controles a una función cuya salida se captura en el widget de salida devuelto."
   ]
  },
  {
   "cell_type": "markdown",
   "id": "f6500a91",
   "metadata": {},
   "source": [
    "La función de interacción, `ipywidgets.interact` crea automáticamente controles de interfaz de usuario (UI) para explorar código y datos de forma interactiva. Es la forma más fácil de comenzar a usar los widgets de IPython."
   ]
  },
  {
   "cell_type": "code",
   "execution_count": 100,
   "id": "0c43edb5",
   "metadata": {},
   "outputs": [],
   "source": [
    "from ipywidgets import interact, interactive, fixed, interact_manual"
   ]
  },
  {
   "cell_type": "markdown",
   "id": "ce29d66a",
   "metadata": {},
   "source": [
    "### Uso básico de interact\n",
    "En el nivel más básico de `interact` genera automáticamente controles de interfaz de usuario para argumentos de función y luego llama a la función con esos argumentos cuando manipula los controles de forma interactiva. \n",
    "Para usar `interac` se debe definir una función que desee explorar"
   ]
  },
  {
   "cell_type": "code",
   "execution_count": 101,
   "id": "8efe1439",
   "metadata": {},
   "outputs": [],
   "source": [
    "def f(x):\n",
    "    return x"
   ]
  },
  {
   "cell_type": "code",
   "execution_count": 104,
   "id": "67837e6e",
   "metadata": {},
   "outputs": [
    {
     "data": {
      "application/vnd.jupyter.widget-view+json": {
       "model_id": "8ac766bba30e4300a150d44ece41189a",
       "version_major": 2,
       "version_minor": 0
      },
      "text/plain": [
       "interactive(children=(Checkbox(value=True, description='x'), Output()), _dom_classes=('widget-interact',))"
      ]
     },
     "metadata": {},
     "output_type": "display_data"
    }
   ],
   "source": [
    "interact(f, x=True);  # ; evita la salida descriptiva del objeto"
   ]
  },
  {
   "cell_type": "markdown",
   "id": "b3d2af18",
   "metadata": {},
   "source": [
    "Se envió el valor `True` a `f(x)`"
   ]
  },
  {
   "cell_type": "code",
   "execution_count": 105,
   "id": "0dfc9986",
   "metadata": {},
   "outputs": [
    {
     "data": {
      "application/vnd.jupyter.widget-view+json": {
       "model_id": "55cbcf8399e64680998230dfd3461b82",
       "version_major": 2,
       "version_minor": 0
      },
      "text/plain": [
       "interactive(children=(Text(value='Hi there!', description='x'), Output()), _dom_classes=('widget-interact',))"
      ]
     },
     "metadata": {},
     "output_type": "display_data"
    }
   ],
   "source": [
    "interact(f, x='Hi there!');"
   ]
  },
  {
   "cell_type": "markdown",
   "id": "642f4c2a",
   "metadata": {},
   "source": [
    "Se envió la cadena `Hi there!!` como argumento a `f()`"
   ]
  },
  {
   "cell_type": "code",
   "execution_count": 106,
   "id": "0711b15c",
   "metadata": {},
   "outputs": [],
   "source": [
    "def h(p, q):\n",
    "    return (p, q)"
   ]
  },
  {
   "cell_type": "code",
   "execution_count": 107,
   "id": "f7ee2d28",
   "metadata": {},
   "outputs": [
    {
     "data": {
      "application/vnd.jupyter.widget-view+json": {
       "model_id": "c1aea8d47c1a4eb3b14acadaa26a1e73",
       "version_major": 2,
       "version_minor": 0
      },
      "text/plain": [
       "interactive(children=(IntSlider(value=5, description='p', max=15, min=-5), Output()), _dom_classes=('widget-in…"
      ]
     },
     "metadata": {},
     "output_type": "display_data"
    }
   ],
   "source": [
    "interact(h, p=5, q=fixed(20));"
   ]
  },
  {
   "cell_type": "markdown",
   "id": "52cdb7bf",
   "metadata": {},
   "source": [
    "Se invocó la función `h` con valor de los argumentos `p` y `q`. "
   ]
  },
  {
   "cell_type": "code",
   "execution_count": 110,
   "id": "64505ec7",
   "metadata": {},
   "outputs": [
    {
     "data": {
      "application/vnd.jupyter.widget-view+json": {
       "model_id": "7ce9506b78894063ba082ab0cdb178e6",
       "version_major": 2,
       "version_minor": 0
      },
      "text/plain": [
       "IntSlider(value=10, max=30, min=-10)"
      ]
     },
     "execution_count": 110,
     "metadata": {},
     "output_type": "execute_result"
    }
   ],
   "source": [
    "widgets.IntSlider(min=-10, max=30, step=1, value=10)"
   ]
  },
  {
   "cell_type": "code",
   "execution_count": 111,
   "id": "f1c0c134",
   "metadata": {},
   "outputs": [
    {
     "data": {
      "application/vnd.jupyter.widget-view+json": {
       "model_id": "882165c5f89546ab8bb9c547005ef03c",
       "version_major": 2,
       "version_minor": 0
      },
      "text/plain": [
       "interactive(children=(IntSlider(value=10, description='x', max=30, min=-10), Output()), _dom_classes=('widget-…"
      ]
     },
     "metadata": {},
     "output_type": "display_data"
    }
   ],
   "source": [
    "interact(f, x=widgets.IntSlider(min=-10, max=30, step=1, value=10));"
   ]
  },
  {
   "cell_type": "markdown",
   "id": "12169f11",
   "metadata": {},
   "source": [
    "Se creó el widget `IntSlider` cuyo valor se pasa como argumento a la función `f(x)` "
   ]
  },
  {
   "cell_type": "code",
   "execution_count": 115,
   "id": "d58ecf45",
   "metadata": {},
   "outputs": [
    {
     "data": {
      "application/vnd.jupyter.widget-view+json": {
       "model_id": "99134e72a0f942c68938260584638986",
       "version_major": 2,
       "version_minor": 0
      },
      "text/plain": [
       "interactive(children=(IntSlider(value=2, description='x', max=4), Output()), _dom_classes=('widget-interact',)…"
      ]
     },
     "metadata": {},
     "output_type": "display_data"
    }
   ],
   "source": [
    "interact(f, x=(0,4));"
   ]
  },
  {
   "cell_type": "code",
   "execution_count": 117,
   "id": "b9822270",
   "metadata": {},
   "outputs": [
    {
     "data": {
      "application/vnd.jupyter.widget-view+json": {
       "model_id": "1372115a50e04105a63f2ae7057ab76e",
       "version_major": 2,
       "version_minor": 0
      },
      "text/plain": [
       "interactive(children=(IntSlider(value=4, description='x', max=8, step=2), Output()), _dom_classes=('widget-int…"
      ]
     },
     "metadata": {},
     "output_type": "display_data"
    }
   ],
   "source": [
    "interact(f, x=(0,8,2));"
   ]
  },
  {
   "cell_type": "code",
   "execution_count": 118,
   "id": "e17967fa",
   "metadata": {},
   "outputs": [
    {
     "data": {
      "application/vnd.jupyter.widget-view+json": {
       "model_id": "02401fb11a054a4ca080e5e5f9a7f8e2",
       "version_major": 2,
       "version_minor": 0
      },
      "text/plain": [
       "interactive(children=(FloatSlider(value=5.0, description='x', max=10.0), Output()), _dom_classes=('widget-inte…"
      ]
     },
     "metadata": {},
     "output_type": "display_data"
    }
   ],
   "source": [
    "interact(f, x=(0.0,10.0));"
   ]
  },
  {
   "cell_type": "code",
   "execution_count": 119,
   "id": "51ea2453",
   "metadata": {},
   "outputs": [
    {
     "data": {
      "application/vnd.jupyter.widget-view+json": {
       "model_id": "49faf04901294ae1bf61edc0e3252acf",
       "version_major": 2,
       "version_minor": 0
      },
      "text/plain": [
       "interactive(children=(FloatSlider(value=5.0, description='x', max=10.0, step=0.01), Output()), _dom_classes=('…"
      ]
     },
     "metadata": {},
     "output_type": "display_data"
    }
   ],
   "source": [
    "interact(f, x=(0.0,10.0,0.01));"
   ]
  },
  {
   "cell_type": "markdown",
   "id": "15b2e4ee",
   "metadata": {},
   "source": [
    "Se crearon por defecto los widgets `IntSlider`, `FlotSlider` con valores dentro de intervalos diferentes. "
   ]
  },
  {
   "cell_type": "code",
   "execution_count": 121,
   "id": "0d6d3e16",
   "metadata": {},
   "outputs": [
    {
     "data": {
      "application/vnd.jupyter.widget-view+json": {
       "model_id": "c9d99942574f466b9733d95f423a6b3b",
       "version_major": 2,
       "version_minor": 0
      },
      "text/plain": [
       "interactive(children=(Dropdown(description='x', options=('apples', 'oranges'), value='apples'), Output()), _do…"
      ]
     },
     "metadata": {},
     "output_type": "display_data"
    }
   ],
   "source": [
    "interact(f, x=['apples','oranges']);"
   ]
  },
  {
   "cell_type": "markdown",
   "id": "d3805352",
   "metadata": {},
   "source": [
    "Se creó por defecto una lista desplegable `Combobox` cuando se pasa una lista al argumento `x` "
   ]
  },
  {
   "cell_type": "code",
   "execution_count": 124,
   "id": "4afc5c8e",
   "metadata": {},
   "outputs": [
    {
     "data": {
      "application/vnd.jupyter.widget-view+json": {
       "model_id": "d266aae7ae824cd9b600398065bd0d3a",
       "version_major": 2,
       "version_minor": 0
      },
      "text/plain": [
       "interactive(children=(Dropdown(description='x', options=(('one', 10), ('two', 20)), value=10), Output()), _dom…"
      ]
     },
     "metadata": {},
     "output_type": "display_data"
    }
   ],
   "source": [
    "interact(f, x=[('one', 10), ('two', 20)]);"
   ]
  },
  {
   "cell_type": "markdown",
   "id": "9a103dda",
   "metadata": {},
   "source": [
    "Se creó por defecto una lista desplegable con valores tipo `tuple` dentro de una lista como valor del argumento `x` "
   ]
  },
  {
   "cell_type": "code",
   "execution_count": 126,
   "id": "b2060b56",
   "metadata": {},
   "outputs": [
    {
     "data": {
      "application/vnd.jupyter.widget-view+json": {
       "model_id": "e002ea607c78453f9c826f29d6cb3986",
       "version_major": 2,
       "version_minor": 0
      },
      "text/plain": [
       "interactive(children=(Combobox(value='Chicago', description='x', options=('Chicago', 'New York', 'Washington')…"
      ]
     },
     "metadata": {},
     "output_type": "display_data"
    }
   ],
   "source": [
    "interact(f, x=widgets.Combobox(options=[\"Chicago\", \"New York\", \"Washington\"], value=\"Chicago\"));"
   ]
  },
  {
   "cell_type": "markdown",
   "id": "ffa0de51",
   "metadata": {},
   "source": [
    "`Combobox` con opciones."
   ]
  },
  {
   "cell_type": "markdown",
   "id": "c0d9a8fd",
   "metadata": {},
   "source": [
    "Una forma _pythonica_ para vincular widgets con funciones es por medio de [decoradores](https://codigofacilito.com/articulos/decoradores-python)."
   ]
  },
  {
   "cell_type": "code",
   "execution_count": 120,
   "id": "4454ce36",
   "metadata": {},
   "outputs": [
    {
     "data": {
      "application/vnd.jupyter.widget-view+json": {
       "model_id": "aa1650f2a1f843759b65557ceeaa5d0e",
       "version_major": 2,
       "version_minor": 0
      },
      "text/plain": [
       "interactive(children=(FloatSlider(value=5.5, description='x', max=20.0, step=0.5), Output()), _dom_classes=('w…"
      ]
     },
     "metadata": {},
     "output_type": "display_data"
    }
   ],
   "source": [
    "@interact(x=(0.0,20.0,0.5))\n",
    "def h(x=5.5):\n",
    "    return x"
   ]
  },
  {
   "cell_type": "markdown",
   "id": "f2047710",
   "metadata": {},
   "source": [
    "### Interactive_output\n",
    "\n",
    "`interactive_output` proporciona flexibilidad adicional: puede controlar cómo se distribuyen los elementos de la interfaz de usuario.\n",
    "\n",
    "A diferencia de `interact`, `interactive_output` no genera una interfaz de usuario para los widgets. Esto es poderoso, porque significa que puede crearse un widget, ponerlo en un cuadro y luego pasar el widget a `interactive_output` y tener control sobre el widget y su diseño."
   ]
  },
  {
   "cell_type": "code",
   "execution_count": 138,
   "id": "f310776c",
   "metadata": {},
   "outputs": [
    {
     "data": {
      "application/vnd.jupyter.widget-view+json": {
       "model_id": "b3372fa86e884a54ade18a0647a0c9fe",
       "version_major": 2,
       "version_minor": 0
      },
      "text/plain": [
       "HBox(children=(VBox(children=(IntSlider(value=0, description='a'), IntSlider(value=0, description='b'), IntSli…"
      ]
     },
     "execution_count": 138,
     "metadata": {},
     "output_type": "execute_result"
    }
   ],
   "source": [
    "a = widgets.IntSlider(description='a')\n",
    "b = widgets.IntSlider(description='b')\n",
    "c = widgets.IntSlider(description='c')\n",
    "\n",
    "def f(a, b, c):\n",
    "    print('{}*{}*{}={}'.format(a, b, c, a*b*c))\n",
    "\n",
    "out = widgets.interactive_output(f, {'a': a, 'b': b, 'c': c})\n",
    "\n",
    "widgets.HBox([widgets.VBox([a, b, c]), out])"
   ]
  },
  {
   "cell_type": "markdown",
   "id": "49a8a584",
   "metadata": {},
   "source": [
    "En este ejemplo se apilaron los controles verticalmente, luego se coloca la salida de la función a la derecha."
   ]
  },
  {
   "cell_type": "markdown",
   "id": "acb4b04b",
   "metadata": {},
   "source": [
    "#### `Interactive_output` con funciones matemáticas"
   ]
  },
  {
   "cell_type": "code",
   "execution_count": 63,
   "id": "0f9fc00e",
   "metadata": {},
   "outputs": [],
   "source": [
    "import numpy as np\n",
    "import matplotlib.pyplot as plt"
   ]
  },
  {
   "cell_type": "markdown",
   "id": "1bae4514",
   "metadata": {},
   "source": [
    "Vamos a graficar la función $f(x)= 2x \\cdot sen(2 \\pi x)$"
   ]
  },
  {
   "cell_type": "code",
   "execution_count": 72,
   "id": "defda613",
   "metadata": {},
   "outputs": [
    {
     "data": {
      "text/plain": [
       "[<matplotlib.lines.Line2D at 0x7fa2a0c2d9f0>]"
      ]
     },
     "execution_count": 72,
     "metadata": {},
     "output_type": "execute_result"
    },
    {
     "data": {
      "image/png": "[encoded data removed]",
      "text/plain": [
       "<Figure size 640x480 with 1 Axes>"
      ]
     },
     "metadata": {},
     "output_type": "display_data"
    }
   ],
   "source": [
    "x = np.linspace(0,3, num=300)\n",
    "y = 2 * x * np.sin(2 * np.pi * x)\n",
    "plt.plot(x, y, color = '#43094a')"
   ]
  },
  {
   "cell_type": "markdown",
   "id": "5c729fde",
   "metadata": {},
   "source": [
    "La frecuencia o ciclo de repetición de la onda $2 \\cdot \\pi$ puede modificarse y enviarse como parámetro $f(x)$"
   ]
  },
  {
   "cell_type": "code",
   "execution_count": 77,
   "id": "17694bfa",
   "metadata": {},
   "outputs": [
    {
     "data": {
      "text/plain": [
       "[<matplotlib.lines.Line2D at 0x7fa2a0a67040>]"
      ]
     },
     "execution_count": 77,
     "metadata": {},
     "output_type": "execute_result"
    },
    {
     "data": {
      "image/png": "[encoded data removed]",
      "text/plain": [
       "<Figure size 640x480 with 1 Axes>"
      ]
     },
     "metadata": {},
     "output_type": "display_data"
    }
   ],
   "source": [
    "freq = 4*np.pi\n",
    "x = np.linspace(0,3, num=200)\n",
    "y = x * np.sin(freq * x)\n",
    "plt.plot(x, y, color = '#43094a')"
   ]
  },
  {
   "cell_type": "markdown",
   "id": "8b51e1eb",
   "metadata": {},
   "source": [
    "Para variar la frecuencia de manera más flexible, envolvemos el código de la gráfica en una función `pinta_funcion()` que recibe la frecuencia `freq` como argumento "
   ]
  },
  {
   "cell_type": "code",
   "execution_count": 84,
   "id": "d12a80ab",
   "metadata": {},
   "outputs": [],
   "source": [
    "def pinta_funcion(freq):\n",
    "    x = np.linspace(0,3, num=200)\n",
    "    y = x * np.sin(freq * x)\n",
    "    plt.plot(x, y, color = '#43094a' )\n",
    "    plt.ylim(-5, 5)\n",
    "    plt.title(\"Gráfica de función $f(x)= 2x \\cdot sen(freq \\cdot x)$ \")"
   ]
  },
  {
   "cell_type": "code",
   "execution_count": 85,
   "id": "df7b58a4",
   "metadata": {},
   "outputs": [
    {
     "data": {
      "image/png": "[encoded data removed]",
      "text/plain": [
       "<Figure size 640x480 with 1 Axes>"
      ]
     },
     "metadata": {},
     "output_type": "display_data"
    }
   ],
   "source": [
    "pinta_funcion(8 * np.pi)"
   ]
  },
  {
   "cell_type": "markdown",
   "id": "9241efb2",
   "metadata": {},
   "source": [
    "Usemos `interact` para agregar la frecuencia de forma interactiva"
   ]
  },
  {
   "cell_type": "code",
   "execution_count": 95,
   "id": "c6540f4f",
   "metadata": {},
   "outputs": [
    {
     "data": {
      "application/vnd.jupyter.widget-view+json": {
       "model_id": "5f77a803125948798ef425214bc09c6c",
       "version_major": 2,
       "version_minor": 0
      },
      "text/plain": [
       "HBox(children=(VBox(children=(FloatSlider(value=25.132741228718345, continuous_update=False, description='Frec…"
      ]
     },
     "execution_count": 95,
     "metadata": {},
     "output_type": "execute_result"
    }
   ],
   "source": [
    "FreqSlider = widgets.FloatSlider(\n",
    "    value=8 * np.pi,\n",
    "    min=2 * np.pi,\n",
    "    max=20 * np.pi ,\n",
    "    step=2 * np.pi,\n",
    "    description='Frecuencia',\n",
    "    disabled=False,\n",
    "    continuous_update=False,\n",
    "    orientation='horizontal',\n",
    "    readout=True,\n",
    "    readout_format='.2f',\n",
    ")\n",
    "\n",
    "out = widgets.interactive_output(pinta_funcion, {'freq':FreqSlider})\n",
    "widgets.HBox([widgets.VBox([FreqSlider]), out])"
   ]
  }
 ],
 "metadata": {
  "kernelspec": {
   "display_name": "Python 3 (ipykernel)",
   "language": "python",
   "name": "python3"
  },
  "language_info": {
   "codemirror_mode": {
    "name": "ipython",
    "version": 3
   },
   "file_extension": ".py",
   "mimetype": "text/x-python",
   "name": "python",
   "nbconvert_exporter": "python",
   "pygments_lexer": "ipython3",
   "version": "3.10.10"
  }
 },
 "nbformat": 4,
 "nbformat_minor": 5
}
