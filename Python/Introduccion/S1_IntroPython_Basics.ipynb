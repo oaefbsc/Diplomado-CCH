{
 "cells": [
  {
   "cell_type": "markdown",
   "id": "c4423b1e",
   "metadata": {},
   "source": [
    "# Introducción a Python"
   ]
  },
  {
   "cell_type": "markdown",
   "id": "f6e9d88e",
   "metadata": {},
   "source": [
    "En esta introducción al lenguaje de programación Python versión 3.10 se va a estudiar la sintaxis básica del lenguaje, el manejo de cadenas, la creación de funciones, el control de flujo, estructuras básicas de datos, manejo de archivos y otras delicias que proporciona este lenguaje de programación.\n",
    "\n",
    "El propósito de aprender Python es dar a conocer las **estrategias modernas** en la programación. No dejan de ser útiles lenguajes de programación como C, C++, o Java; sin embargo, nuevas herramientas computacionales junto con el gran avance del hardware nos obliga a conocer lo que hemos llamando en este diplomado _lenguajes de nueva generación_.\n",
    "\n",
    "No solo Python va a refrescar tu gusto por la programación, también te vas a divertir bastante.\n",
    "\n",
    "¡¡¡Vamos a codear un rato...!!!"
   ]
  },
  {
   "cell_type": "markdown",
   "id": "ece50c82",
   "metadata": {},
   "source": [
    "## Primero lo primero"
   ]
  },
  {
   "cell_type": "markdown",
   "id": "0ebd9b58",
   "metadata": {},
   "source": [
    "Los desarrolladores de Python, han incluido algunas sorpresas dentro del lenguaje y les han llamado **huevos de pascua**, un ejemplo de esto es el **zen de python** que es la filosofía o principios que con los que se rige el lenguaje."
   ]
  },
  {
   "cell_type": "code",
   "execution_count": 1,
   "id": "10c5c0e3",
   "metadata": {},
   "outputs": [
    {
     "name": "stdout",
     "output_type": "stream",
     "text": [
      "The Zen of Python, by Tim Peters\n",
      "\n",
      "Beautiful is better than ugly.\n",
      "Explicit is better than implicit.\n",
      "Simple is better than complex.\n",
      "Complex is better than complicated.\n",
      "Flat is better than nested.\n",
      "Sparse is better than dense.\n",
      "Readability counts.\n",
      "Special cases aren't special enough to break the rules.\n",
      "Although practicality beats purity.\n",
      "Errors should never pass silently.\n",
      "Unless explicitly silenced.\n",
      "In the face of ambiguity, refuse the temptation to guess.\n",
      "There should be one-- and preferably only one --obvious way to do it.\n",
      "Although that way may not be obvious at first unless you're Dutch.\n",
      "Now is better than never.\n",
      "Although never is often better than *right* now.\n",
      "If the implementation is hard to explain, it's a bad idea.\n",
      "If the implementation is easy to explain, it may be a good idea.\n",
      "Namespaces are one honking great idea -- let's do more of those!\n"
     ]
    }
   ],
   "source": [
    "# El Zen o filosofía de python \n",
    "import this"
   ]
  },
  {
   "cell_type": "markdown",
   "id": "3f8fde23",
   "metadata": {},
   "source": [
    "**Traducido lo podemos entender mejor:** \n",
    "\n",
    "```\n",
    "Bello es mejor que feo.\n",
    "Explícito es mejor que implícito.\n",
    "Simple es mejor que complejo.\n",
    "Complejo es mejor que complicado.\n",
    "Plano es mejor que anidado.\n",
    "Espaciado es mejor que denso.\n",
    "La legibilidad es importante.\n",
    "Los casos especiales no son lo suficientemente especiales \n",
    "como para romper las reglas.\n",
    "Sin embargo la practicidad le gana a la pureza.\n",
    "Los errores nunca deberían pasar silenciosamente.\n",
    "A menos que se silencien explícitamente.\n",
    "Frente a la ambigüedad, evitar la tentación de adivinar.\n",
    "Debería haber una, y preferiblemente solo una, manera obvia de hacerlo.\n",
    "A pesar de que eso no sea obvio al principio a menos que seas Holandés.\n",
    "Ahora es mejor que nunca.\n",
    "A pesar de que nunca es muchas veces mejor que *ahora* mismo.\n",
    "Si la implementación es difícil de explicar, es una mala idea.\n",
    "Si la implementación es fácil de explicar, puede que sea una buena idea.\n",
    "Los espacios de nombres son una gran idea, ¡tengamos más de esos!\n",
    "```"
   ]
  },
  {
   "cell_type": "markdown",
   "id": "f5019113",
   "metadata": {},
   "source": [
    "## Algunos \"Hola mundo\""
   ]
  },
  {
   "cell_type": "markdown",
   "id": "ad16f90a",
   "metadata": {},
   "source": [
    "**Lenguaje de programación Pascal**\n",
    "```Pascal\n",
    "program Hola;\n",
    "  begin\n",
    "    writeln ('Hola, mundo.');\n",
    "    readln\n",
    "  end.\n",
    "```"
   ]
  },
  {
   "cell_type": "markdown",
   "id": "4a5135d6",
   "metadata": {},
   "source": [
    "**Lenguaje de programación C:**\n",
    "\n",
    "```C\n",
    "#include <stdio.h>\n",
    "int main()\n",
    "{\n",
    "    printf( \"Hola mundo.\" );\n",
    "    getch(); \n",
    "    return 0;\n",
    "}\n",
    "```"
   ]
  },
  {
   "cell_type": "markdown",
   "id": "bbaec56a",
   "metadata": {},
   "source": [
    "**Lenguaje de programación Java:**\n",
    "\n",
    "```Java\n",
    "public class HolaMundo {\n",
    "    public static void main(String[] args) {\t\t\n",
    "\t\tSystem.out.println(\"Hola Mundo\");\n",
    "\t}\n",
    "}\n",
    "```"
   ]
  },
  {
   "cell_type": "markdown",
   "id": "8c15f400",
   "metadata": {},
   "source": [
    "Hola mundo en Python..."
   ]
  },
  {
   "cell_type": "code",
   "execution_count": 48,
   "id": "eb5b99ae",
   "metadata": {},
   "outputs": [
    {
     "name": "stdout",
     "output_type": "stream",
     "text": [
      "Hola mundo\n"
     ]
    }
   ],
   "source": [
    "print('Hola mundo')"
   ]
  },
  {
   "cell_type": "markdown",
   "id": "b2cad811",
   "metadata": {},
   "source": [
    "## Python como calculadora"
   ]
  },
  {
   "cell_type": "markdown",
   "id": "04aef73d",
   "metadata": {},
   "source": [
    "### Operadores aritméticos "
   ]
  },
  {
   "cell_type": "code",
   "execution_count": 50,
   "id": "9ce960ae",
   "metadata": {},
   "outputs": [
    {
     "data": {
      "text/plain": [
       "8"
      ]
     },
     "execution_count": 50,
     "metadata": {},
     "output_type": "execute_result"
    }
   ],
   "source": [
    "# suma\n",
    "6 + 2"
   ]
  },
  {
   "cell_type": "code",
   "execution_count": 51,
   "id": "90eb26be",
   "metadata": {},
   "outputs": [
    {
     "data": {
      "text/plain": [
       "2"
      ]
     },
     "execution_count": 51,
     "metadata": {},
     "output_type": "execute_result"
    }
   ],
   "source": [
    "# resta\n",
    "5 - 3 "
   ]
  },
  {
   "cell_type": "code",
   "execution_count": 52,
   "id": "a92bd3bc",
   "metadata": {},
   "outputs": [
    {
     "data": {
      "text/plain": [
       "32"
      ]
     },
     "execution_count": 52,
     "metadata": {},
     "output_type": "execute_result"
    }
   ],
   "source": [
    "# multiplicación\n",
    "2 ** 5"
   ]
  },
  {
   "cell_type": "code",
   "execution_count": 53,
   "id": "40191199",
   "metadata": {},
   "outputs": [
    {
     "data": {
      "text/plain": [
       "1.3333333333333333"
      ]
     },
     "execution_count": 53,
     "metadata": {},
     "output_type": "execute_result"
    }
   ],
   "source": [
    "# división entera\n",
    "4 / 3"
   ]
  },
  {
   "cell_type": "code",
   "execution_count": 54,
   "id": "ebe4901c",
   "metadata": {},
   "outputs": [
    {
     "data": {
      "text/plain": [
       "2"
      ]
     },
     "execution_count": 54,
     "metadata": {},
     "output_type": "execute_result"
    }
   ],
   "source": [
    "# división real\n",
    "4 // 2 "
   ]
  },
  {
   "cell_type": "code",
   "execution_count": 55,
   "id": "67c769f7",
   "metadata": {},
   "outputs": [
    {
     "data": {
      "text/plain": [
       "0"
      ]
     },
     "execution_count": 55,
     "metadata": {},
     "output_type": "execute_result"
    }
   ],
   "source": [
    "# módulo o residuo\n",
    "4 % 2"
   ]
  },
  {
   "cell_type": "code",
   "execution_count": 56,
   "id": "b8b9260c",
   "metadata": {},
   "outputs": [
    {
     "ename": "ZeroDivisionError",
     "evalue": "division by zero",
     "output_type": "error",
     "traceback": [
      "\u001b[0;31m---------------------------------------------------------------------------\u001b[0m",
      "\u001b[0;31mZeroDivisionError\u001b[0m                         Traceback (most recent call last)",
      "Cell \u001b[0;32mIn[56], line 2\u001b[0m\n\u001b[1;32m      1\u001b[0m \u001b[38;5;66;03m# error\u001b[39;00m\n\u001b[0;32m----> 2\u001b[0m \u001b[38;5;241;43m4\u001b[39;49m\u001b[43m \u001b[49m\u001b[38;5;241;43m/\u001b[39;49m\u001b[43m \u001b[49m\u001b[38;5;241;43m0\u001b[39;49m\n",
      "\u001b[0;31mZeroDivisionError\u001b[0m: division by zero"
     ]
    }
   ],
   "source": [
    "# error\n",
    "4 / 0"
   ]
  },
  {
   "cell_type": "markdown",
   "id": "7637d8aa",
   "metadata": {},
   "source": [
    "### Expresiones"
   ]
  },
  {
   "cell_type": "code",
   "execution_count": 58,
   "id": "3c03c364",
   "metadata": {},
   "outputs": [
    {
     "data": {
      "text/plain": [
       "2"
      ]
     },
     "execution_count": 58,
     "metadata": {},
     "output_type": "execute_result"
    }
   ],
   "source": [
    "3 + 4 -5"
   ]
  },
  {
   "cell_type": "code",
   "execution_count": 59,
   "id": "665d8177",
   "metadata": {},
   "outputs": [
    {
     "data": {
      "text/plain": [
       "19.333333333333332"
      ]
     },
     "execution_count": 59,
     "metadata": {},
     "output_type": "execute_result"
    }
   ],
   "source": [
    "4 * 5 - 2 / 3"
   ]
  },
  {
   "cell_type": "code",
   "execution_count": 60,
   "id": "ed52181c",
   "metadata": {},
   "outputs": [
    {
     "data": {
      "text/plain": [
       "17.333333333333332"
      ]
     },
     "execution_count": 60,
     "metadata": {},
     "output_type": "execute_result"
    }
   ],
   "source": [
    "4 * (5 - 2 / 3)"
   ]
  },
  {
   "cell_type": "code",
   "execution_count": 61,
   "id": "e9dd4209",
   "metadata": {},
   "outputs": [
    {
     "data": {
      "text/plain": [
       "95"
      ]
     },
     "execution_count": 61,
     "metadata": {},
     "output_type": "execute_result"
    }
   ],
   "source": [
    "-10 * 3 + 5 ** 3"
   ]
  },
  {
   "cell_type": "code",
   "execution_count": 62,
   "id": "f8228cce",
   "metadata": {},
   "outputs": [
    {
     "data": {
      "text/plain": [
       "27"
      ]
     },
     "execution_count": 62,
     "metadata": {},
     "output_type": "execute_result"
    }
   ],
   "source": [
    "(4 + 5) * 3"
   ]
  },
  {
   "cell_type": "markdown",
   "id": "a758f7e7",
   "metadata": {},
   "source": [
    "Los operadores aritméticos tienen **jerarquía de operación o precedencia**. De la mayor a la menor precedencia se tiene:\n",
    "- potencia: **\n",
    "- negación: -\n",
    "- multiplicación, división real, division entera, módulo: * / // %\n",
    "- suma y resta: + -\n",
    "- paréntesis: (), modifica la precedencia."
   ]
  },
  {
   "cell_type": "markdown",
   "id": "19f9761e",
   "metadata": {},
   "source": [
    "### Variables"
   ]
  },
  {
   "cell_type": "markdown",
   "id": "de671c80",
   "metadata": {},
   "source": [
    "Para asignar valores a variables utilizamos el operador `=`"
   ]
  },
  {
   "cell_type": "code",
   "execution_count": null,
   "id": "6bd17629",
   "metadata": {},
   "outputs": [],
   "source": [
    "# asignación\n",
    "beta = 2\n",
    "beta"
   ]
  },
  {
   "cell_type": "code",
   "execution_count": 63,
   "id": "7c7b0b3d",
   "metadata": {},
   "outputs": [
    {
     "data": {
      "text/plain": [
       "120.0"
      ]
     },
     "execution_count": 63,
     "metadata": {},
     "output_type": "execute_result"
    }
   ],
   "source": [
    "# Área del triángulo\n",
    "base = 12\n",
    "altura = 20\n",
    "area = base * altura / 2\n",
    "area"
   ]
  },
  {
   "cell_type": "markdown",
   "id": "5d22f30a",
   "metadata": {},
   "source": [
    "Podemos colocar un `_` frente al texto para nombrar variables"
   ]
  },
  {
   "cell_type": "code",
   "execution_count": 75,
   "id": "dcdd2a33",
   "metadata": {},
   "outputs": [],
   "source": [
    "# nombre legal de variables\n",
    "hola = 10\n",
    "_num = 2.5\n",
    "num2 = 2.777"
   ]
  },
  {
   "cell_type": "code",
   "execution_count": 76,
   "id": "73a01d3f",
   "metadata": {},
   "outputs": [
    {
     "data": {
      "text/plain": [
       "10"
      ]
     },
     "execution_count": 76,
     "metadata": {},
     "output_type": "execute_result"
    }
   ],
   "source": [
    "hola"
   ]
  },
  {
   "cell_type": "code",
   "execution_count": 77,
   "id": "9d522d89",
   "metadata": {},
   "outputs": [
    {
     "data": {
      "text/plain": [
       "2.5"
      ]
     },
     "execution_count": 77,
     "metadata": {},
     "output_type": "execute_result"
    }
   ],
   "source": [
    "_num"
   ]
  },
  {
   "cell_type": "code",
   "execution_count": 78,
   "id": "ae6c3b48",
   "metadata": {},
   "outputs": [
    {
     "data": {
      "text/plain": [
       "2.777"
      ]
     },
     "execution_count": 78,
     "metadata": {},
     "output_type": "execute_result"
    }
   ],
   "source": [
    "num2"
   ]
  },
  {
   "cell_type": "markdown",
   "id": "eacd3c8f",
   "metadata": {},
   "source": [
    "Python permite usar letras griegas como variables. Por ejemplo usemos $\\alpha$ con la combinación `\\` + `alpha` + `TAB`"
   ]
  },
  {
   "cell_type": "code",
   "execution_count": 66,
   "id": "b2592646",
   "metadata": {},
   "outputs": [],
   "source": [
    "# variable con símbolos griegos\n",
    "α = 10"
   ]
  },
  {
   "cell_type": "code",
   "execution_count": 67,
   "id": "582871ad",
   "metadata": {},
   "outputs": [
    {
     "data": {
      "text/plain": [
       "10"
      ]
     },
     "execution_count": 67,
     "metadata": {},
     "output_type": "execute_result"
    }
   ],
   "source": [
    "α"
   ]
  },
  {
   "cell_type": "markdown",
   "id": "70c98f39",
   "metadata": {},
   "source": [
    "Una buena práctica es nombrar variables con un descriptor explícito del valor que guarda. Es posible usar el autocompletador con la tecla `TAB`"
   ]
  },
  {
   "cell_type": "code",
   "execution_count": 80,
   "id": "021fbe7d",
   "metadata": {},
   "outputs": [
    {
     "data": {
      "text/plain": [
       "15"
      ]
     },
     "execution_count": 80,
     "metadata": {},
     "output_type": "execute_result"
    }
   ],
   "source": [
    "# Convención para nombrar variables\n",
    "tiempo_segs = 15\n",
    "tiempo_segs"
   ]
  },
  {
   "cell_type": "code",
   "execution_count": 68,
   "id": "be53dc4c",
   "metadata": {},
   "outputs": [],
   "source": [
    "nota_historia = 100\n",
    "nota_matemáticas = 82\n",
    "promedio_notas = nota_historia + nota_matemáticas"
   ]
  },
  {
   "cell_type": "markdown",
   "id": "e5cbcf19",
   "metadata": {},
   "source": [
    "Python no permite iniciar el nombre de una variable con caracteres numéricos"
   ]
  },
  {
   "cell_type": "code",
   "execution_count": 79,
   "id": "1d50668e",
   "metadata": {},
   "outputs": [
    {
     "ename": "SyntaxError",
     "evalue": "invalid decimal literal (488476798.py, line 2)",
     "output_type": "error",
     "traceback": [
      "\u001b[0;36m  Cell \u001b[0;32mIn[79], line 2\u001b[0;36m\u001b[0m\n\u001b[0;31m    3area = 3\u001b[0m\n\u001b[0m    ^\u001b[0m\n\u001b[0;31mSyntaxError\u001b[0m\u001b[0;31m:\u001b[0m invalid decimal literal\n"
     ]
    }
   ],
   "source": [
    "# nombre ilegal de variables\n",
    "3area = 3"
   ]
  },
  {
   "cell_type": "markdown",
   "id": "e2ef0785",
   "metadata": {},
   "source": [
    "### Tipos de datos"
   ]
  },
  {
   "cell_type": "markdown",
   "id": "179b76b0",
   "metadata": {},
   "source": [
    "Aunque en Python no es necesario definir el tipo de dato que guardará una variable, el ínterprete del lenguaje intuye el tipo de dato del que se trata. La función predefinida `type()` devuelve el tipo de dato del valor que se pasa como argumento."
   ]
  },
  {
   "cell_type": "code",
   "execution_count": 81,
   "id": "1791a237",
   "metadata": {},
   "outputs": [
    {
     "data": {
      "text/plain": [
       "int"
      ]
     },
     "execution_count": 81,
     "metadata": {},
     "output_type": "execute_result"
    }
   ],
   "source": [
    "type(5)"
   ]
  },
  {
   "cell_type": "code",
   "execution_count": 82,
   "id": "c1a22015",
   "metadata": {},
   "outputs": [
    {
     "data": {
      "text/plain": [
       "float"
      ]
     },
     "execution_count": 82,
     "metadata": {},
     "output_type": "execute_result"
    }
   ],
   "source": [
    "type(5.0)"
   ]
  },
  {
   "cell_type": "code",
   "execution_count": 83,
   "id": "2a7789f1",
   "metadata": {},
   "outputs": [
    {
     "data": {
      "text/plain": [
       "str"
      ]
     },
     "execution_count": 83,
     "metadata": {},
     "output_type": "execute_result"
    }
   ],
   "source": [
    "type('hola')"
   ]
  },
  {
   "cell_type": "code",
   "execution_count": 84,
   "id": "e84e288c",
   "metadata": {},
   "outputs": [
    {
     "data": {
      "text/plain": [
       "complex"
      ]
     },
     "execution_count": 84,
     "metadata": {},
     "output_type": "execute_result"
    }
   ],
   "source": [
    "type(1+5j)"
   ]
  },
  {
   "cell_type": "markdown",
   "id": "f619a685",
   "metadata": {},
   "source": [
    "En Python es posible hacer **conversiones explícitas de tipos**"
   ]
  },
  {
   "cell_type": "code",
   "execution_count": 85,
   "id": "8ac4a6e8",
   "metadata": {},
   "outputs": [
    {
     "data": {
      "text/plain": [
       "5"
      ]
     },
     "execution_count": 85,
     "metadata": {},
     "output_type": "execute_result"
    }
   ],
   "source": [
    "int(5.0)"
   ]
  },
  {
   "cell_type": "code",
   "execution_count": 86,
   "id": "163e91e3",
   "metadata": {},
   "outputs": [
    {
     "data": {
      "text/plain": [
       "4.0"
      ]
     },
     "execution_count": 86,
     "metadata": {},
     "output_type": "execute_result"
    }
   ],
   "source": [
    "float(4)"
   ]
  },
  {
   "cell_type": "code",
   "execution_count": 87,
   "id": "7a79b57c",
   "metadata": {},
   "outputs": [
    {
     "data": {
      "text/plain": [
       "'3'"
      ]
     },
     "execution_count": 87,
     "metadata": {},
     "output_type": "execute_result"
    }
   ],
   "source": [
    "str(3)"
   ]
  },
  {
   "cell_type": "code",
   "execution_count": 88,
   "id": "25268946",
   "metadata": {},
   "outputs": [
    {
     "data": {
      "text/plain": [
       "'3'"
      ]
     },
     "execution_count": 88,
     "metadata": {},
     "output_type": "execute_result"
    }
   ],
   "source": [
    "tres = str(3)\n",
    "tres"
   ]
  },
  {
   "cell_type": "code",
   "execution_count": 90,
   "id": "e8d8f8fc",
   "metadata": {},
   "outputs": [
    {
     "data": {
      "text/plain": [
       "'333'"
      ]
     },
     "execution_count": 90,
     "metadata": {},
     "output_type": "execute_result"
    }
   ],
   "source": [
    "tres * 3"
   ]
  },
  {
   "cell_type": "markdown",
   "id": "9203b29c",
   "metadata": {},
   "source": [
    "> El operador `*` que opera sobre una cadena y un entero $n$ genera la réplica de la cadena $n$ veces"
   ]
  },
  {
   "cell_type": "code",
   "execution_count": 89,
   "id": "e1e0f769",
   "metadata": {},
   "outputs": [
    {
     "data": {
      "text/plain": [
       "333"
      ]
     },
     "execution_count": 89,
     "metadata": {},
     "output_type": "execute_result"
    }
   ],
   "source": [
    "int (tres * 3)"
   ]
  },
  {
   "cell_type": "markdown",
   "id": "04fa430d",
   "metadata": {},
   "source": [
    "### Funciones predefinidas "
   ]
  },
  {
   "cell_type": "markdown",
   "id": "4d5adee5",
   "metadata": {},
   "source": [
    "Python ofrece varias funciones predefinidas o **built-in functions**"
   ]
  },
  {
   "cell_type": "code",
   "execution_count": 91,
   "id": "423175ac",
   "metadata": {},
   "outputs": [
    {
     "data": {
      "text/plain": [
       "36.7"
      ]
     },
     "execution_count": 91,
     "metadata": {},
     "output_type": "execute_result"
    }
   ],
   "source": [
    "# calcula el mayor\n",
    "max(36.7, 23.4)"
   ]
  },
  {
   "cell_type": "code",
   "execution_count": 92,
   "id": "33a341b3",
   "metadata": {},
   "outputs": [
    {
     "data": {
      "text/plain": [
       "8.42"
      ]
     },
     "execution_count": 92,
     "metadata": {},
     "output_type": "execute_result"
    }
   ],
   "source": [
    "max(8.34, 8.25, 8.35, 8.42)"
   ]
  },
  {
   "cell_type": "code",
   "execution_count": 93,
   "id": "3f2b8e50",
   "metadata": {},
   "outputs": [
    {
     "data": {
      "text/plain": [
       "2"
      ]
     },
     "execution_count": 93,
     "metadata": {},
     "output_type": "execute_result"
    }
   ],
   "source": [
    "# redonde al entero mayor\n",
    "round(1.745)"
   ]
  },
  {
   "cell_type": "code",
   "execution_count": 94,
   "id": "eb0c3c2c",
   "metadata": {},
   "outputs": [
    {
     "data": {
      "text/plain": [
       "['ArithmeticError',\n",
       " 'AssertionError',\n",
       " 'AttributeError',\n",
       " 'BaseException',\n",
       " 'BlockingIOError',\n",
       " 'BrokenPipeError',\n",
       " 'BufferError',\n",
       " 'BytesWarning',\n",
       " 'ChildProcessError',\n",
       " 'ConnectionAbortedError',\n",
       " 'ConnectionError',\n",
       " 'ConnectionRefusedError',\n",
       " 'ConnectionResetError',\n",
       " 'DeprecationWarning',\n",
       " 'EOFError',\n",
       " 'Ellipsis',\n",
       " 'EncodingWarning',\n",
       " 'EnvironmentError',\n",
       " 'Exception',\n",
       " 'False',\n",
       " 'FileExistsError',\n",
       " 'FileNotFoundError',\n",
       " 'FloatingPointError',\n",
       " 'FutureWarning',\n",
       " 'GeneratorExit',\n",
       " 'IOError',\n",
       " 'ImportError',\n",
       " 'ImportWarning',\n",
       " 'IndentationError',\n",
       " 'IndexError',\n",
       " 'InterruptedError',\n",
       " 'IsADirectoryError',\n",
       " 'KeyError',\n",
       " 'KeyboardInterrupt',\n",
       " 'LookupError',\n",
       " 'MemoryError',\n",
       " 'ModuleNotFoundError',\n",
       " 'NameError',\n",
       " 'None',\n",
       " 'NotADirectoryError',\n",
       " 'NotImplemented',\n",
       " 'NotImplementedError',\n",
       " 'OSError',\n",
       " 'OverflowError',\n",
       " 'PendingDeprecationWarning',\n",
       " 'PermissionError',\n",
       " 'ProcessLookupError',\n",
       " 'RecursionError',\n",
       " 'ReferenceError',\n",
       " 'ResourceWarning',\n",
       " 'RuntimeError',\n",
       " 'RuntimeWarning',\n",
       " 'StopAsyncIteration',\n",
       " 'StopIteration',\n",
       " 'SyntaxError',\n",
       " 'SyntaxWarning',\n",
       " 'SystemError',\n",
       " 'SystemExit',\n",
       " 'TabError',\n",
       " 'TimeoutError',\n",
       " 'True',\n",
       " 'TypeError',\n",
       " 'UnboundLocalError',\n",
       " 'UnicodeDecodeError',\n",
       " 'UnicodeEncodeError',\n",
       " 'UnicodeError',\n",
       " 'UnicodeTranslateError',\n",
       " 'UnicodeWarning',\n",
       " 'UserWarning',\n",
       " 'ValueError',\n",
       " 'Warning',\n",
       " 'ZeroDivisionError',\n",
       " '__IPYTHON__',\n",
       " '__build_class__',\n",
       " '__debug__',\n",
       " '__doc__',\n",
       " '__import__',\n",
       " '__loader__',\n",
       " '__name__',\n",
       " '__package__',\n",
       " '__spec__',\n",
       " 'abs',\n",
       " 'aiter',\n",
       " 'all',\n",
       " 'anext',\n",
       " 'any',\n",
       " 'ascii',\n",
       " 'bin',\n",
       " 'bool',\n",
       " 'breakpoint',\n",
       " 'bytearray',\n",
       " 'bytes',\n",
       " 'callable',\n",
       " 'chr',\n",
       " 'classmethod',\n",
       " 'compile',\n",
       " 'complex',\n",
       " 'copyright',\n",
       " 'credits',\n",
       " 'delattr',\n",
       " 'dict',\n",
       " 'dir',\n",
       " 'display',\n",
       " 'divmod',\n",
       " 'enumerate',\n",
       " 'eval',\n",
       " 'exec',\n",
       " 'execfile',\n",
       " 'filter',\n",
       " 'float',\n",
       " 'format',\n",
       " 'frozenset',\n",
       " 'get_ipython',\n",
       " 'getattr',\n",
       " 'globals',\n",
       " 'hasattr',\n",
       " 'hash',\n",
       " 'help',\n",
       " 'hex',\n",
       " 'id',\n",
       " 'input',\n",
       " 'int',\n",
       " 'isinstance',\n",
       " 'issubclass',\n",
       " 'iter',\n",
       " 'len',\n",
       " 'license',\n",
       " 'list',\n",
       " 'locals',\n",
       " 'map',\n",
       " 'max',\n",
       " 'memoryview',\n",
       " 'min',\n",
       " 'next',\n",
       " 'object',\n",
       " 'oct',\n",
       " 'open',\n",
       " 'ord',\n",
       " 'pow',\n",
       " 'print',\n",
       " 'property',\n",
       " 'range',\n",
       " 'repr',\n",
       " 'reversed',\n",
       " 'round',\n",
       " 'runfile',\n",
       " 'set',\n",
       " 'setattr',\n",
       " 'slice',\n",
       " 'sorted',\n",
       " 'staticmethod',\n",
       " 'str',\n",
       " 'sum',\n",
       " 'super',\n",
       " 'tuple',\n",
       " 'type',\n",
       " 'vars',\n",
       " 'zip']"
      ]
     },
     "execution_count": 94,
     "metadata": {},
     "output_type": "execute_result"
    }
   ],
   "source": [
    "# Ayuda sobre las funciones predefinidas en Python3\n",
    "dir(__builtins__)"
   ]
  },
  {
   "cell_type": "code",
   "execution_count": 95,
   "id": "de757ae5",
   "metadata": {},
   "outputs": [
    {
     "name": "stdout",
     "output_type": "stream",
     "text": [
      "Help on built-in function abs in module builtins:\n",
      "\n",
      "abs(x, /)\n",
      "    Return the absolute value of the argument.\n",
      "\n"
     ]
    }
   ],
   "source": [
    "# Ayuda sobre una función específica\n",
    "help(abs)"
   ]
  },
  {
   "cell_type": "code",
   "execution_count": 96,
   "id": "0ccf3f6b",
   "metadata": {},
   "outputs": [
    {
     "data": {
      "text/plain": [
       "5"
      ]
     },
     "execution_count": 96,
     "metadata": {},
     "output_type": "execute_result"
    }
   ],
   "source": [
    "# devuelve el valor absoluto del argumento\n",
    "abs(-5)"
   ]
  },
  {
   "cell_type": "code",
   "execution_count": 97,
   "id": "4e126d40",
   "metadata": {},
   "outputs": [
    {
     "name": "stdout",
     "output_type": "stream",
     "text": [
      "Help on built-in function pow in module builtins:\n",
      "\n",
      "pow(base, exp, mod=None)\n",
      "    Equivalent to base**exp with 2 arguments or base**exp % mod with 3 arguments\n",
      "    \n",
      "    Some types, such as ints, are able to use a more efficient algorithm when\n",
      "    invoked using the three argument form.\n",
      "\n"
     ]
    }
   ],
   "source": [
    "help(pow)"
   ]
  },
  {
   "cell_type": "code",
   "execution_count": 98,
   "id": "0aff47ec",
   "metadata": {},
   "outputs": [
    {
     "data": {
      "text/plain": [
       "9"
      ]
     },
     "execution_count": 98,
     "metadata": {},
     "output_type": "execute_result"
    }
   ],
   "source": [
    "\n",
    "pow(3,2)"
   ]
  },
  {
   "cell_type": "markdown",
   "id": "9669e2ed",
   "metadata": {},
   "source": [
    "### Operadores relacionales"
   ]
  },
  {
   "cell_type": "markdown",
   "id": "6c536f41",
   "metadata": {},
   "source": [
    "El resultado de evaluar una operación que contenga **operadores relacionales** (o de comparación) será de tipo **bool**. Una variable de tipo bool solo puede tener uno de dos valores: `True` o `False`."
   ]
  },
  {
   "cell_type": "code",
   "execution_count": 3,
   "id": "589a5405",
   "metadata": {},
   "outputs": [
    {
     "data": {
      "text/plain": [
       "True"
      ]
     },
     "execution_count": 3,
     "metadata": {},
     "output_type": "execute_result"
    }
   ],
   "source": [
    "5 > 4"
   ]
  },
  {
   "cell_type": "code",
   "execution_count": 4,
   "id": "055980cc",
   "metadata": {},
   "outputs": [
    {
     "data": {
      "text/plain": [
       "False"
      ]
     },
     "execution_count": 4,
     "metadata": {},
     "output_type": "execute_result"
    }
   ],
   "source": [
    "5 < 4"
   ]
  },
  {
   "cell_type": "code",
   "execution_count": 5,
   "id": "27b596b2",
   "metadata": {},
   "outputs": [
    {
     "data": {
      "text/plain": [
       "False"
      ]
     },
     "execution_count": 5,
     "metadata": {},
     "output_type": "execute_result"
    }
   ],
   "source": [
    "3 <= 2"
   ]
  },
  {
   "cell_type": "code",
   "execution_count": 6,
   "id": "6c233d4d",
   "metadata": {},
   "outputs": [
    {
     "data": {
      "text/plain": [
       "True"
      ]
     },
     "execution_count": 6,
     "metadata": {},
     "output_type": "execute_result"
    }
   ],
   "source": [
    "3.5 >= 3.4"
   ]
  },
  {
   "cell_type": "code",
   "execution_count": 7,
   "id": "0fa5e447",
   "metadata": {},
   "outputs": [
    {
     "data": {
      "text/plain": [
       "True"
      ]
     },
     "execution_count": 7,
     "metadata": {},
     "output_type": "execute_result"
    }
   ],
   "source": [
    "2 == 2 "
   ]
  },
  {
   "cell_type": "code",
   "execution_count": 8,
   "id": "93b2d330",
   "metadata": {},
   "outputs": [
    {
     "data": {
      "text/plain": [
       "False"
      ]
     },
     "execution_count": 8,
     "metadata": {},
     "output_type": "execute_result"
    }
   ],
   "source": [
    "4 != 4"
   ]
  },
  {
   "cell_type": "code",
   "execution_count": 9,
   "id": "f5fd169b",
   "metadata": {},
   "outputs": [],
   "source": [
    "a = 4\n",
    "b = 5"
   ]
  },
  {
   "cell_type": "code",
   "execution_count": 10,
   "id": "a98ceb5a",
   "metadata": {},
   "outputs": [
    {
     "name": "stdout",
     "output_type": "stream",
     "text": [
      "False\n"
     ]
    }
   ],
   "source": [
    "print (a >= b)"
   ]
  },
  {
   "cell_type": "code",
   "execution_count": 11,
   "id": "1dad2a49",
   "metadata": {},
   "outputs": [
    {
     "name": "stdout",
     "output_type": "stream",
     "text": [
      "True\n"
     ]
    }
   ],
   "source": [
    "print (a != b)"
   ]
  },
  {
   "cell_type": "code",
   "execution_count": 12,
   "id": "9654b2e9",
   "metadata": {},
   "outputs": [
    {
     "name": "stdout",
     "output_type": "stream",
     "text": [
      "False\n"
     ]
    }
   ],
   "source": [
    "print (a == b)"
   ]
  },
  {
   "cell_type": "code",
   "execution_count": 13,
   "id": "6cdbcb46",
   "metadata": {},
   "outputs": [
    {
     "name": "stdout",
     "output_type": "stream",
     "text": [
      "True\n"
     ]
    }
   ],
   "source": [
    "print (a < b)"
   ]
  },
  {
   "cell_type": "markdown",
   "id": "ae101bd8",
   "metadata": {},
   "source": [
    "### Operadores lógicos"
   ]
  },
  {
   "cell_type": "markdown",
   "id": "8a208a2b",
   "metadata": {},
   "source": [
    "Los **operadores lógicos** operan sobre expresiones de tipo booleanas, es decir, cualquier expresión al evaluarse tenga como resultado `True` o `False`."
   ]
  },
  {
   "cell_type": "markdown",
   "id": "e1124a89",
   "metadata": {},
   "source": [
    "Tablas de verdad de `OR` y `AND`:\n",
    "\n",
    "|**A** |**B** |**OR**|**AND**|\n",
    "|------|------|------|-------|\n",
    "|True  |True  |True  | True  |\n",
    "|True  |False |True  | False |\n",
    "|False |True  |True  | False |\n",
    "|False |False |False | False |"
   ]
  },
  {
   "cell_type": "code",
   "execution_count": 14,
   "id": "31891c7a",
   "metadata": {},
   "outputs": [],
   "source": [
    "nota_matematicas = 80"
   ]
  },
  {
   "cell_type": "code",
   "execution_count": 15,
   "id": "55614632",
   "metadata": {},
   "outputs": [
    {
     "data": {
      "text/plain": [
       "True"
      ]
     },
     "execution_count": 15,
     "metadata": {},
     "output_type": "execute_result"
    }
   ],
   "source": [
    "nota_matematicas = 50"
   ]
  },
  {
   "cell_type": "code",
   "execution_count": 16,
   "id": "c34786fe",
   "metadata": {},
   "outputs": [
    {
     "data": {
      "text/plain": [
       "False"
      ]
     },
     "execution_count": 16,
     "metadata": {},
     "output_type": "execute_result"
    }
   ],
   "source": [
    "not(nota_matematicas >= 50)"
   ]
  },
  {
   "cell_type": "code",
   "execution_count": 17,
   "id": "cc1ffa87",
   "metadata": {},
   "outputs": [],
   "source": [
    "nota_historia = 90"
   ]
  },
  {
   "cell_type": "code",
   "execution_count": 18,
   "id": "c660a1ca",
   "metadata": {},
   "outputs": [
    {
     "data": {
      "text/plain": [
       "False"
      ]
     },
     "execution_count": 18,
     "metadata": {},
     "output_type": "execute_result"
    }
   ],
   "source": [
    "(nota_matematicas >= 90 ) and (nota_historia >= 90)"
   ]
  },
  {
   "cell_type": "code",
   "execution_count": 19,
   "id": "0df141b1",
   "metadata": {},
   "outputs": [
    {
     "data": {
      "text/plain": [
       "True"
      ]
     },
     "execution_count": 19,
     "metadata": {},
     "output_type": "execute_result"
    }
   ],
   "source": [
    "(nota_matematicas >= 100) or (nota_historia >= 80)"
   ]
  },
  {
   "cell_type": "code",
   "execution_count": 20,
   "id": "cfcb643d",
   "metadata": {},
   "outputs": [
    {
     "data": {
      "text/plain": [
       "False"
      ]
     },
     "execution_count": 20,
     "metadata": {},
     "output_type": "execute_result"
    }
   ],
   "source": [
    "not ((nota_matematicas >= 100) or (nota_historia >= 80))"
   ]
  },
  {
   "cell_type": "code",
   "execution_count": 21,
   "id": "7aa810c4",
   "metadata": {},
   "outputs": [
    {
     "data": {
      "text/plain": [
       "True"
      ]
     },
     "execution_count": 21,
     "metadata": {},
     "output_type": "execute_result"
    }
   ],
   "source": [
    "not(nota_matematicas >= 100) or (nota_historia >= 80)"
   ]
  },
  {
   "cell_type": "code",
   "execution_count": 22,
   "id": "27b14bf6",
   "metadata": {},
   "outputs": [
    {
     "data": {
      "text/plain": [
       "True"
      ]
     },
     "execution_count": 22,
     "metadata": {},
     "output_type": "execute_result"
    }
   ],
   "source": [
    "(not nota_matematicas >= 100) or (nota_historia >= 80)"
   ]
  },
  {
   "cell_type": "code",
   "execution_count": 23,
   "id": "dbd6d8ca",
   "metadata": {},
   "outputs": [
    {
     "data": {
      "text/plain": [
       "True"
      ]
     },
     "execution_count": 23,
     "metadata": {},
     "output_type": "execute_result"
    }
   ],
   "source": [
    "not nota_matematicas >= 100 or nota_historia >= 80"
   ]
  },
  {
   "cell_type": "markdown",
   "id": "6d371c63",
   "metadata": {},
   "source": [
    "### Estructuras de control"
   ]
  },
  {
   "cell_type": "markdown",
   "id": "ef1a4b45",
   "metadata": {},
   "source": [
    "### IF-ELIF-ELSE"
   ]
  },
  {
   "cell_type": "markdown",
   "id": "42ef411b",
   "metadata": {},
   "source": [
    "**if-elif-else** es una estructura de control condicional"
   ]
  },
  {
   "cell_type": "code",
   "execution_count": 99,
   "id": "496f7807",
   "metadata": {},
   "outputs": [],
   "source": [
    "x = 5\n",
    "y = 2"
   ]
  },
  {
   "cell_type": "code",
   "execution_count": 100,
   "id": "e61fd380",
   "metadata": {},
   "outputs": [],
   "source": [
    "if x < y:\n",
    "    print('x es menor que y')"
   ]
  },
  {
   "cell_type": "code",
   "execution_count": 101,
   "id": "49050e2e",
   "metadata": {},
   "outputs": [],
   "source": [
    "if x < y:\n",
    "    print('x es menor que y')\n",
    "elif x == y:\n",
    "    print('x es igual que y')"
   ]
  },
  {
   "cell_type": "code",
   "execution_count": 102,
   "id": "0df79491",
   "metadata": {},
   "outputs": [
    {
     "name": "stdout",
     "output_type": "stream",
     "text": [
      "x es mayor que y\n"
     ]
    }
   ],
   "source": [
    "if x < y:\n",
    "    print('x es menor que y')\n",
    "elif x == y:\n",
    "    print ('x es igual que y')\n",
    "else:\n",
    "    print('x es mayor que y')"
   ]
  },
  {
   "cell_type": "markdown",
   "id": "734ff849",
   "metadata": {},
   "source": [
    "> El cuerpo de `if`, `elif`, `else` está dado por una **identación** de un tabulador (4 espacios) y precedido por `:`"
   ]
  },
  {
   "cell_type": "markdown",
   "id": "522e72f9",
   "metadata": {},
   "source": [
    "### WHILE"
   ]
  },
  {
   "cell_type": "markdown",
   "id": "351edc1f",
   "metadata": {},
   "source": [
    "**While**: Es una estructura de control iterativa que requiere una variable de control, un valor inicial y final, actualización de la variable de control"
   ]
  },
  {
   "cell_type": "code",
   "execution_count": 28,
   "id": "8ce74252",
   "metadata": {},
   "outputs": [
    {
     "name": "stdout",
     "output_type": "stream",
     "text": [
      "0\n",
      "1\n",
      "2\n",
      "3\n",
      "4\n",
      "5\n",
      "6\n",
      "7\n",
      "8\n",
      "9\n"
     ]
    }
   ],
   "source": [
    "i = 0\n",
    "while i < 10:\n",
    "    print(i)\n",
    "    i = i + 1"
   ]
  },
  {
   "cell_type": "markdown",
   "id": "af551d41",
   "metadata": {},
   "source": [
    "Con la instrucción `break` el ciclo puede interrumpirse y terminar"
   ]
  },
  {
   "cell_type": "code",
   "execution_count": 29,
   "id": "87a2d8f6",
   "metadata": {},
   "outputs": [
    {
     "name": "stdout",
     "output_type": "stream",
     "text": [
      "0\n",
      "1\n",
      "2\n",
      "3\n",
      "4\n",
      "5\n"
     ]
    }
   ],
   "source": [
    "i = 0\n",
    "while i < 10:\n",
    "    print(i)\n",
    "    i = i + 1\n",
    "    if i > 5: break"
   ]
  },
  {
   "cell_type": "code",
   "execution_count": 30,
   "id": "f4de0bdc",
   "metadata": {},
   "outputs": [
    {
     "name": "stdout",
     "output_type": "stream",
     "text": [
      "0\n",
      "1\n",
      "2\n",
      "3\n",
      "4\n",
      "Fin del ciclo\n"
     ]
    }
   ],
   "source": [
    "i = 0\n",
    "while i < 5:\n",
    "    print(i)\n",
    "    i = i + 1\n",
    "else:\n",
    "    print('Fin del ciclo')"
   ]
  },
  {
   "cell_type": "markdown",
   "id": "7f21eb8b",
   "metadata": {},
   "source": [
    "### FOR"
   ]
  },
  {
   "cell_type": "markdown",
   "id": "bd85bc7f",
   "metadata": {},
   "source": [
    "`For` itera sobre un conjunto de valores\n"
   ]
  },
  {
   "cell_type": "code",
   "execution_count": 103,
   "id": "a3c84aa7",
   "metadata": {},
   "outputs": [
    {
     "name": "stdout",
     "output_type": "stream",
     "text": [
      "1\n",
      "2\n",
      "3\n",
      "4\n",
      "5\n"
     ]
    }
   ],
   "source": [
    "for i in 1, 2,3, 4, 5,:\n",
    "    print(i)"
   ]
  },
  {
   "cell_type": "code",
   "execution_count": 105,
   "id": "5d902650",
   "metadata": {},
   "outputs": [
    {
     "name": "stdout",
     "output_type": "stream",
     "text": [
      "1\n",
      "2\n",
      "3\n",
      "4\n",
      "5\n",
      "Fin del ciclo\n"
     ]
    }
   ],
   "source": [
    "for i in 1, 2, 3, 4, 5:\n",
    "    print(i)\n",
    "else:\n",
    "    print('Fin del ciclo')"
   ]
  },
  {
   "cell_type": "code",
   "execution_count": 106,
   "id": "96de18e4",
   "metadata": {},
   "outputs": [
    {
     "name": "stdout",
     "output_type": "stream",
     "text": [
      "1\n",
      "2\n",
      "3\n"
     ]
    }
   ],
   "source": [
    "for i in 1, 2, 3, 4, 5:\n",
    "    print(i)\n",
    "    if i == 3: break\n",
    "else:\n",
    "    print('Fin del ciclo')"
   ]
  },
  {
   "cell_type": "code",
   "execution_count": 107,
   "id": "68b49aba",
   "metadata": {},
   "outputs": [
    {
     "name": "stdout",
     "output_type": "stream",
     "text": [
      "1\n",
      "2\n",
      "3\n"
     ]
    }
   ],
   "source": [
    "for i in 1, 2, 3, 4, 5:\n",
    "    if i <= 3:\n",
    "        print(i)\n",
    "    else: \n",
    "        pass"
   ]
  },
  {
   "cell_type": "markdown",
   "id": "d679bf59",
   "metadata": {},
   "source": [
    "La palabra reservada `pass` permite omitir cierta ejecución "
   ]
  },
  {
   "cell_type": "code",
   "execution_count": 35,
   "id": "aa41567c",
   "metadata": {},
   "outputs": [
    {
     "name": "stdout",
     "output_type": "stream",
     "text": [
      "oscar\n",
      "arturo\n",
      "javier\n"
     ]
    }
   ],
   "source": [
    "for nom in \"oscar\", \"arturo\", \"javier\":\n",
    "    print (nom)"
   ]
  },
  {
   "cell_type": "markdown",
   "id": "2cabd731",
   "metadata": {},
   "source": [
    "#### Rangos"
   ]
  },
  {
   "cell_type": "markdown",
   "id": "feca53ab",
   "metadata": {},
   "source": [
    "El ciclo `for` requiere una variable de control y un objeto iterable. Un conjunto de valores específico puede construirse mediante el generador `range` que es un objeto de tipo `range` "
   ]
  },
  {
   "cell_type": "code",
   "execution_count": 111,
   "id": "17053a3b",
   "metadata": {},
   "outputs": [
    {
     "data": {
      "text/plain": [
       "range(0, 10)"
      ]
     },
     "execution_count": 111,
     "metadata": {},
     "output_type": "execute_result"
    }
   ],
   "source": [
    "range(10)"
   ]
  },
  {
   "cell_type": "code",
   "execution_count": 112,
   "id": "8f573e48",
   "metadata": {},
   "outputs": [
    {
     "data": {
      "text/plain": [
       "range"
      ]
     },
     "execution_count": 112,
     "metadata": {},
     "output_type": "execute_result"
    }
   ],
   "source": [
    "type(range(10))"
   ]
  },
  {
   "cell_type": "code",
   "execution_count": 113,
   "id": "359d1460",
   "metadata": {},
   "outputs": [
    {
     "name": "stdout",
     "output_type": "stream",
     "text": [
      "0\n",
      "1\n",
      "2\n",
      "3\n",
      "4\n",
      "5\n",
      "6\n",
      "7\n",
      "8\n",
      "9\n"
     ]
    }
   ],
   "source": [
    "# rango [0,10)\n",
    "for i in range(10):\n",
    "    print(i)"
   ]
  },
  {
   "cell_type": "code",
   "execution_count": 116,
   "id": "51c03cf7",
   "metadata": {},
   "outputs": [
    {
     "name": "stdout",
     "output_type": "stream",
     "text": [
      "3\n",
      "4\n",
      "5\n",
      "6\n",
      "7\n",
      "8\n",
      "9\n"
     ]
    }
   ],
   "source": [
    "# rango [3,10)\n",
    "for i in range(3,10):\n",
    "    print(i)"
   ]
  },
  {
   "cell_type": "code",
   "execution_count": 117,
   "id": "3c4de993",
   "metadata": {},
   "outputs": [
    {
     "name": "stdout",
     "output_type": "stream",
     "text": [
      "-10\n",
      "-8\n",
      "-6\n",
      "-4\n",
      "-2\n",
      "0\n",
      "2\n",
      "4\n",
      "6\n",
      "8\n"
     ]
    }
   ],
   "source": [
    "# rango [-10,10) con salto de 2\n",
    "for i in range(-10,10,2):\n",
    "    print(i)"
   ]
  },
  {
   "cell_type": "code",
   "execution_count": null,
   "id": "4e0ac2c0",
   "metadata": {},
   "outputs": [],
   "source": [
    "help(range)"
   ]
  },
  {
   "cell_type": "markdown",
   "id": "72517c75",
   "metadata": {},
   "source": [
    "Una cadena de caracteres es un **objeto iterable** "
   ]
  },
  {
   "cell_type": "code",
   "execution_count": 125,
   "id": "0fca416a",
   "metadata": {},
   "outputs": [],
   "source": [
    "cadena = 'Hola a todos en la clase!'"
   ]
  },
  {
   "cell_type": "code",
   "execution_count": 126,
   "id": "03214e69",
   "metadata": {},
   "outputs": [
    {
     "name": "stdout",
     "output_type": "stream",
     "text": [
      "H\n",
      "o\n",
      "l\n",
      "a\n",
      " \n",
      "a\n",
      " \n",
      "t\n",
      "o\n",
      "d\n",
      "o\n",
      "s\n",
      " \n",
      "e\n",
      "n\n",
      " \n",
      "l\n",
      "a\n",
      " \n",
      "c\n",
      "l\n",
      "a\n",
      "s\n",
      "e\n",
      "!\n"
     ]
    }
   ],
   "source": [
    "for c in cadena:\n",
    "    print(c)"
   ]
  },
  {
   "cell_type": "code",
   "execution_count": 127,
   "id": "d2ecaddf",
   "metadata": {},
   "outputs": [
    {
     "name": "stdout",
     "output_type": "stream",
     "text": [
      "9\n"
     ]
    }
   ],
   "source": [
    "numero_vocales = 0\n",
    "for c in cadena:\n",
    "    if c in 'aeiouAEIOU':\n",
    "        numero_vocales = numero_vocales + 1\n",
    "print (numero_vocales)"
   ]
  },
  {
   "cell_type": "code",
   "execution_count": 128,
   "id": "17f3097d",
   "metadata": {},
   "outputs": [
    {
     "name": "stdout",
     "output_type": "stream",
     "text": [
      "oaaooeaae\n"
     ]
    }
   ],
   "source": [
    "vocales = ''\n",
    "for c in cadena:\n",
    "    if c in 'aeiouAEIOU':\n",
    "        vocales = vocales + c\n",
    "print (vowels)"
   ]
  },
  {
   "cell_type": "markdown",
   "id": "b4b277db",
   "metadata": {},
   "source": [
    "#### Entrada y escritura de datos"
   ]
  },
  {
   "cell_type": "markdown",
   "id": "4c08c5e2",
   "metadata": {},
   "source": [
    "Las funciones `input()` y `print()` permiten escribir y recibir datos"
   ]
  },
  {
   "cell_type": "code",
   "execution_count": 131,
   "id": "36948e19",
   "metadata": {},
   "outputs": [
    {
     "name": "stdout",
     "output_type": "stream",
     "text": [
      "Hola, que tal!!!\n"
     ]
    }
   ],
   "source": [
    "print(\"Hola, que tal!!!\")"
   ]
  },
  {
   "cell_type": "code",
   "execution_count": 157,
   "id": "0239c22f",
   "metadata": {},
   "outputs": [
    {
     "name": "stdout",
     "output_type": "stream",
     "text": [
      "13\n"
     ]
    }
   ],
   "source": [
    "print(3 + 5 * 2)"
   ]
  },
  {
   "cell_type": "code",
   "execution_count": 158,
   "id": "c0b0e790",
   "metadata": {},
   "outputs": [
    {
     "name": "stdout",
     "output_type": "stream",
     "text": [
      "Hola ¿cómo estás?\n"
     ]
    }
   ],
   "source": [
    "print(\"Hola\", \"¿cómo estás?\")"
   ]
  },
  {
   "cell_type": "code",
   "execution_count": 161,
   "id": "142d73fd",
   "metadata": {},
   "outputs": [
    {
     "name": "stdout",
     "output_type": "stream",
     "text": [
      "Escribe un número: 5\n"
     ]
    }
   ],
   "source": [
    "a = input(\"Escribe un número: \")"
   ]
  },
  {
   "cell_type": "code",
   "execution_count": 162,
   "id": "6fd20d05",
   "metadata": {},
   "outputs": [
    {
     "data": {
      "text/plain": [
       "'5'"
      ]
     },
     "execution_count": 162,
     "metadata": {},
     "output_type": "execute_result"
    }
   ],
   "source": [
    "a"
   ]
  },
  {
   "cell_type": "code",
   "execution_count": 163,
   "id": "5a56c857",
   "metadata": {},
   "outputs": [
    {
     "name": "stdout",
     "output_type": "stream",
     "text": [
      "El número que escribiste es: 5\n"
     ]
    }
   ],
   "source": [
    "print(\"El número que escribiste es: \" + a)"
   ]
  },
  {
   "cell_type": "markdown",
   "id": "78beb43a",
   "metadata": {},
   "source": [
    "> `input()` lee datos crudos y los interpreta como cadanas, por lo que se debe hacer una conversión explícita cuando se trata de valores numéricos."
   ]
  },
  {
   "cell_type": "code",
   "execution_count": 159,
   "id": "7315c589",
   "metadata": {},
   "outputs": [
    {
     "name": "stdout",
     "output_type": "stream",
     "text": [
      "Escribe un número: 5\n"
     ]
    }
   ],
   "source": [
    "a = int(input(\"Escribe un número: \"))"
   ]
  },
  {
   "cell_type": "code",
   "execution_count": 164,
   "id": "acf62397",
   "metadata": {},
   "outputs": [
    {
     "data": {
      "text/plain": [
       "str"
      ]
     },
     "execution_count": 164,
     "metadata": {},
     "output_type": "execute_result"
    }
   ],
   "source": [
    "type(a)"
   ]
  },
  {
   "cell_type": "code",
   "execution_count": 141,
   "id": "278b870e",
   "metadata": {},
   "outputs": [
    {
     "name": "stdout",
     "output_type": "stream",
     "text": [
      "¿Estas cansado? (sí/no): nel\n",
      "¿Estas cansado? (sí/no): simón\n",
      "¿Estas cansado? (sí/no): sí\n",
      "sí\n"
     ]
    }
   ],
   "source": [
    "respuesta = input ('¿Estas cansado? (sí/no): ')\n",
    "while not (respuesta == 'sí' or respuesta == 'no'):\n",
    "    respuesta = input('¿Estas cansado? (sí/no): ')\n",
    "print (respuesta)"
   ]
  },
  {
   "cell_type": "markdown",
   "id": "f6aba9e9",
   "metadata": {},
   "source": [
    "Otra forma de recibir datos numéricos es utilizar la función `eval()`. Esta función puede ejecutar una expresión numérica válida."
   ]
  },
  {
   "cell_type": "code",
   "execution_count": 145,
   "id": "2e9d2718",
   "metadata": {},
   "outputs": [
    {
     "name": "stdout",
     "output_type": "stream",
     "text": [
      "Escribe un entero: 5\n",
      "5\n"
     ]
    }
   ],
   "source": [
    "numero = eval(input('Escribe un entero: '))\n",
    "print(numero)"
   ]
  },
  {
   "cell_type": "code",
   "execution_count": 146,
   "id": "55c5d5a0",
   "metadata": {},
   "outputs": [
    {
     "data": {
      "text/plain": [
       "str"
      ]
     },
     "execution_count": 146,
     "metadata": {},
     "output_type": "execute_result"
    }
   ],
   "source": [
    "type(respuesta)"
   ]
  },
  {
   "cell_type": "code",
   "execution_count": 147,
   "id": "a9bfb213",
   "metadata": {},
   "outputs": [
    {
     "name": "stdout",
     "output_type": "stream",
     "text": [
      "Escribe un entero: 5 + 3\n",
      "8\n"
     ]
    }
   ],
   "source": [
    "numero = eval(input('Escribe un entero: '))\n",
    "print(numero)"
   ]
  }
 ],
 "metadata": {
  "kernelspec": {
   "display_name": "Python 3 (ipykernel)",
   "language": "python",
   "name": "python3"
  },
  "language_info": {
   "codemirror_mode": {
    "name": "ipython",
    "version": 3
   },
   "file_extension": ".py",
   "mimetype": "text/x-python",
   "name": "python",
   "nbconvert_exporter": "python",
   "pygments_lexer": "ipython3",
   "version": "3.10.10"
  }
 },
 "nbformat": 4,
 "nbformat_minor": 5
}
