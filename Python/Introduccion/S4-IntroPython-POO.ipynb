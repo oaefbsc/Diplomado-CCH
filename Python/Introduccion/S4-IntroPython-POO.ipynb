{
 "cells": [
  {
   "cell_type": "markdown",
   "id": "43c8d8ad",
   "metadata": {},
   "source": [
    "# Introducción a Python"
   ]
  },
  {
   "cell_type": "markdown",
   "id": "95b713ba",
   "metadata": {},
   "source": [
    "## Programación Orientada a Objetos"
   ]
  },
  {
   "cell_type": "markdown",
   "id": "1e2e2d8a",
   "metadata": {},
   "source": [
    "El mecanismo primordial de Python es el manejo de objetos, _\"en pyton todo es un objeto\"_. Como se ha visto, las variables, datos, funciones y casi todos los elementos del lenguaje son objetos de ciertas claes con características propias, dotados de funcionalidades como constructores, métodos propios, implementación de funciones que objetos como argumentos y a los que puede acceder inmediatamente el programador.\n",
    "Aun cuando el se tienen tantos objetos, el intérprete de Python permite crear objetos bajo el paradigma de **Programación Orientada a Objetos**.\n",
    "El diseño e implementación de objetos y la creación de funcionalidad con otros objetos constituye una métodología de desarrollo de software.  "
   ]
  },
  {
   "cell_type": "markdown",
   "id": "d09ca1a1",
   "metadata": {},
   "source": [
    "## El modelo de objeto"
   ]
  },
  {
   "cell_type": "markdown",
   "id": "977b0d15",
   "metadata": {},
   "source": [
    "Concebir un objeto y sus propiedades constituye un medio natural de construcción (modelación) de la realidad para la cognición humana.\n",
    "\n",
    "Los _objetos_ son elementos concretos que poseen características propias y ciertos comportamientos:\n",
    "\n",
    "* La información necesaria para modelar el objeto se le denomina **atributos**\n",
    "* Las funciones o comportamientos relevantes del objeto se les conoce como **métodos**\n",
    "\n",
    "Para utilizar un objeto primero es necesarios construirlo, lo cual consiste en definir el tipo o **clase** de objeto al cual pertenecerá. Adicionalmente, se definen los estados posibles de cada uno de los comportamientos, así como un identificador de objeto para su referencia."
   ]
  },
  {
   "cell_type": "markdown",
   "id": "bfae82c4",
   "metadata": {},
   "source": [
    "Para mayor referencia de la POO en Python, aquí unas referencias:\n",
    "- [Programiz](https://www.programiz.com/python-programming/object-oriented-programming)\n",
    "- [El libro de Python](https://ellibrodepython.com/programacion-orientada-a-objetos)\n",
    "- [Uniwebsidad](https://uniwebsidad.com/libros/python/capitulo-5/pensar-en-objetos)\n"
   ]
  },
  {
   "cell_type": "markdown",
   "id": "7daaa1f6",
   "metadata": {},
   "source": [
    "### Clases"
   ]
  },
  {
   "cell_type": "markdown",
   "id": "2ef685b3",
   "metadata": {},
   "source": [
    "Una *clase* puede entenderse como una plantilla genérica mediante la cual se van a crear los objetos. En esta plantilla se van a definir los atributos y métodos que tendrán los objetos de dicha clase."
   ]
  },
  {
   "cell_type": "code",
   "execution_count": 6,
   "id": "dc588f81",
   "metadata": {},
   "outputs": [],
   "source": [
    "class Particula:\n",
    "    pass"
   ]
  },
  {
   "cell_type": "code",
   "execution_count": 5,
   "id": "6b1c88cc",
   "metadata": {},
   "outputs": [],
   "source": [
    "class Libro:\n",
    "    pass"
   ]
  },
  {
   "cell_type": "code",
   "execution_count": 8,
   "id": "1bc98dbe",
   "metadata": {},
   "outputs": [
    {
     "data": {
      "text/plain": [
       "type"
      ]
     },
     "execution_count": 8,
     "metadata": {},
     "output_type": "execute_result"
    }
   ],
   "source": [
    "type(Particula)"
   ]
  },
  {
   "cell_type": "code",
   "execution_count": 7,
   "id": "cffa4f0d",
   "metadata": {},
   "outputs": [
    {
     "data": {
      "text/plain": [
       "type"
      ]
     },
     "execution_count": 7,
     "metadata": {},
     "output_type": "execute_result"
    }
   ],
   "source": [
    "type(Libro)"
   ]
  },
  {
   "cell_type": "code",
   "execution_count": 24,
   "id": "5ec487f6",
   "metadata": {},
   "outputs": [
    {
     "name": "stdout",
     "output_type": "stream",
     "text": [
      "<class '__main__.Particula'>\n"
     ]
    }
   ],
   "source": [
    "print(Particula)"
   ]
  },
  {
   "cell_type": "code",
   "execution_count": 10,
   "id": "4e3f569e",
   "metadata": {},
   "outputs": [
    {
     "name": "stdout",
     "output_type": "stream",
     "text": [
      "<class '__main__.Libro'>\n"
     ]
    }
   ],
   "source": [
    "print(Libro)"
   ]
  },
  {
   "cell_type": "markdown",
   "id": "4e33be21",
   "metadata": {},
   "source": [
    "### Instancias"
   ]
  },
  {
   "cell_type": "markdown",
   "id": "335f22fa",
   "metadata": {},
   "source": [
    "La creación de variables de cierta clase se les conoce como **instancias** de la clase u objetos del tipo de la clase. La clase es la concepción abstracta de un objeto, mientras que el objeto instanciado es la materialización."
   ]
  },
  {
   "cell_type": "code",
   "execution_count": 61,
   "id": "0466f39a",
   "metadata": {},
   "outputs": [],
   "source": [
    "if __name__==\"__main__\":\n",
    "    a = Libro()\n",
    "    b = Libro()"
   ]
  },
  {
   "cell_type": "markdown",
   "id": "effcff77",
   "metadata": {},
   "source": [
    "Cuando un archivo de Python se ejecuta, Python asigna el nombre `__main__` al archivo. Este valor especifica el nombre del entorno donde se ejecuta el código de Python que comienza a ejecutarse (_código de nivel superior_)."
   ]
  },
  {
   "cell_type": "markdown",
   "id": "b13cd5cb",
   "metadata": {},
   "source": [
    "`__name__` es una variable especial de Python que existe en todos los módulos e indica su nombre. Por defecto es el nombre del archivo en el que se encuentra el código, salvo el archivo que se indica al intérprete de Python cuyo nombre es `__main__`\n",
    "."
   ]
  },
  {
   "cell_type": "code",
   "execution_count": 36,
   "id": "d193cbe6",
   "metadata": {},
   "outputs": [
    {
     "name": "stdout",
     "output_type": "stream",
     "text": [
      "El valor de __name__ es __main__\n"
     ]
    }
   ],
   "source": [
    "print(\"El valor de __name__ es {}\".format(__name__))"
   ]
  },
  {
   "cell_type": "code",
   "execution_count": 62,
   "id": "64a8abfe",
   "metadata": {},
   "outputs": [
    {
     "data": {
      "text/plain": [
       "<__main__.Libro at 0x7fb004091780>"
      ]
     },
     "execution_count": 62,
     "metadata": {},
     "output_type": "execute_result"
    }
   ],
   "source": [
    "a"
   ]
  },
  {
   "cell_type": "code",
   "execution_count": 63,
   "id": "acf52680",
   "metadata": {},
   "outputs": [
    {
     "data": {
      "text/plain": [
       "__main__.Libro"
      ]
     },
     "execution_count": 63,
     "metadata": {},
     "output_type": "execute_result"
    }
   ],
   "source": [
    "type(a)"
   ]
  },
  {
   "cell_type": "code",
   "execution_count": 64,
   "id": "60afb582",
   "metadata": {},
   "outputs": [
    {
     "name": "stdout",
     "output_type": "stream",
     "text": [
      "<__main__.Libro object at 0x7fb004091780>\n"
     ]
    }
   ],
   "source": [
    "print(a)"
   ]
  },
  {
   "cell_type": "code",
   "execution_count": 65,
   "id": "eb739627",
   "metadata": {},
   "outputs": [
    {
     "data": {
      "text/plain": [
       "<__main__.Libro at 0x7fb004091300>"
      ]
     },
     "execution_count": 65,
     "metadata": {},
     "output_type": "execute_result"
    }
   ],
   "source": [
    "b"
   ]
  },
  {
   "cell_type": "code",
   "execution_count": 66,
   "id": "568f80ac",
   "metadata": {},
   "outputs": [
    {
     "data": {
      "text/plain": [
       "__main__.Libro"
      ]
     },
     "execution_count": 66,
     "metadata": {},
     "output_type": "execute_result"
    }
   ],
   "source": [
    "type(b)"
   ]
  },
  {
   "cell_type": "code",
   "execution_count": 67,
   "id": "b5e0251d",
   "metadata": {},
   "outputs": [
    {
     "name": "stdout",
     "output_type": "stream",
     "text": [
      "<__main__.Libro object at 0x7fb004091300>\n"
     ]
    }
   ],
   "source": [
    "print(b)"
   ]
  },
  {
   "cell_type": "markdown",
   "id": "3eac3138",
   "metadata": {},
   "source": [
    "Hemos creado dos instancias diferentes de la clase **Libro** llamadas `a` e `b` en el módulo `__main__` "
   ]
  },
  {
   "cell_type": "code",
   "execution_count": 68,
   "id": "e45d1fe9",
   "metadata": {},
   "outputs": [],
   "source": [
    "c = a"
   ]
  },
  {
   "cell_type": "code",
   "execution_count": 69,
   "id": "92a3c6fe",
   "metadata": {},
   "outputs": [
    {
     "data": {
      "text/plain": [
       "<__main__.Libro at 0x7fb004091780>"
      ]
     },
     "execution_count": 69,
     "metadata": {},
     "output_type": "execute_result"
    }
   ],
   "source": [
    "c"
   ]
  },
  {
   "cell_type": "code",
   "execution_count": 55,
   "id": "7b6b611e",
   "metadata": {},
   "outputs": [
    {
     "data": {
      "text/plain": [
       "False"
      ]
     },
     "execution_count": 55,
     "metadata": {},
     "output_type": "execute_result"
    }
   ],
   "source": [
    "a == b"
   ]
  },
  {
   "cell_type": "code",
   "execution_count": 57,
   "id": "9cc25610",
   "metadata": {},
   "outputs": [
    {
     "data": {
      "text/plain": [
       "True"
      ]
     },
     "execution_count": 57,
     "metadata": {},
     "output_type": "execute_result"
    }
   ],
   "source": [
    "a == c"
   ]
  },
  {
   "cell_type": "markdown",
   "id": "29f9beeb",
   "metadata": {},
   "source": [
    "Además hemos creado una referencia `c` a `a`, esto es, un **alias* de `a`."
   ]
  },
  {
   "cell_type": "markdown",
   "id": "ac3806c8",
   "metadata": {},
   "source": [
    "> La comparación entre objetos toma como criterio la localidad de memoria a la que apuntan"
   ]
  },
  {
   "cell_type": "markdown",
   "id": "0986535a",
   "metadata": {},
   "source": [
    "### Atributos"
   ]
  },
  {
   "cell_type": "markdown",
   "id": "47bd274f",
   "metadata": {},
   "source": [
    "Un objeto puede tener características diversas, por ejemplo puede ser de tamaño pequeño, color verde, textura suave, etc. Se dice entonces que el _objeto tiene atributos con ciertas cualidades\"_. "
   ]
  },
  {
   "cell_type": "code",
   "execution_count": 76,
   "id": "0c92aca5",
   "metadata": {},
   "outputs": [],
   "source": [
    "class Libro:\n",
    "    pass"
   ]
  },
  {
   "cell_type": "code",
   "execution_count": 77,
   "id": "df82229d",
   "metadata": {},
   "outputs": [],
   "source": [
    "class Particula:\n",
    "    pass"
   ]
  },
  {
   "cell_type": "code",
   "execution_count": 78,
   "id": "7191549f",
   "metadata": {},
   "outputs": [],
   "source": [
    "a = Libro()\n",
    "p = Particula()"
   ]
  },
  {
   "cell_type": "markdown",
   "id": "ee2de1f3",
   "metadata": {},
   "source": [
    "Se hace referencia a los atributos de un objeto por medio de la notación `.`"
   ]
  },
  {
   "cell_type": "code",
   "execution_count": 79,
   "id": "95ecc1fa",
   "metadata": {},
   "outputs": [],
   "source": [
    "a.tamaño = \"mediano\"\n",
    "a.color = \"verde\""
   ]
  },
  {
   "cell_type": "code",
   "execution_count": 80,
   "id": "e325e500",
   "metadata": {},
   "outputs": [],
   "source": [
    "p.x = 3.5\n",
    "p.y = 1.25"
   ]
  },
  {
   "cell_type": "code",
   "execution_count": 81,
   "id": "0ecaf536",
   "metadata": {},
   "outputs": [
    {
     "data": {
      "text/plain": [
       "'mediano'"
      ]
     },
     "execution_count": 81,
     "metadata": {},
     "output_type": "execute_result"
    }
   ],
   "source": [
    "a.tamaño"
   ]
  },
  {
   "cell_type": "code",
   "execution_count": 82,
   "id": "aad28df0",
   "metadata": {},
   "outputs": [
    {
     "data": {
      "text/plain": [
       "'verde'"
      ]
     },
     "execution_count": 82,
     "metadata": {},
     "output_type": "execute_result"
    }
   ],
   "source": [
    "a.color"
   ]
  },
  {
   "cell_type": "code",
   "execution_count": 83,
   "id": "aee4f362",
   "metadata": {},
   "outputs": [
    {
     "data": {
      "text/plain": [
       "3.5"
      ]
     },
     "execution_count": 83,
     "metadata": {},
     "output_type": "execute_result"
    }
   ],
   "source": [
    "p.x"
   ]
  },
  {
   "cell_type": "code",
   "execution_count": 84,
   "id": "c168564a",
   "metadata": {},
   "outputs": [
    {
     "data": {
      "text/plain": [
       "1.25"
      ]
     },
     "execution_count": 84,
     "metadata": {},
     "output_type": "execute_result"
    }
   ],
   "source": [
    "p.y"
   ]
  },
  {
   "cell_type": "code",
   "execution_count": 85,
   "id": "9d216d57",
   "metadata": {},
   "outputs": [
    {
     "data": {
      "text/plain": [
       "{'tamaño': 'mediano', 'color': 'verde'}"
      ]
     },
     "execution_count": 85,
     "metadata": {},
     "output_type": "execute_result"
    }
   ],
   "source": [
    "a.__dict__"
   ]
  },
  {
   "cell_type": "code",
   "execution_count": 86,
   "id": "7e99aed0",
   "metadata": {},
   "outputs": [
    {
     "data": {
      "text/plain": [
       "{'x': 3.5, 'y': 1.25}"
      ]
     },
     "execution_count": 86,
     "metadata": {},
     "output_type": "execute_result"
    }
   ],
   "source": [
    "p.__dict__"
   ]
  },
  {
   "cell_type": "code",
   "execution_count": 87,
   "id": "7fc388ca",
   "metadata": {},
   "outputs": [
    {
     "data": {
      "text/plain": [
       "mappingproxy({'__module__': '__main__',\n",
       "              '__dict__': <attribute '__dict__' of 'Libro' objects>,\n",
       "              '__weakref__': <attribute '__weakref__' of 'Libro' objects>,\n",
       "              '__doc__': None})"
      ]
     },
     "execution_count": 87,
     "metadata": {},
     "output_type": "execute_result"
    }
   ],
   "source": [
    "Libro.__dict__"
   ]
  },
  {
   "cell_type": "code",
   "execution_count": 88,
   "id": "adc832be",
   "metadata": {},
   "outputs": [
    {
     "data": {
      "text/plain": [
       "mappingproxy({'__module__': '__main__',\n",
       "              '__dict__': <attribute '__dict__' of 'Particula' objects>,\n",
       "              '__weakref__': <attribute '__weakref__' of 'Particula' objects>,\n",
       "              '__doc__': None})"
      ]
     },
     "execution_count": 88,
     "metadata": {},
     "output_type": "execute_result"
    }
   ],
   "source": [
    "Particula.__dict__"
   ]
  },
  {
   "cell_type": "markdown",
   "id": "84fabec3",
   "metadata": {},
   "source": [
    "Los atributos pueden vincularse a las clases, así cada instancia de la clase (objeto) tendrá estos atributos definidos desde su creación pues están dentro de la clase. Los atributos comunmente se definen como **varibles dentro de la clase**: "
   ]
  },
  {
   "cell_type": "code",
   "execution_count": 146,
   "id": "975fc66b",
   "metadata": {},
   "outputs": [],
   "source": [
    "class Libro:\n",
    "    tamaño = \"mediano\"\n",
    "    color = \"verde\"   "
   ]
  },
  {
   "cell_type": "code",
   "execution_count": 147,
   "id": "d9a33833",
   "metadata": {},
   "outputs": [],
   "source": [
    "class Particula:\n",
    "    x = 3.5\n",
    "    y = 1.25"
   ]
  },
  {
   "cell_type": "code",
   "execution_count": 148,
   "id": "27f9d32b",
   "metadata": {},
   "outputs": [],
   "source": [
    "a = Libro()"
   ]
  },
  {
   "cell_type": "code",
   "execution_count": 149,
   "id": "215306ee",
   "metadata": {},
   "outputs": [
    {
     "data": {
      "text/plain": [
       "('verde', 'mediano')"
      ]
     },
     "execution_count": 149,
     "metadata": {},
     "output_type": "execute_result"
    }
   ],
   "source": [
    "(a.color, a.tamaño)"
   ]
  },
  {
   "cell_type": "code",
   "execution_count": 150,
   "id": "648f910f",
   "metadata": {},
   "outputs": [],
   "source": [
    "p = Particula"
   ]
  },
  {
   "cell_type": "code",
   "execution_count": 151,
   "id": "3fd419f2",
   "metadata": {},
   "outputs": [
    {
     "data": {
      "text/plain": [
       "(3.5, 1.25)"
      ]
     },
     "execution_count": 151,
     "metadata": {},
     "output_type": "execute_result"
    }
   ],
   "source": [
    "(p.x, p.y)"
   ]
  },
  {
   "cell_type": "markdown",
   "id": "0216361e",
   "metadata": {},
   "source": [
    "### Métodos "
   ]
  },
  {
   "cell_type": "markdown",
   "id": "4b137526",
   "metadata": {},
   "source": [
    "Las acciones que puede realizar el objeto determinan su comportamiento, a estas acciones se les denominan **métodos del objeto**. Los métodos se expresan a manera de función."
   ]
  },
  {
   "cell_type": "code",
   "execution_count": 167,
   "id": "60d85e5d",
   "metadata": {},
   "outputs": [],
   "source": [
    "def saludo(libro):\n",
    "    print(\"Hola, mi título es: \" + libro.name + \"!\")\n",
    "\n",
    "class Libro:\n",
    "    pass\n",
    "   "
   ]
  },
  {
   "cell_type": "code",
   "execution_count": 169,
   "id": "7e8d45d5",
   "metadata": {},
   "outputs": [
    {
     "name": "stdout",
     "output_type": "stream",
     "text": [
      "Hola, mi título es: One Flew Over The Cuckoo's Nest!\n"
     ]
    }
   ],
   "source": [
    "a = Libro()\n",
    "a.name = \"One Flew Over The Cuckoo's Nest\"\n",
    "saludo(a)"
   ]
  },
  {
   "cell_type": "code",
   "execution_count": 185,
   "id": "e3fa6b60",
   "metadata": {},
   "outputs": [],
   "source": [
    "def movimiento(particula):\n",
    "    print(\"Desplazamiento de 0.5 unidades en x: \" + str(particula.x + 0.5))\n",
    "\n",
    "class Particula:\n",
    "    pass\n"
   ]
  },
  {
   "cell_type": "code",
   "execution_count": 186,
   "id": "e358acdc",
   "metadata": {
    "scrolled": true
   },
   "outputs": [
    {
     "name": "stdout",
     "output_type": "stream",
     "text": [
      "Desplazamiento de 0.5 unidades en x: 4.0\n"
     ]
    }
   ],
   "source": [
    "p = Particula()\n",
    "p.x = 3.5\n",
    "movimiento(p)"
   ]
  },
  {
   "cell_type": "markdown",
   "id": "da88cc63",
   "metadata": {},
   "source": [
    "Veamos como se vincula la función `metodo()` con el objeto `obj`. Comunmente, los métodos se  incluyen dentro de la clase."
   ]
  },
  {
   "cell_type": "code",
   "execution_count": 6,
   "id": "c726e991",
   "metadata": {},
   "outputs": [],
   "source": [
    "class Libro:\n",
    "    tamaño = \"mediano\"\n",
    "    color = \"verde\"\n",
    "    tapa = \"blanda\"\n",
    "    \n",
    "    def abrir():\n",
    "        print(\"One Flew Over The Cuckoo's Nest\")"
   ]
  },
  {
   "cell_type": "code",
   "execution_count": 7,
   "id": "f843c311",
   "metadata": {},
   "outputs": [],
   "source": [
    "a = Libro()"
   ]
  },
  {
   "cell_type": "code",
   "execution_count": 8,
   "id": "c9177078",
   "metadata": {},
   "outputs": [
    {
     "data": {
      "text/plain": [
       "('mediano', 'verde', 'blanda')"
      ]
     },
     "execution_count": 8,
     "metadata": {},
     "output_type": "execute_result"
    }
   ],
   "source": [
    "(a.tamaño, a.color, a.tapa)"
   ]
  },
  {
   "cell_type": "code",
   "execution_count": 9,
   "id": "a99ab965",
   "metadata": {},
   "outputs": [
    {
     "data": {
      "text/plain": [
       "<bound method Libro.abrir of <__main__.Libro object at 0x7fd7884d0b50>>"
      ]
     },
     "execution_count": 9,
     "metadata": {},
     "output_type": "execute_result"
    }
   ],
   "source": [
    "a.abrir"
   ]
  },
  {
   "cell_type": "code",
   "execution_count": 10,
   "id": "006a2660",
   "metadata": {},
   "outputs": [
    {
     "name": "stdout",
     "output_type": "stream",
     "text": [
      "One Flew Over The Cuckoo's Nest\n"
     ]
    }
   ],
   "source": [
    "a.abrir()"
   ]
  },
  {
   "cell_type": "code",
   "execution_count": 210,
   "id": "a139bd34",
   "metadata": {},
   "outputs": [],
   "source": [
    "class Particula:\n",
    "    x = 3.5\n",
    "    y = 1.25\n",
    "\n",
    "    def movimiento(self):\n",
    "        print(\"Desplazamiento de 0.5 unidades en x: \" + str(self.x + 0.5)) \n"
   ]
  },
  {
   "cell_type": "code",
   "execution_count": 207,
   "id": "48d9a06b",
   "metadata": {},
   "outputs": [],
   "source": [
    "p = Particula()"
   ]
  },
  {
   "cell_type": "code",
   "execution_count": 208,
   "id": "1f9af3ef",
   "metadata": {},
   "outputs": [
    {
     "data": {
      "text/plain": [
       "(3.5, 1.25)"
      ]
     },
     "execution_count": 208,
     "metadata": {},
     "output_type": "execute_result"
    }
   ],
   "source": [
    "(p.x , p.y)"
   ]
  },
  {
   "cell_type": "code",
   "execution_count": 209,
   "id": "b7f22600",
   "metadata": {},
   "outputs": [
    {
     "name": "stdout",
     "output_type": "stream",
     "text": [
      "Desplazamiento de 0.5 unidades en (x,y): 4.0\n"
     ]
    }
   ],
   "source": [
    "p.movimiento()"
   ]
  },
  {
   "cell_type": "markdown",
   "id": "2f1725d7",
   "metadata": {},
   "source": [
    "### Inicializar un objeto"
   ]
  },
  {
   "cell_type": "markdown",
   "id": "e17f74b1",
   "metadata": {},
   "source": [
    "Cualquier objeto que se construya con las clases `Libro` y `Particula` no se diferenciarían con cualquier otra instancia de su misma clase, lo cual no es muy útil en apliaciones reales. Todo objeto aunque sea de la misma clase posee características particulares que lo diferencían de cualquier otro.\n",
    "\n",
    "#### Método `__init__`\n",
    "Deseamos definir atributos a una instancia en el momento de su creación. El método `__init__` es un _método mágico_ que se llama inmediata y autománticamente después de ser instanciado un objeto. En este método se asignan valores específicos a los atributos o métodos de un objeto al momento de ser creado. Este método también puede ser entendido como un **constructor** (del objeto)."
   ]
  },
  {
   "cell_type": "code",
   "execution_count": 233,
   "id": "6c7215b1",
   "metadata": {},
   "outputs": [],
   "source": [
    "class Libro:\n",
    "    def __init__(self):\n",
    "        print(\"Método __init__ ejecutado\")"
   ]
  },
  {
   "cell_type": "code",
   "execution_count": 234,
   "id": "dc4aa0c8",
   "metadata": {},
   "outputs": [
    {
     "name": "stdout",
     "output_type": "stream",
     "text": [
      "Método __init__ ejecutado\n"
     ]
    }
   ],
   "source": [
    "a = Libro()"
   ]
  },
  {
   "cell_type": "code",
   "execution_count": 235,
   "id": "e8ac8907",
   "metadata": {},
   "outputs": [
    {
     "name": "stdout",
     "output_type": "stream",
     "text": [
      "Método __init__ ejecutado\n"
     ]
    }
   ],
   "source": [
    "b = Libro()"
   ]
  },
  {
   "cell_type": "code",
   "execution_count": 274,
   "id": "bd1ead2e",
   "metadata": {},
   "outputs": [],
   "source": [
    "class Libro:\n",
    "    def __init__(self, titulo=None):\n",
    "        self.titulo = titulo\n",
    "        \n",
    "    tamaño = \"mediano\"\n",
    "    color = \"rojo\"\n",
    "    tapa = \"blanda\"\n",
    "    \n",
    "    def abrir(self):\n",
    "        if self.titulo:\n",
    "            print(\"Hola, mi título es: !\" + self.titulo + \"!\")\n",
    "        else:\n",
    "            print(\"Hola, soy un Libro sin título\")"
   ]
  },
  {
   "cell_type": "code",
   "execution_count": 275,
   "id": "82a038b7",
   "metadata": {},
   "outputs": [],
   "source": [
    "a = Libro()"
   ]
  },
  {
   "cell_type": "code",
   "execution_count": 276,
   "id": "b210e5d3",
   "metadata": {},
   "outputs": [
    {
     "data": {
      "text/plain": [
       "('mediano', 'rojo', 'blanda')"
      ]
     },
     "execution_count": 276,
     "metadata": {},
     "output_type": "execute_result"
    }
   ],
   "source": [
    "(a.tamaño, a.color, a.tapa)"
   ]
  },
  {
   "cell_type": "code",
   "execution_count": 277,
   "id": "2bb2d9e1",
   "metadata": {},
   "outputs": [
    {
     "name": "stdout",
     "output_type": "stream",
     "text": [
      "Hola, soy un Libro sin título\n"
     ]
    }
   ],
   "source": [
    "a.abrir()"
   ]
  },
  {
   "cell_type": "code",
   "execution_count": 278,
   "id": "ea412490",
   "metadata": {},
   "outputs": [],
   "source": [
    "class Libro:\n",
    "    def __init__(self, tamaño, color, titulo=None):\n",
    "        self.tamaño = tamaño\n",
    "        self.color = color\n",
    "        self.titulo = titulo\n",
    "    \n",
    "    tapa = \"blanda\"\n",
    "    \n",
    "    def abrir(self):\n",
    "        if self.titulo:\n",
    "            print(\"Hola, mi título es: !\" + self.titulo + \"!\")\n",
    "        else:\n",
    "            print(\"Hola, soy un Libro sin título\")"
   ]
  },
  {
   "cell_type": "code",
   "execution_count": 279,
   "id": "9477124a",
   "metadata": {},
   "outputs": [],
   "source": [
    "a = Libro(\"mediano\", \"verde\", \"After Dark\")"
   ]
  },
  {
   "cell_type": "code",
   "execution_count": 281,
   "id": "72fd0f8f",
   "metadata": {},
   "outputs": [
    {
     "data": {
      "text/plain": [
       "('mediano', 'verde', 'blanda', 'After Dark')"
      ]
     },
     "execution_count": 281,
     "metadata": {},
     "output_type": "execute_result"
    }
   ],
   "source": [
    "(a.tamaño, a.color, a.tapa, a.titulo)"
   ]
  },
  {
   "cell_type": "code",
   "execution_count": 282,
   "id": "cf8ade44",
   "metadata": {},
   "outputs": [
    {
     "name": "stdout",
     "output_type": "stream",
     "text": [
      "Hola, mi título es: !After Dark!\n"
     ]
    }
   ],
   "source": [
    "a.abrir()"
   ]
  },
  {
   "cell_type": "code",
   "execution_count": 283,
   "id": "db9a303a",
   "metadata": {},
   "outputs": [],
   "source": [
    "b = Libro(\"pequeño\", \"azul\")"
   ]
  },
  {
   "cell_type": "code",
   "execution_count": 284,
   "id": "53bda322",
   "metadata": {},
   "outputs": [
    {
     "data": {
      "text/plain": [
       "('pequeño', 'azul', 'blanda', None)"
      ]
     },
     "execution_count": 284,
     "metadata": {},
     "output_type": "execute_result"
    }
   ],
   "source": [
    "(b.tamaño, b.color, b.tapa, b.titulo)"
   ]
  },
  {
   "cell_type": "code",
   "execution_count": 285,
   "id": "666b9060",
   "metadata": {},
   "outputs": [
    {
     "name": "stdout",
     "output_type": "stream",
     "text": [
      "Hola, soy un Libro sin título\n"
     ]
    }
   ],
   "source": [
    "b.abrir()"
   ]
  },
  {
   "cell_type": "markdown",
   "id": "ef99266f",
   "metadata": {},
   "source": [
    "### Abstracción, encapsulamiento y  ocultamiento de datos\n",
    "La **abstracción de datos** se refiere al empaquetamiento de variables y funciones que operan sobre los datos del objeto y es importante para la protección u ocultamiento de estos datos.\n",
    "\n",
    "La encapsulación de datos puede implementarse por medio de dos método, uno de asignación y otro de obtención,  conocidos como `setters` y `getters`:\n",
    "- Método `setter` para cambiar el valor de los atributos\n",
    "- Método `getter` para accesar a los valores de los atributos"
   ]
  },
  {
   "cell_type": "code",
   "execution_count": 287,
   "id": "813240ba",
   "metadata": {},
   "outputs": [],
   "source": [
    "class Libro:\n",
    "    def __init__(self, titulo=None):\n",
    "        self.titulo = titulo\n",
    "    \n",
    "    \n",
    "    def saludo(self):\n",
    "        if self.titulo:\n",
    "            print(\"Hola, mi título es: \" + self.titulo + \"!\")\n",
    "        else:\n",
    "            print(\"Hola, soy un libro sin título\")\n",
    "\n",
    "    def set_titulo(self, titulo):\n",
    "        self.titulo = titulo\n",
    "        \n",
    "    def get_titulo(self):\n",
    "        return self.titulo"
   ]
  },
  {
   "cell_type": "code",
   "execution_count": 295,
   "id": "299eb881",
   "metadata": {},
   "outputs": [],
   "source": [
    "a = Libro()"
   ]
  },
  {
   "cell_type": "code",
   "execution_count": 296,
   "id": "9bca1a38",
   "metadata": {},
   "outputs": [],
   "source": [
    "a.titulo"
   ]
  },
  {
   "cell_type": "code",
   "execution_count": 297,
   "id": "7fb923aa",
   "metadata": {},
   "outputs": [
    {
     "name": "stdout",
     "output_type": "stream",
     "text": [
      "Hola, soy un libro sin título\n"
     ]
    }
   ],
   "source": [
    "a.saludo()"
   ]
  },
  {
   "cell_type": "code",
   "execution_count": 298,
   "id": "9605296a",
   "metadata": {},
   "outputs": [],
   "source": [
    "a.set_titulo(\"After Dark\")"
   ]
  },
  {
   "cell_type": "code",
   "execution_count": 299,
   "id": "ec62d87b",
   "metadata": {},
   "outputs": [
    {
     "data": {
      "text/plain": [
       "'After Dark'"
      ]
     },
     "execution_count": 299,
     "metadata": {},
     "output_type": "execute_result"
    }
   ],
   "source": [
    "a.titulo"
   ]
  },
  {
   "cell_type": "code",
   "execution_count": 300,
   "id": "1661a388",
   "metadata": {},
   "outputs": [
    {
     "name": "stdout",
     "output_type": "stream",
     "text": [
      "Hola, mi título es: After Dark!\n"
     ]
    }
   ],
   "source": [
    "a.saludo()"
   ]
  },
  {
   "cell_type": "code",
   "execution_count": 301,
   "id": "6880920d",
   "metadata": {},
   "outputs": [
    {
     "data": {
      "text/plain": [
       "'After Dark'"
      ]
     },
     "execution_count": 301,
     "metadata": {},
     "output_type": "execute_result"
    }
   ],
   "source": [
    "a.get_titulo()"
   ]
  },
  {
   "cell_type": "markdown",
   "id": "0724a9fc",
   "metadata": {},
   "source": [
    "Podemos agregar un atributo adicional `año` con `set_titulo` y `getter` a la clase `Libro`."
   ]
  },
  {
   "cell_type": "code",
   "execution_count": 333,
   "id": "1fd5a4fc",
   "metadata": {},
   "outputs": [],
   "source": [
    "class Libro:\n",
    "    def __init__(self,titulo=None,año=None):\n",
    "        self.titulo = titulo\n",
    "        self.año = año\n",
    "    \n",
    "    \n",
    "    def saludo(self):\n",
    "        if self.titulo:\n",
    "            print(\"Hola, mi título es: \" + self.titulo + \"!\")\n",
    "        else:\n",
    "            print(\"Hola, soy un texto sin título\")\n",
    "        \n",
    "        if self.año:\n",
    "            print(\"Fui editado en: \" + str(self.año))\n",
    "        else:\n",
    "            print(\"No sé cuándo fui editado\")\n",
    "            \n",
    "\n",
    "    def set_titulo(self, titulo):\n",
    "        self.titulo = titulo\n",
    "        \n",
    "    def get_titulo(self):\n",
    "        return self.titulo\n",
    "    \n",
    "    def set_año(self, año):\n",
    "        self.año = año\n",
    "        \n",
    "    def get_año(self):\n",
    "        return self.año"
   ]
  },
  {
   "cell_type": "code",
   "execution_count": 309,
   "id": "c2058eae",
   "metadata": {},
   "outputs": [],
   "source": [
    "a = Libro(\"1Q84\", 2004)\n",
    "b = Libro()"
   ]
  },
  {
   "cell_type": "code",
   "execution_count": 310,
   "id": "184513bc",
   "metadata": {},
   "outputs": [
    {
     "name": "stdout",
     "output_type": "stream",
     "text": [
      "Hola, mi título es: 1Q84!\n",
      "Fui editado en: 2004\n",
      "Hola, soy un texto sin título\n",
      "No sé cuándo fui editado\n"
     ]
    }
   ],
   "source": [
    "a.saludo()\n",
    "b.saludo()"
   ]
  },
  {
   "cell_type": "code",
   "execution_count": 313,
   "id": "2f407f64",
   "metadata": {},
   "outputs": [
    {
     "name": "stdout",
     "output_type": "stream",
     "text": [
      "Hola, mi título es: After Dark!\n",
      "No sé cuándo fui editado\n"
     ]
    }
   ],
   "source": [
    "b.set_titulo(\"After Dark\")\n",
    "b.saludo()"
   ]
  },
  {
   "cell_type": "markdown",
   "id": "06e156d4",
   "metadata": {},
   "source": [
    "#### Método `__str__` \n",
    "Para mostrar objetos, Python permite agregar a la clase un método especial llamado `__str__` que devuelve una cadena de caracteres con lo que se desea mostrar. Ese método se invoca cada vez que se llama a la función `print()`."
   ]
  },
  {
   "cell_type": "code",
   "execution_count": 334,
   "id": "ec91b3a4",
   "metadata": {},
   "outputs": [],
   "source": [
    "class Particula:\n",
    "    def __init__(self,x=0,y=0):\n",
    "        self.x = x\n",
    "        self.y = y\n",
    "    \n",
    "    def set_x(self, x):\n",
    "        self.x = x\n",
    "        \n",
    "    def get_x(self):\n",
    "        return self.x\n",
    "    \n",
    "    def set_y(self, y):\n",
    "        self.y = y\n",
    "        \n",
    "    def get_y(self):\n",
    "        return self.y"
   ]
  },
  {
   "cell_type": "code",
   "execution_count": 335,
   "id": "4c09a4cd",
   "metadata": {},
   "outputs": [],
   "source": [
    "a = Particula()"
   ]
  },
  {
   "cell_type": "code",
   "execution_count": 336,
   "id": "2c301479",
   "metadata": {},
   "outputs": [
    {
     "data": {
      "text/plain": [
       "(0, 0)"
      ]
     },
     "execution_count": 336,
     "metadata": {},
     "output_type": "execute_result"
    }
   ],
   "source": [
    "(a.x, a.y)"
   ]
  },
  {
   "cell_type": "code",
   "execution_count": 339,
   "id": "a098437a",
   "metadata": {},
   "outputs": [],
   "source": [
    "a.set_x(0.5)"
   ]
  },
  {
   "cell_type": "code",
   "execution_count": 340,
   "id": "f0d50cc0",
   "metadata": {},
   "outputs": [
    {
     "data": {
      "text/plain": [
       "0.5"
      ]
     },
     "execution_count": 340,
     "metadata": {},
     "output_type": "execute_result"
    }
   ],
   "source": [
    "a.get_x()"
   ]
  },
  {
   "cell_type": "code",
   "execution_count": 341,
   "id": "1f842fb8",
   "metadata": {},
   "outputs": [
    {
     "data": {
      "text/plain": [
       "(0.5, 0)"
      ]
     },
     "execution_count": 341,
     "metadata": {},
     "output_type": "execute_result"
    }
   ],
   "source": [
    "(a.x,a.y)"
   ]
  },
  {
   "cell_type": "code",
   "execution_count": 342,
   "id": "e6f5b7db",
   "metadata": {},
   "outputs": [
    {
     "name": "stdout",
     "output_type": "stream",
     "text": [
      "<__main__.Particula object at 0x7fafed5136d0>\n"
     ]
    }
   ],
   "source": [
    "print(a)"
   ]
  },
  {
   "cell_type": "code",
   "execution_count": 344,
   "id": "50399c2a",
   "metadata": {},
   "outputs": [],
   "source": [
    "b = Particula(0.5, 0.75)"
   ]
  },
  {
   "cell_type": "code",
   "execution_count": 345,
   "id": "2bcc22e2",
   "metadata": {},
   "outputs": [
    {
     "data": {
      "text/plain": [
       "(0.5, 0.75)"
      ]
     },
     "execution_count": 345,
     "metadata": {},
     "output_type": "execute_result"
    }
   ],
   "source": [
    "(b.x,b.y)"
   ]
  },
  {
   "cell_type": "code",
   "execution_count": 346,
   "id": "0056f034",
   "metadata": {},
   "outputs": [
    {
     "data": {
      "text/plain": [
       "<__main__.Particula at 0x7fafed5114e0>"
      ]
     },
     "execution_count": 346,
     "metadata": {},
     "output_type": "execute_result"
    }
   ],
   "source": [
    "b"
   ]
  },
  {
   "cell_type": "code",
   "execution_count": 347,
   "id": "2718f5d0",
   "metadata": {},
   "outputs": [
    {
     "name": "stdout",
     "output_type": "stream",
     "text": [
      "<__main__.Particula object at 0x7fafed5114e0>\n"
     ]
    }
   ],
   "source": [
    "print(b)"
   ]
  },
  {
   "cell_type": "code",
   "execution_count": 356,
   "id": "ce860a69",
   "metadata": {},
   "outputs": [],
   "source": [
    "class Particula:\n",
    "    def __init__(self,x=0,y=0):\n",
    "        self.x = x\n",
    "        self.y = y\n",
    "    \n",
    "    def set_x(self, x):\n",
    "        self.x = x\n",
    "        \n",
    "    def get_x(self):\n",
    "        return self.x\n",
    "    \n",
    "    def set_y(self, y):\n",
    "        self.y = y\n",
    "        \n",
    "    def get_y(self):\n",
    "        return self.y\n",
    "    \n",
    "    def __str__(self):\n",
    "        return (\"(\" + str(self.x) + \",\" + str(self.y) + \")\")"
   ]
  },
  {
   "cell_type": "code",
   "execution_count": 357,
   "id": "e6d63dcc",
   "metadata": {},
   "outputs": [],
   "source": [
    "a = Particula()"
   ]
  },
  {
   "cell_type": "code",
   "execution_count": 359,
   "id": "4da4eb52",
   "metadata": {},
   "outputs": [
    {
     "data": {
      "text/plain": [
       "<__main__.Particula at 0x7fafed0e0ac0>"
      ]
     },
     "execution_count": 359,
     "metadata": {},
     "output_type": "execute_result"
    }
   ],
   "source": [
    "a"
   ]
  },
  {
   "cell_type": "code",
   "execution_count": 360,
   "id": "f1e71521",
   "metadata": {},
   "outputs": [
    {
     "name": "stdout",
     "output_type": "stream",
     "text": [
      "(0,0)\n"
     ]
    }
   ],
   "source": [
    "print(a)"
   ]
  },
  {
   "cell_type": "code",
   "execution_count": 361,
   "id": "73cb3331",
   "metadata": {},
   "outputs": [],
   "source": [
    "b = Particula(0.5, 0.75)"
   ]
  },
  {
   "cell_type": "code",
   "execution_count": 362,
   "id": "2d6b5ced",
   "metadata": {},
   "outputs": [
    {
     "name": "stdout",
     "output_type": "stream",
     "text": [
      "(0.5,0.75)\n"
     ]
    }
   ],
   "source": [
    "print(b)"
   ]
  },
  {
   "cell_type": "markdown",
   "id": "6f1e1931",
   "metadata": {},
   "source": [
    "Adicionalmente, otra forma de mostrar objetos en Python es por medio del método especial `__repr__` que devuelve una representación del estado del objeto."
   ]
  },
  {
   "cell_type": "code",
   "execution_count": 468,
   "id": "4447f8ba",
   "metadata": {},
   "outputs": [],
   "source": [
    "class Particula:\n",
    "    def __init__(self,x=0,y=0):\n",
    "        self.x = x\n",
    "        self.y = y\n",
    "    \n",
    "    def __str__(self):\n",
    "        return \"(\" + str(self.x) + \",\" + str(self.y) + \")\"  \n",
    "    \n",
    "    def __repr__ (self):\n",
    "        return \"<Particula (%f, %f)>\" %(self.x, self.y)"
   ]
  },
  {
   "cell_type": "code",
   "execution_count": 469,
   "id": "e5c39e6d",
   "metadata": {},
   "outputs": [],
   "source": [
    "a = Particula(3,2)"
   ]
  },
  {
   "cell_type": "code",
   "execution_count": 470,
   "id": "7db351b8",
   "metadata": {},
   "outputs": [
    {
     "data": {
      "text/plain": [
       "<Particula (3.000000, 2.000000)>"
      ]
     },
     "execution_count": 470,
     "metadata": {},
     "output_type": "execute_result"
    }
   ],
   "source": [
    "a"
   ]
  },
  {
   "cell_type": "code",
   "execution_count": 471,
   "id": "42a45d1a",
   "metadata": {},
   "outputs": [
    {
     "name": "stdout",
     "output_type": "stream",
     "text": [
      "(3,2)\n"
     ]
    }
   ],
   "source": [
    "print(a)"
   ]
  },
  {
   "cell_type": "markdown",
   "id": "2749794b",
   "metadata": {},
   "source": [
    "#### Método `__add__`\n",
    "Para darle mayor funcionalidad a los objetos, Python permite agregar a la clase un método especial llamado `__add__` que devuelver una cadena de caracteres con la suma de ciertas propiedades de objetos.\n",
    "\n",
    "Este método se invoca cada vez que se utiza el operador `+`, se trata entonces de una **sobrecarga del operador `+`** y lo que devuelve es otro objeto de la misma clase."
   ]
  },
  {
   "cell_type": "code",
   "execution_count": 472,
   "id": "805d97bf",
   "metadata": {},
   "outputs": [],
   "source": [
    "p1 = Particula(3, 5)\n",
    "p2 = Particula(2, 1)"
   ]
  },
  {
   "cell_type": "code",
   "execution_count": 473,
   "id": "59fa45d3",
   "metadata": {},
   "outputs": [
    {
     "data": {
      "text/plain": [
       "<Particula (3.000000, 5.000000)>"
      ]
     },
     "execution_count": 473,
     "metadata": {},
     "output_type": "execute_result"
    }
   ],
   "source": [
    "p1"
   ]
  },
  {
   "cell_type": "code",
   "execution_count": 474,
   "id": "b9f45cab",
   "metadata": {},
   "outputs": [
    {
     "data": {
      "text/plain": [
       "<Particula (2.000000, 1.000000)>"
      ]
     },
     "execution_count": 474,
     "metadata": {},
     "output_type": "execute_result"
    }
   ],
   "source": [
    "p2"
   ]
  },
  {
   "cell_type": "code",
   "execution_count": 475,
   "id": "2f02887d",
   "metadata": {},
   "outputs": [
    {
     "ename": "TypeError",
     "evalue": "unsupported operand type(s) for +: 'Particula' and 'Particula'",
     "output_type": "error",
     "traceback": [
      "\u001b[0;31m---------------------------------------------------------------------------\u001b[0m",
      "\u001b[0;31mTypeError\u001b[0m                                 Traceback (most recent call last)",
      "Cell \u001b[0;32mIn[475], line 1\u001b[0m\n\u001b[0;32m----> 1\u001b[0m p3 \u001b[38;5;241m=\u001b[39m \u001b[43mp1\u001b[49m\u001b[43m \u001b[49m\u001b[38;5;241;43m+\u001b[39;49m\u001b[43m \u001b[49m\u001b[43mp2\u001b[49m\n",
      "\u001b[0;31mTypeError\u001b[0m: unsupported operand type(s) for +: 'Particula' and 'Particula'"
     ]
    }
   ],
   "source": [
    "p3 = p1 + p2"
   ]
  },
  {
   "cell_type": "code",
   "execution_count": 477,
   "id": "985bfb4a",
   "metadata": {},
   "outputs": [
    {
     "ename": "AttributeError",
     "evalue": "'Particula' object has no attribute '__add__'",
     "output_type": "error",
     "traceback": [
      "\u001b[0;31m---------------------------------------------------------------------------\u001b[0m",
      "\u001b[0;31mAttributeError\u001b[0m                            Traceback (most recent call last)",
      "Cell \u001b[0;32mIn[477], line 1\u001b[0m\n\u001b[0;32m----> 1\u001b[0m p3 \u001b[38;5;241m=\u001b[39m \u001b[43mp1\u001b[49m\u001b[38;5;241;43m.\u001b[39;49m\u001b[38;5;21;43m__add__\u001b[39;49m(p2)\n",
      "\u001b[0;31mAttributeError\u001b[0m: 'Particula' object has no attribute '__add__'"
     ]
    }
   ],
   "source": [
    "p3 = p1.__add__(p2)"
   ]
  },
  {
   "cell_type": "code",
   "execution_count": null,
   "id": "05117fba",
   "metadata": {},
   "outputs": [],
   "source": []
  },
  {
   "cell_type": "code",
   "execution_count": null,
   "id": "9b764a34",
   "metadata": {},
   "outputs": [],
   "source": []
  },
  {
   "cell_type": "code",
   "execution_count": null,
   "id": "fbc0a103",
   "metadata": {},
   "outputs": [],
   "source": []
  },
  {
   "cell_type": "code",
   "execution_count": 478,
   "id": "d69e2474",
   "metadata": {},
   "outputs": [],
   "source": [
    "class Particula:\n",
    "    \n",
    "    def __init__(self,x=0,y=0):\n",
    "        self.x = x\n",
    "        self.y = y\n",
    "             \n",
    "    def __add__(self, p):\n",
    "        return Particula(self.x + p.x, self.y + p.y)\n",
    "    \n",
    "    def __str__(self):\n",
    "        return \"(\" + str(self.x) + \",\" + str(self.y) + \")\"  \n",
    "    \n",
    "    def __repr__ (self):\n",
    "        return \"<Particula (%f, %f)>\" %(self.x, self.y)\n"
   ]
  },
  {
   "cell_type": "code",
   "execution_count": 479,
   "id": "10bff532",
   "metadata": {},
   "outputs": [],
   "source": [
    "p1 = Particula(3,2)\n",
    "p2 = Particula(1,5)"
   ]
  },
  {
   "cell_type": "code",
   "execution_count": 480,
   "id": "34f421c9",
   "metadata": {},
   "outputs": [
    {
     "data": {
      "text/plain": [
       "<Particula (3.000000, 2.000000)>"
      ]
     },
     "execution_count": 480,
     "metadata": {},
     "output_type": "execute_result"
    }
   ],
   "source": [
    "p1"
   ]
  },
  {
   "cell_type": "code",
   "execution_count": 481,
   "id": "4eb23826",
   "metadata": {},
   "outputs": [
    {
     "name": "stdout",
     "output_type": "stream",
     "text": [
      "(3,2)\n"
     ]
    }
   ],
   "source": [
    "print(p1)"
   ]
  },
  {
   "cell_type": "code",
   "execution_count": 482,
   "id": "049c68e8",
   "metadata": {},
   "outputs": [
    {
     "data": {
      "text/plain": [
       "<Particula (1.000000, 5.000000)>"
      ]
     },
     "execution_count": 482,
     "metadata": {},
     "output_type": "execute_result"
    }
   ],
   "source": [
    "p2"
   ]
  },
  {
   "cell_type": "code",
   "execution_count": 483,
   "id": "404ba635",
   "metadata": {},
   "outputs": [
    {
     "name": "stdout",
     "output_type": "stream",
     "text": [
      "(1,5)\n"
     ]
    }
   ],
   "source": [
    "print(p2)"
   ]
  },
  {
   "cell_type": "code",
   "execution_count": 484,
   "id": "431d085e",
   "metadata": {},
   "outputs": [],
   "source": [
    "p3 = p1 + p2"
   ]
  },
  {
   "cell_type": "code",
   "execution_count": 485,
   "id": "fb2a67b8",
   "metadata": {},
   "outputs": [
    {
     "data": {
      "text/plain": [
       "<Particula (4.000000, 7.000000)>"
      ]
     },
     "execution_count": 485,
     "metadata": {},
     "output_type": "execute_result"
    }
   ],
   "source": [
    "p3"
   ]
  },
  {
   "cell_type": "code",
   "execution_count": 486,
   "id": "a2f8ca88",
   "metadata": {},
   "outputs": [
    {
     "name": "stdout",
     "output_type": "stream",
     "text": [
      "(4,7)\n"
     ]
    }
   ],
   "source": [
    "print(p3)"
   ]
  },
  {
   "cell_type": "markdown",
   "id": "278b710d",
   "metadata": {},
   "source": [
    "Cuando utilizamos `p1 + p2`, Python hace la llamada a `p1.__add__(p2)` que a su vez es `Particula.__add__(p1,p2)`"
   ]
  },
  {
   "cell_type": "code",
   "execution_count": 488,
   "id": "e672f950",
   "metadata": {},
   "outputs": [
    {
     "data": {
      "text/plain": [
       "<Particula (4.000000, 7.000000)>"
      ]
     },
     "execution_count": 488,
     "metadata": {},
     "output_type": "execute_result"
    }
   ],
   "source": [
    "p1.__add__(p2)"
   ]
  },
  {
   "cell_type": "code",
   "execution_count": 489,
   "id": "1d0ba4bf",
   "metadata": {},
   "outputs": [
    {
     "data": {
      "text/plain": [
       "__main__.Particula"
      ]
     },
     "execution_count": 489,
     "metadata": {},
     "output_type": "execute_result"
    }
   ],
   "source": [
    "type(p1.__add__(p2))"
   ]
  },
  {
   "cell_type": "markdown",
   "id": "5f7d84f5",
   "metadata": {},
   "source": [
    "La siguiente tabla muesra diferentes operadores que se pueden implementar en modelo de objteos de Python:\n",
    "|Operador | Expresion | Interno |\n",
    "| --------| --------- | ------- |\n",
    "| Suma | p1 + p2 | p1.__add__(p2)|\n",
    "| Resta |p1 - p2 | p1.__sub__(p2)|\n",
    "| Mutiplicación | p1 * p2 | p1.__mul__(p2)|\n",
    "| Potencia | p1 ** p2 | p1.__pow__(p2)|\n",
    "| División | p1 / p2 | p1.__truediv__(p2)|\n",
    "| Menor que | p1 < p2 | p1.__lt__(p2)|\n",
    "| Menor o igual que | p1 <= p2 | p1.__le__(p2)|\n",
    "| Igual que | p1 == p2 | p1.__eq__(p2)|\n",
    "| Diferente | p1 != p2 | p1.__ne__(p2)|\n",
    "| Mayor que | p1 > p2 |\tp1.__gt__(p2)|\n",
    "| Mayor o igual que | p1 >= p2 | p1.__ge__(p2)|\n",
    "    "
   ]
  },
  {
   "cell_type": "code",
   "execution_count": null,
   "id": "726a1fb1",
   "metadata": {},
   "outputs": [],
   "source": []
  },
  {
   "cell_type": "markdown",
   "id": "53756b9c",
   "metadata": {},
   "source": [
    "### Ejercicios"
   ]
  },
  {
   "cell_type": "markdown",
   "id": "b335b165",
   "metadata": {},
   "source": [
    "**Ejercicio 1:** Construye la clase `FuncPol` para instanciar un objeto que represente a una función polinomial de orden 4: $p(x) =ax^4+bx^3+cx^2+dx+e$. El objeto puede ser creado enviando los valores de $a, b, c, d, e$ y $x$ para devolver su evaluación, los valores por defecto serán 1. Crea el método `evaluar()` para calcule el valor del objeto con los valores de los coeficientes y la variable independiente proporcionada en el constructor. "
   ]
  },
  {
   "cell_type": "markdown",
   "id": "a136dd36",
   "metadata": {},
   "source": [
    "**Ejercicio 2:** Construye los `setters` para la clase `FuncPol`. "
   ]
  },
  {
   "cell_type": "markdown",
   "id": "8f4be169",
   "metadata": {},
   "source": [
    "**Ejercicio3:** Comentamos que dadas dos funciones como `cuadrado()` y `raizcuadrada()` podrían evaluarse iterando sobre una lista como lo muestra el segmento de código siguiente:\n",
    "```\n",
    "func_lista = [cuadrado, raizcuadrada]\n",
    "for func in func_lista:\n",
    "    print (func(5))\n",
    "```\n",
    "¿Funcionaría la misma idea creando dos objetos de la clase `FuncPol`?"
   ]
  },
  {
   "cell_type": "markdown",
   "id": "fefc3898",
   "metadata": {},
   "source": [
    "## Herencia"
   ]
  },
  {
   "cell_type": "markdown",
   "id": "b87b6723",
   "metadata": {},
   "source": [
    "La **herencia** es un mecanismo de crear clases a partir de clases ya existentes. Al hacer esto se crea  una **jerarquía de clases**. En la POO el crear un objeto por medio de herencia, éste adquiere todas las propiedades y comportamientos del objeto del cual se hereda (objeto padre o \"madre\").\n",
    "\n",
    "La herencia permite a los programadores crear clases (**clase derivada**) que se basan en clases existentes (**clase base**). Esto permite que una clase creada a través de la herencia adquiera los atributos y métodos de la clase base. Los métodos o, en general, el código heredado por una subclase se considera ccomo **código reutilizado** en esta subclase. Las relaciones de objetos o clases a través de la herencia dan lugar a un grafo dirigido.\n",
    "\n",
    "Se puede crear una clase derivada con tan solo pasar como parámetro la clase de la que se quiere heredar. En el siguiente ejemplo veremos como se puede usar la herencia en Python, con la clase `Perro` que hereda de la clase `Animal`."
   ]
  },
  {
   "cell_type": "code",
   "execution_count": 507,
   "id": "d0e736e4",
   "metadata": {},
   "outputs": [],
   "source": [
    "# Definimos una clase padre\n",
    "class Animal:\n",
    "    pass\n",
    "\n",
    "# Creamos una clase hija que hereda de la padre\n",
    "class Perro(Animal):\n",
    "    pass"
   ]
  },
  {
   "cell_type": "code",
   "execution_count": 508,
   "id": "c861ad50",
   "metadata": {},
   "outputs": [
    {
     "name": "stdout",
     "output_type": "stream",
     "text": [
      "(<class '__main__.Animal'>,)\n"
     ]
    }
   ],
   "source": [
    "print(Perro.__bases__)"
   ]
  },
  {
   "cell_type": "code",
   "execution_count": 509,
   "id": "1b9b2444",
   "metadata": {},
   "outputs": [
    {
     "name": "stdout",
     "output_type": "stream",
     "text": [
      "[<class '__main__.Perro'>]\n"
     ]
    }
   ],
   "source": [
    "print(Animal.__subclasses__())"
   ]
  },
  {
   "cell_type": "code",
   "execution_count": 510,
   "id": "68b0a490",
   "metadata": {},
   "outputs": [
    {
     "name": "stdout",
     "output_type": "stream",
     "text": [
      "(<class 'object'>,)\n"
     ]
    }
   ],
   "source": [
    "print(Animal.__bases__)"
   ]
  },
  {
   "cell_type": "markdown",
   "id": "3d572789",
   "metadata": {},
   "source": [
    "Toda clase base hereda de `object`."
   ]
  },
  {
   "cell_type": "code",
   "execution_count": null,
   "id": "1b746af5",
   "metadata": {},
   "outputs": [],
   "source": [
    "Definimos la clase base con una serie de atributos comunes para todos los animales derivados."
   ]
  },
  {
   "cell_type": "code",
   "execution_count": 521,
   "id": "64538925",
   "metadata": {},
   "outputs": [],
   "source": [
    "class Animal:\n",
    "    def __init__(self, especie, edad):\n",
    "        self.especie = especie\n",
    "        self.edad = edad\n",
    "\n",
    "    def hablar(self):\n",
    "        pass\n",
    "    \n",
    "    def moverse(self):\n",
    "        pass\n",
    "\n",
    "    def describeme(self):\n",
    "        print(\"Soy un Animal del tipo\", type(self).__name__)"
   ]
  },
  {
   "cell_type": "markdown",
   "id": "722a31aa",
   "metadata": {},
   "source": [
    "Se tiene una clase genérica `Animal` que generaliza las característicaas y funcionalidades que todo animal puede tener. Ahora creamos una clase `Perro` que hereda de `Animal`"
   ]
  },
  {
   "cell_type": "code",
   "execution_count": 522,
   "id": "cfbf94b8",
   "metadata": {},
   "outputs": [],
   "source": [
    "# Perro hereda de Animal\n",
    "class Perro(Animal):\n",
    "    pass"
   ]
  },
  {
   "cell_type": "code",
   "execution_count": 523,
   "id": "87063a3d",
   "metadata": {},
   "outputs": [
    {
     "name": "stdout",
     "output_type": "stream",
     "text": [
      "Soy un Animal del tipo Perro\n"
     ]
    }
   ],
   "source": [
    "# Perro hereda de Animal\n",
    "benito = Perro('mamífero', 10)\n",
    "benito.describeme()"
   ]
  },
  {
   "cell_type": "markdown",
   "id": "8acf2aa6",
   "metadata": {},
   "source": [
    "Vamos a  crear varios animales concretos y sobre escribir algunos métodos definidos en la clase `Animal` ya que cada animal derivado se comporta de manera distinta.\n"
   ]
  },
  {
   "cell_type": "code",
   "execution_count": 524,
   "id": "8f5e0c00",
   "metadata": {},
   "outputs": [],
   "source": [
    "class Perro(Animal):\n",
    "    def hablar(self):\n",
    "        print(\"Guau!\")\n",
    "    def moverse(self):\n",
    "        print(\"Caminando con 4 patas\")\n",
    "\n",
    "class Vaca(Animal):\n",
    "    def hablar(self):\n",
    "        print(\"Muuu!\")\n",
    "    def moverse(self):\n",
    "        print(\"Caminando con 4 patas\")\n",
    "\n",
    "class Abeja(Animal):\n",
    "    def hablar(self):\n",
    "        print(\"Bzzzz!\")\n",
    "    def moverse(self):\n",
    "        print(\"Volando\")\n",
    "\n",
    "    # Nuevo método\n",
    "    def picar(self):\n",
    "        print(\"Picar!\")"
   ]
  },
  {
   "cell_type": "markdown",
   "id": "baea1299",
   "metadata": {},
   "source": [
    "Al crear nuevos animales se hace uso de sus métodos"
   ]
  },
  {
   "cell_type": "code",
   "execution_count": 525,
   "id": "f2af63d6",
   "metadata": {},
   "outputs": [],
   "source": [
    "perro = Perro('mamífero', 10)\n",
    "vaca = Vaca('mamífero', 23)\n",
    "abeja = Abeja('insecto', 1)"
   ]
  },
  {
   "cell_type": "code",
   "execution_count": 526,
   "id": "bf8caf7b",
   "metadata": {},
   "outputs": [
    {
     "name": "stdout",
     "output_type": "stream",
     "text": [
      "Guau!\n",
      "Muuu!\n"
     ]
    }
   ],
   "source": [
    "perro.hablar()\n",
    "vaca.hablar()"
   ]
  },
  {
   "cell_type": "code",
   "execution_count": 527,
   "id": "46f9d5a3",
   "metadata": {},
   "outputs": [
    {
     "name": "stdout",
     "output_type": "stream",
     "text": [
      "Soy un Animal del tipo Vaca\n",
      "Soy un Animal del tipo Abeja\n"
     ]
    }
   ],
   "source": [
    "vaca.describeme()\n",
    "abeja.describeme()"
   ]
  },
  {
   "cell_type": "code",
   "execution_count": 528,
   "id": "5bcb9421",
   "metadata": {},
   "outputs": [
    {
     "name": "stdout",
     "output_type": "stream",
     "text": [
      "Picar!\n"
     ]
    }
   ],
   "source": [
    "abeja.picar()\n"
   ]
  },
  {
   "cell_type": "markdown",
   "id": "cc1c17aa",
   "metadata": {},
   "source": [
    "#### Uso de super()\n",
    "La función `super()` permite acceer a los métodos de la clase base desde una clase derivada."
   ]
  },
  {
   "cell_type": "code",
   "execution_count": null,
   "id": "ef1b8d19",
   "metadata": {},
   "outputs": [],
   "source": [
    "class Animal:\n",
    "    def __init__(self, especie, edad):\n",
    "        self.especie = especie\n",
    "        self.edad = edad        \n",
    "    def hablar(self):\n",
    "        pass\n",
    "\n",
    "    def moverse(self):\n",
    "        pass\n",
    "\n",
    "    def describeme(self):\n",
    "        print(\"Soy un Animal del tipo\", type(self).__name__)"
   ]
  },
  {
   "cell_type": "markdown",
   "id": "ceefd229",
   "metadata": {},
   "source": [
    "Se quiere que `Perro` tenga un parámetro extra en el constructor, como podría ser `dueño`, para esto se pueden crear todas las variables en __init__ de la clase `Perro` o usar `super()` para llamar al `__init__` de la clase padre y asignar la propiedad o variable nueva."
   ]
  },
  {
   "cell_type": "code",
   "execution_count": 530,
   "id": "e1e6b8f8",
   "metadata": {},
   "outputs": [],
   "source": [
    "class Perro(Animal):\n",
    "    def __init__(self, especie, edad, dueño):\n",
    "        super().__init__(especie, edad)\n",
    "        self.dueño = dueño"
   ]
  },
  {
   "cell_type": "code",
   "execution_count": 531,
   "id": "e4d7644d",
   "metadata": {},
   "outputs": [],
   "source": [
    "benito = Perro('mamífero', 7, 'Luis')"
   ]
  },
  {
   "cell_type": "code",
   "execution_count": 532,
   "id": "421e7710",
   "metadata": {},
   "outputs": [
    {
     "data": {
      "text/plain": [
       "('mamífero', 7, 'Luis')"
      ]
     },
     "execution_count": 532,
     "metadata": {},
     "output_type": "execute_result"
    }
   ],
   "source": [
    "(benito.especie, benito.edad, benito.dueño)"
   ]
  },
  {
   "cell_type": "markdown",
   "id": "6b744a1a",
   "metadata": {},
   "source": [
    "### Ejercicio:\n",
    "\n",
    "Elaborar los siguientes clases y objetos conforme a los conceptos expuestos anteriormente:\n",
    "\n",
    "####  Clase base\n",
    "- Crea la clase **Vehículo** con 3 atributos y dos métodos,\n",
    "- Incluyendo setters y getters,\n",
    "- Diseña el método `__str__` tal que muestre la informacion del vehículo.\n",
    "\n",
    "#### Clases derivadas\n",
    "- Construye dos clases derivadas de la clase **Vehículo**, que pueden ser: **motocicleta, auto, autobús, camión**\n",
    "- Agrega un atributo y un método particular a la cada clase derivada\n",
    "\n",
    "#### Instancias\n",
    "- Crea tres objetos de las clases derivadas enviando valores de los atributos mediante un constructor.\n",
    "- Para los tres objetos, invoca los métodos `__str__` de los objetos que creaste.\n",
    "- Para los tres objetos invoca el método `get()` de los atributos de la clase base para cada uno de los objetos creados."
   ]
  },
  {
   "cell_type": "code",
   "execution_count": 323,
   "id": "fd4bf624",
   "metadata": {},
   "outputs": [
    {
     "data": {
      "text/html": [
       "<img src=\"clase.png\" width=\"800\" height=\"800\"/>"
      ],
      "text/plain": [
       "<IPython.core.display.Image object>"
      ]
     },
     "execution_count": 323,
     "metadata": {},
     "output_type": "execute_result"
    }
   ],
   "source": [
    "# import image module\n",
    "from IPython.display import Image\n",
    "# get the image\n",
    "Image(url=\"clase.png\", width=800, height=800)"
   ]
  },
  {
   "cell_type": "markdown",
   "id": "dfa63663",
   "metadata": {},
   "source": [
    "Podemos insertar imágenes en formato `Markdown` de dos formas:\n",
    "- `<img src=\"imagen.png\">`\n",
    "- `![titulo](imagen.png \"Descripción\")`"
   ]
  },
  {
   "cell_type": "markdown",
   "id": "ab11b057",
   "metadata": {},
   "source": [
    "Referencias recomendadas sobre POO en Python:\n",
    "- [Programiz](https://www.programiz.com/python-programming/object-oriented-programming)\n",
    "- [El libro de Python](https://ellibrodepython.com/programacion-orientada-a-objetos)"
   ]
  },
  {
   "cell_type": "code",
   "execution_count": null,
   "id": "91d99483",
   "metadata": {},
   "outputs": [],
   "source": []
  }
 ],
 "metadata": {
  "kernelspec": {
   "display_name": "Python 3 (ipykernel)",
   "language": "python",
   "name": "python3"
  },
  "language_info": {
   "codemirror_mode": {
    "name": "ipython",
    "version": 3
   },
   "file_extension": ".py",
   "mimetype": "text/x-python",
   "name": "python",
   "nbconvert_exporter": "python",
   "pygments_lexer": "ipython3",
   "version": "3.10.10"
  }
 },
 "nbformat": 4,
 "nbformat_minor": 5
}
