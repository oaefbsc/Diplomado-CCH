{
 "cells": [
  {
   "cell_type": "markdown",
   "id": "87e3725b",
   "metadata": {},
   "source": [
    "# Introducción a Python"
   ]
  },
  {
   "cell_type": "markdown",
   "id": "0d184aab",
   "metadata": {},
   "source": [
    "## Funciones no predefinidas (non-built-in functions)"
   ]
  },
  {
   "cell_type": "markdown",
   "id": "e8cfbaa4",
   "metadata": {},
   "source": [
    "Python tiene distintas funciones matemáticas no predefinidas que son accesibles al *importar* el módulo `math` que es un archivo que contiene la definición de diversas funciones."
   ]
  },
  {
   "cell_type": "code",
   "execution_count": 41,
   "id": "b8de64eb",
   "metadata": {},
   "outputs": [],
   "source": [
    "import math"
   ]
  },
  {
   "cell_type": "markdown",
   "id": "184518f7",
   "metadata": {},
   "source": [
    "La palabra reservada `import` importa el módulo deseado y `dir()` despliega el conjunto de funciones contenidas en el módulo."
   ]
  },
  {
   "cell_type": "code",
   "execution_count": 42,
   "id": "3fd2b612",
   "metadata": {},
   "outputs": [
    {
     "data": {
      "text/plain": [
       "['__doc__',\n",
       " '__file__',\n",
       " '__loader__',\n",
       " '__name__',\n",
       " '__package__',\n",
       " '__spec__',\n",
       " 'acos',\n",
       " 'acosh',\n",
       " 'asin',\n",
       " 'asinh',\n",
       " 'atan',\n",
       " 'atan2',\n",
       " 'atanh',\n",
       " 'ceil',\n",
       " 'comb',\n",
       " 'copysign',\n",
       " 'cos',\n",
       " 'cosh',\n",
       " 'degrees',\n",
       " 'dist',\n",
       " 'e',\n",
       " 'erf',\n",
       " 'erfc',\n",
       " 'exp',\n",
       " 'expm1',\n",
       " 'fabs',\n",
       " 'factorial',\n",
       " 'floor',\n",
       " 'fmod',\n",
       " 'frexp',\n",
       " 'fsum',\n",
       " 'gamma',\n",
       " 'gcd',\n",
       " 'hypot',\n",
       " 'inf',\n",
       " 'isclose',\n",
       " 'isfinite',\n",
       " 'isinf',\n",
       " 'isnan',\n",
       " 'isqrt',\n",
       " 'lcm',\n",
       " 'ldexp',\n",
       " 'lgamma',\n",
       " 'log',\n",
       " 'log10',\n",
       " 'log1p',\n",
       " 'log2',\n",
       " 'modf',\n",
       " 'nan',\n",
       " 'nextafter',\n",
       " 'perm',\n",
       " 'pi',\n",
       " 'pow',\n",
       " 'prod',\n",
       " 'radians',\n",
       " 'remainder',\n",
       " 'sin',\n",
       " 'sinh',\n",
       " 'sqrt',\n",
       " 'tan',\n",
       " 'tanh',\n",
       " 'tau',\n",
       " 'trunc',\n",
       " 'ulp']"
      ]
     },
     "execution_count": 42,
     "metadata": {},
     "output_type": "execute_result"
    }
   ],
   "source": [
    "dir(math)"
   ]
  },
  {
   "cell_type": "code",
   "execution_count": 43,
   "id": "a16521b7",
   "metadata": {},
   "outputs": [
    {
     "name": "stdout",
     "output_type": "stream",
     "text": [
      "Help on built-in function sqrt in module math:\n",
      "\n",
      "sqrt(x, /)\n",
      "    Return the square root of x.\n",
      "\n"
     ]
    }
   ],
   "source": [
    "help(math.sqrt)"
   ]
  },
  {
   "cell_type": "code",
   "execution_count": 44,
   "id": "43cdbbb4",
   "metadata": {},
   "outputs": [
    {
     "data": {
      "text/plain": [
       "1.4142135623730951"
      ]
     },
     "execution_count": 44,
     "metadata": {},
     "output_type": "execute_result"
    }
   ],
   "source": [
    "math.sqrt(2)"
   ]
  },
  {
   "cell_type": "markdown",
   "id": "ac27979c",
   "metadata": {},
   "source": [
    "## Definición de funciones"
   ]
  },
  {
   "cell_type": "code",
   "execution_count": 46,
   "id": "e0e4ca86",
   "metadata": {},
   "outputs": [],
   "source": [
    "# Definición de una función sin argumentos\n",
    "def saludo():\n",
    "    print(\"hola\")"
   ]
  },
  {
   "cell_type": "code",
   "execution_count": 47,
   "id": "2d080f2e",
   "metadata": {},
   "outputs": [
    {
     "name": "stdout",
     "output_type": "stream",
     "text": [
      "hola\n"
     ]
    }
   ],
   "source": [
    "saludo()"
   ]
  },
  {
   "cell_type": "code",
   "execution_count": 49,
   "id": "19d964af",
   "metadata": {},
   "outputs": [],
   "source": [
    "# Definición de una función con un argumento\n",
    "# y un valor de regreso\n",
    "def f(x):\n",
    "    return x ** 2"
   ]
  },
  {
   "cell_type": "code",
   "execution_count": 50,
   "id": "737c90c1",
   "metadata": {},
   "outputs": [
    {
     "data": {
      "text/plain": [
       "25"
      ]
     },
     "execution_count": 50,
     "metadata": {},
     "output_type": "execute_result"
    }
   ],
   "source": [
    "# invocación de la función\n",
    "f(5)"
   ]
  },
  {
   "cell_type": "code",
   "execution_count": 51,
   "id": "d54fca70",
   "metadata": {},
   "outputs": [
    {
     "data": {
      "text/plain": [
       "6.0"
      ]
     },
     "execution_count": 51,
     "metadata": {},
     "output_type": "execute_result"
    }
   ],
   "source": [
    "# Definición de una función con dos argumentos\n",
    "# y un valor de regreso\n",
    "def area(base, altura):\n",
    "    return base * altura / 2\n",
    "area(3, 4)"
   ]
  },
  {
   "cell_type": "code",
   "execution_count": 52,
   "id": "a5b7b39e",
   "metadata": {},
   "outputs": [
    {
     "data": {
      "text/plain": [
       "12"
      ]
     },
     "execution_count": 52,
     "metadata": {},
     "output_type": "execute_result"
    }
   ],
   "source": [
    "# Definición de una función con tres argumentos\n",
    "# y un valor de regreso\n",
    "def perimetro(lado1, lado2, lado3):\n",
    "    return lado1 + lado2 + lado3\n",
    "perimetro(3, 4, 5)"
   ]
  },
  {
   "cell_type": "markdown",
   "id": "d3d9593b",
   "metadata": {},
   "source": [
    "El resultado de la invocación a una función suele asignarse a una variable"
   ]
  },
  {
   "cell_type": "code",
   "execution_count": 56,
   "id": "295d0f5f",
   "metadata": {},
   "outputs": [
    {
     "name": "stdout",
     "output_type": "stream",
     "text": [
      "hola\n"
     ]
    }
   ],
   "source": [
    "a = saludo()\n",
    "a"
   ]
  },
  {
   "cell_type": "code",
   "execution_count": 57,
   "id": "a479ed67",
   "metadata": {},
   "outputs": [
    {
     "name": "stdout",
     "output_type": "stream",
     "text": [
      "None\n"
     ]
    }
   ],
   "source": [
    "# No hay valor de regreso\n",
    "print(a)"
   ]
  },
  {
   "cell_type": "code",
   "execution_count": 58,
   "id": "e68ee2b8",
   "metadata": {},
   "outputs": [],
   "source": [
    "def saludo2():\n",
    "    return \"hola\""
   ]
  },
  {
   "cell_type": "code",
   "execution_count": 59,
   "id": "07f362da",
   "metadata": {},
   "outputs": [
    {
     "name": "stdout",
     "output_type": "stream",
     "text": [
      "hola\n"
     ]
    }
   ],
   "source": [
    "a = saludo2()\n",
    "print(a)"
   ]
  },
  {
   "cell_type": "markdown",
   "id": "e46659c0",
   "metadata": {},
   "source": [
    "Los argumentos de una función deben **coincidir en número y orden** cuando se invoca la función:"
   ]
  },
  {
   "cell_type": "code",
   "execution_count": 64,
   "id": "fcce114d",
   "metadata": {},
   "outputs": [],
   "source": [
    "def saludo3(nombre, mensaje):\n",
    "    print(nombre + \", \" + mensaje)"
   ]
  },
  {
   "cell_type": "code",
   "execution_count": 77,
   "id": "ee9c3981",
   "metadata": {},
   "outputs": [
    {
     "name": "stdout",
     "output_type": "stream",
     "text": [
      "Oscar, ¿qué tal?\n"
     ]
    }
   ],
   "source": [
    "saludo3(\"Oscar\", \"¿qué tal?\")"
   ]
  },
  {
   "cell_type": "code",
   "execution_count": 78,
   "id": "77ccf1e2",
   "metadata": {},
   "outputs": [
    {
     "ename": "TypeError",
     "evalue": "saludo3() missing 1 required positional argument: 'mensaje'",
     "output_type": "error",
     "traceback": [
      "\u001b[0;31m---------------------------------------------------------------------------\u001b[0m",
      "\u001b[0;31mTypeError\u001b[0m                                 Traceback (most recent call last)",
      "Cell \u001b[0;32mIn[78], line 1\u001b[0m\n\u001b[0;32m----> 1\u001b[0m \u001b[43msaludo3\u001b[49m\u001b[43m(\u001b[49m\u001b[38;5;124;43m\"\u001b[39;49m\u001b[38;5;124;43mOscar\u001b[39;49m\u001b[38;5;124;43m\"\u001b[39;49m\u001b[43m)\u001b[49m\n",
      "\u001b[0;31mTypeError\u001b[0m: saludo3() missing 1 required positional argument: 'mensaje'"
     ]
    }
   ],
   "source": [
    "saludo3(\"Oscar\")"
   ]
  },
  {
   "cell_type": "markdown",
   "id": "056e926a",
   "metadata": {},
   "source": [
    "Sin embargo, es posible especificar en la definición de la función el valor por defecto de uno o más argumentos"
   ]
  },
  {
   "cell_type": "code",
   "execution_count": 79,
   "id": "4698b996",
   "metadata": {},
   "outputs": [],
   "source": [
    "def saludo4(nombre, mensaje=\"¡mucho gusto!\"):\n",
    "    print(nombre + \", \" + mensaje)"
   ]
  },
  {
   "cell_type": "code",
   "execution_count": 80,
   "id": "35d4f341",
   "metadata": {},
   "outputs": [
    {
     "name": "stdout",
     "output_type": "stream",
     "text": [
      "Oscar, qué tal\n"
     ]
    }
   ],
   "source": [
    "saludo4(\"Oscar\", \"qué tal\")"
   ]
  },
  {
   "cell_type": "code",
   "execution_count": 81,
   "id": "80153c70",
   "metadata": {},
   "outputs": [
    {
     "name": "stdout",
     "output_type": "stream",
     "text": [
      "Oscar, ¡mucho gusto!\n"
     ]
    }
   ],
   "source": [
    "saludo4(\"Oscar\")"
   ]
  },
  {
   "cell_type": "markdown",
   "id": "3c13f663",
   "metadata": {},
   "source": [
    "### Buenas prácticas en el diseño de funciones"
   ]
  },
  {
   "cell_type": "markdown",
   "id": "b4d8952c",
   "metadata": {},
   "source": [
    "De principio, para cualquier función predefinida (built-in function) se puede obtener su descripción y ayuda sobre su funcionamiento con la función `help()`. Esta ayuda despliega las propiedades de la función, dado el caso, los tipos de parámetros que requiere y el tipo de valor de retorno."
   ]
  },
  {
   "cell_type": "code",
   "execution_count": 12,
   "id": "1e69bb18",
   "metadata": {},
   "outputs": [
    {
     "name": "stdout",
     "output_type": "stream",
     "text": [
      "Help on built-in function abs in module builtins:\n",
      "\n",
      "abs(x, /)\n",
      "    Return the absolute value of the argument.\n",
      "\n"
     ]
    }
   ],
   "source": [
    "# Ayuda de las funciones\n",
    "help(abs)"
   ]
  },
  {
   "cell_type": "markdown",
   "id": "d5a8ab36",
   "metadata": {},
   "source": [
    "El diseño de cualquier función en Python sigue un conjunto de *convenciones* con el que se logra una comprensión correcta sobre su funcionamiento y los valores que recibe y devuelve."
   ]
  },
  {
   "cell_type": "code",
   "execution_count": 14,
   "id": "a298c8f0",
   "metadata": {},
   "outputs": [],
   "source": [
    "def area(base, altura):             # Header\n",
    "    '''(numero, numero) -> numero   # Type contract\n",
    "    \n",
    "    Regresa el area de un triangulo\n",
    "    con dimensiones base y altura.  # Description \n",
    "    \n",
    "    >>> area(10,5)                  # Examples \n",
    "    25.0\n",
    "    >>> area(2.5, 3)\n",
    "    3.75\n",
    "    '''\n",
    "    return base * altura / 2        # Body"
   ]
  },
  {
   "cell_type": "markdown",
   "id": "94c20887",
   "metadata": {},
   "source": [
    "> Obsérvese la identación del contenido de la función después de los dos puntos : y la inclusión de ejemplos de uso y funcionamiento de la función que servirán posteriormente para hacer *\"tests\"* de esta."
   ]
  },
  {
   "cell_type": "code",
   "execution_count": 15,
   "id": "454b3895",
   "metadata": {},
   "outputs": [
    {
     "name": "stdout",
     "output_type": "stream",
     "text": [
      "Help on function area in module __main__:\n",
      "\n",
      "area(base, altura)\n",
      "    (numero, numero) -> numero   # Type contract\n",
      "    \n",
      "    Regresa el area de un triangulo\n",
      "    con dimensiones base y altura.  # Description \n",
      "    \n",
      "    >>> area(10,5)                  # Examples \n",
      "    25.0\n",
      "    >>> area(2.5, 3)\n",
      "    3.75\n",
      "\n"
     ]
    }
   ],
   "source": [
    "help(area)"
   ]
  },
  {
   "cell_type": "code",
   "execution_count": 20,
   "id": "7b618bab",
   "metadata": {},
   "outputs": [],
   "source": [
    "def convert_to_celsius(fahrenheit):\n",
    "    '''(number)-> float\n",
    "    \n",
    "    Regresa el número de grados Celsius equivalente\n",
    "    en fahrenheit\n",
    "    \n",
    "    >>> convert_to_celsius(32)\n",
    "    0.0\n",
    "    >>> convert_to_celsius(212)\n",
    "    100.0\n",
    "    '''\n",
    "    return (fahrenheit - 32) * 5 / 9"
   ]
  },
  {
   "cell_type": "code",
   "execution_count": 17,
   "id": "8b189c21",
   "metadata": {},
   "outputs": [
    {
     "data": {
      "text/plain": [
       "0.0"
      ]
     },
     "execution_count": 17,
     "metadata": {},
     "output_type": "execute_result"
    }
   ],
   "source": [
    "convert_to_celsius(32)"
   ]
  },
  {
   "cell_type": "code",
   "execution_count": 18,
   "id": "c9135ce2",
   "metadata": {},
   "outputs": [
    {
     "data": {
      "text/plain": [
       "100.0"
      ]
     },
     "execution_count": 18,
     "metadata": {},
     "output_type": "execute_result"
    }
   ],
   "source": [
    "convert_to_celsius(212)"
   ]
  },
  {
   "cell_type": "code",
   "execution_count": 21,
   "id": "6eea47e7",
   "metadata": {},
   "outputs": [
    {
     "name": "stdout",
     "output_type": "stream",
     "text": [
      "Help on function convert_to_celsius in module __main__:\n",
      "\n",
      "convert_to_celsius(fahrenheit)\n",
      "    (number)-> float\n",
      "    \n",
      "    Regresa el número de grados Celsius equivalente\n",
      "    en fahrenheit\n",
      "    \n",
      "    >>> convert_to_celsius(32)\n",
      "    0.0\n",
      "    >>> convert_to_celsius(212)\n",
      "    100.0\n",
      "\n"
     ]
    }
   ],
   "source": [
    "help(convert_to_celsius)"
   ]
  },
  {
   "cell_type": "markdown",
   "id": "cc45558a",
   "metadata": {},
   "source": [
    "Es posible usar una función dentro de otra función. La ventaja de crear funciones es poder **reutilizarlas** cuando se requieran."
   ]
  },
  {
   "cell_type": "code",
   "execution_count": 24,
   "id": "c6459407",
   "metadata": {},
   "outputs": [],
   "source": [
    "def perimetro(lado1, lado2, lado3):\n",
    "    '''(number, number, number) -> number\n",
    "    \n",
    "    Regresa el perímetro de un triángulo\n",
    "    con longitud de los lados lado1, lado2, lado3\n",
    "    \n",
    "    >>> perimetro(3, 4, 5)\n",
    "    12\n",
    "    >>> perimetro(10.5, 6, 9.3)\n",
    "    25.8\n",
    "    '''\n",
    "    \n",
    "    return lado1 + lado2 + lado3     "
   ]
  },
  {
   "cell_type": "code",
   "execution_count": 39,
   "id": "2c593da4",
   "metadata": {},
   "outputs": [
    {
     "name": "stdout",
     "output_type": "stream",
     "text": [
      "Help on function perimetro in module __main__:\n",
      "\n",
      "perimetro(lado1, lado2, lado3)\n",
      "    (number, number, number) -> number\n",
      "    \n",
      "    Regresa el perímetro de un triángulo\n",
      "    con longitud de los lados lado1, lado2, lado3\n",
      "    \n",
      "    >>> perimetro(3, 4, 5)\n",
      "    12\n",
      "    >>> perimetro(10.5, 6, 9.3)\n",
      "    25.8\n",
      "\n"
     ]
    }
   ],
   "source": [
    "help(perimetro)"
   ]
  },
  {
   "cell_type": "code",
   "execution_count": 26,
   "id": "e62d001f",
   "metadata": {},
   "outputs": [
    {
     "data": {
      "text/plain": [
       "12"
      ]
     },
     "execution_count": 26,
     "metadata": {},
     "output_type": "execute_result"
    }
   ],
   "source": [
    "perimetro(3, 4, 5)"
   ]
  },
  {
   "cell_type": "code",
   "execution_count": 27,
   "id": "dc2ade68",
   "metadata": {},
   "outputs": [
    {
     "data": {
      "text/plain": [
       "25.8"
      ]
     },
     "execution_count": 27,
     "metadata": {},
     "output_type": "execute_result"
    }
   ],
   "source": [
    "perimetro (10.5, 6, 9.3)"
   ]
  },
  {
   "cell_type": "code",
   "execution_count": 35,
   "id": "1ec92a48",
   "metadata": {},
   "outputs": [],
   "source": [
    "def semiperimetro(lado1, lado2, lado3):\n",
    "    ''' (number, number, number) -> float\n",
    "    \n",
    "    Regresa el semiperímetro de un triángulo con\n",
    "    longitud de los lados lado1, lado2, lado3.\n",
    "    \n",
    "    >>> semiperimeter(3, 4, 5)\n",
    "    6.0\n",
    "    >>> semiperimeter(10.5, 6, 9.3)\n",
    "    12.9\n",
    "    '''\n",
    "    \n",
    "    return perimetro(lado1, lado2, lado3)/2"
   ]
  },
  {
   "cell_type": "code",
   "execution_count": 40,
   "id": "0a05f3cf",
   "metadata": {},
   "outputs": [
    {
     "name": "stdout",
     "output_type": "stream",
     "text": [
      "Help on function semiperimetro in module __main__:\n",
      "\n",
      "semiperimetro(lado1, lado2, lado3)\n",
      "    (number, number, number) -> float\n",
      "    \n",
      "    Regresa el semiperímetro de un triángulo con\n",
      "    longitud de los lados lado1, lado2, lado3.\n",
      "    \n",
      "    >>> semiperimeter(3, 4, 5)\n",
      "    6.0\n",
      "    >>> semiperimeter(10.5, 6, 9.3)\n",
      "    12.9\n",
      "\n"
     ]
    }
   ],
   "source": [
    "help(semiperimetro)"
   ]
  },
  {
   "cell_type": "code",
   "execution_count": 36,
   "id": "9e29e20d",
   "metadata": {},
   "outputs": [
    {
     "data": {
      "text/plain": [
       "6.0"
      ]
     },
     "execution_count": 36,
     "metadata": {},
     "output_type": "execute_result"
    }
   ],
   "source": [
    "semiperimetro(3,4,5)"
   ]
  },
  {
   "cell_type": "code",
   "execution_count": 38,
   "id": "6d0e6832",
   "metadata": {},
   "outputs": [
    {
     "data": {
      "text/plain": [
       "13.0"
      ]
     },
     "execution_count": 38,
     "metadata": {},
     "output_type": "execute_result"
    }
   ],
   "source": [
    "semiperimetro(10.5, 6, 9.5)"
   ]
  },
  {
   "cell_type": "markdown",
   "id": "6f54bd32",
   "metadata": {},
   "source": [
    "**Ejercicio:** Se desea calcular el área de un triángulo usando la fórmula de Herón: $\\sqrt{s(s-s_1)(s-s_2)(s-s_3)}$ donde $s$ es el semiperímetro y $s_1,s_2,s_3$ son los lados. Reutiliza la función `semiperímetro()`.\n",
    "\n",
    "Como ayuda te comparto un segmento de la función...complétala."
   ]
  },
  {
   "cell_type": "code",
   "execution_count": null,
   "id": "71819ce4",
   "metadata": {},
   "outputs": [],
   "source": [
    "def area_heron(lado1, lado2, ):\n",
    "    '''(number, number, number) -> float\n",
    "    \n",
    "    Devuelve el área de un triángulo con\n",
    "    longitud de los lados lado1, lado2, lado3.\n",
    "    \n",
    "    >>> area_heron(3, 4, 5)\n",
    "    6.0\n",
    "    >>> area_heron(10.5, 6, 9.3)\n",
    "    27.73168584850189\n",
    "    '''\n",
    "    \n",
    "    semi = semiperimeter()\n",
    "    area = math.sqrt(semi * ( - side1) * ( - side2) * ( - side3))\n",
    "    return area"
   ]
  },
  {
   "cell_type": "markdown",
   "id": "89f456d6",
   "metadata": {},
   "source": [
    "> Python permite crear funciones de usuario al estilo **\"non-build-in fuctions\"** las cuales pueden ser llamadas desde cualesquiera otras funciones o archivos. Estas funciones de usuario son accesibles al *importar* el **módulo** en el que están definidas, así la funcion **funcion()** definida en el archivo **file.py** puede ser llamada importando el módulo **file**."
   ]
  },
  {
   "cell_type": "markdown",
   "id": "a4068d5a",
   "metadata": {},
   "source": [
    "## Cadenas de caracteres"
   ]
  },
  {
   "cell_type": "markdown",
   "id": "0792b7f0",
   "metadata": {},
   "source": [
    "En Python todo es un **objeto**. Las cadenas de caracteres son objetos de tipo `str` que tiene métodos y propiedades implementados, además de funciones predefinidas que reciben como argumento a una cadena de caracteres. Existen tres constructores para _instanciar_ una cadena:"
   ]
  },
  {
   "cell_type": "code",
   "execution_count": 82,
   "id": "6cf66c7c",
   "metadata": {},
   "outputs": [
    {
     "data": {
      "text/plain": [
       "'hola'"
      ]
     },
     "execution_count": 82,
     "metadata": {},
     "output_type": "execute_result"
    }
   ],
   "source": [
    "'hola'"
   ]
  },
  {
   "cell_type": "code",
   "execution_count": 85,
   "id": "9a43990a",
   "metadata": {},
   "outputs": [
    {
     "data": {
      "text/plain": [
       "'hola'"
      ]
     },
     "execution_count": 85,
     "metadata": {},
     "output_type": "execute_result"
    }
   ],
   "source": [
    "\"hola\""
   ]
  },
  {
   "cell_type": "code",
   "execution_count": 86,
   "id": "619c8da4",
   "metadata": {},
   "outputs": [
    {
     "data": {
      "text/plain": [
       "'\\nhola\\nespero\\nestés bien\\n'"
      ]
     },
     "execution_count": 86,
     "metadata": {},
     "output_type": "execute_result"
    }
   ],
   "source": [
    "'''\n",
    "hola\n",
    "espero\n",
    "estés bien\n",
    "'''"
   ]
  },
  {
   "cell_type": "code",
   "execution_count": 90,
   "id": "036b25f8",
   "metadata": {},
   "outputs": [],
   "source": [
    "micadena = '''\n",
    "hola\n",
    "espero\n",
    "estés bien\n",
    "'''"
   ]
  },
  {
   "cell_type": "code",
   "execution_count": 91,
   "id": "924b7501",
   "metadata": {},
   "outputs": [
    {
     "name": "stdout",
     "output_type": "stream",
     "text": [
      "\n",
      "hola\n",
      "espero\n",
      "estés bien\n",
      "\n"
     ]
    }
   ],
   "source": [
    "print(micadena)"
   ]
  },
  {
   "cell_type": "markdown",
   "id": "e18dbd8d",
   "metadata": {},
   "source": [
    "Algunas operaciones con cadenas"
   ]
  },
  {
   "cell_type": "code",
   "execution_count": 88,
   "id": "7357f09e",
   "metadata": {},
   "outputs": [
    {
     "data": {
      "text/plain": [
       "'holaestudiantes'"
      ]
     },
     "execution_count": 88,
     "metadata": {},
     "output_type": "execute_result"
    }
   ],
   "source": [
    "# concatena\n",
    "'hola' + 'estudiantes'"
   ]
  },
  {
   "cell_type": "code",
   "execution_count": 89,
   "id": "0dd3490b",
   "metadata": {},
   "outputs": [
    {
     "data": {
      "text/plain": [
       "'holaholaholaholahola'"
      ]
     },
     "execution_count": 89,
     "metadata": {},
     "output_type": "execute_result"
    }
   ],
   "source": [
    "# multiplica la concatenación\n",
    "'hola' * 5"
   ]
  },
  {
   "cell_type": "markdown",
   "id": "1c07fdbb",
   "metadata": {},
   "source": [
    "### Cadenas y operadores"
   ]
  },
  {
   "cell_type": "code",
   "execution_count": 93,
   "id": "937dc763",
   "metadata": {},
   "outputs": [],
   "source": [
    "animal = 'cat'"
   ]
  },
  {
   "cell_type": "code",
   "execution_count": 94,
   "id": "e7f1348b",
   "metadata": {},
   "outputs": [
    {
     "data": {
      "text/plain": [
       "True"
      ]
     },
     "execution_count": 94,
     "metadata": {},
     "output_type": "execute_result"
    }
   ],
   "source": [
    "animal == 'cat'"
   ]
  },
  {
   "cell_type": "code",
   "execution_count": 95,
   "id": "e8fa6ce0",
   "metadata": {},
   "outputs": [
    {
     "data": {
      "text/plain": [
       "False"
      ]
     },
     "execution_count": 95,
     "metadata": {},
     "output_type": "execute_result"
    }
   ],
   "source": [
    "animal != 'cat'"
   ]
  },
  {
   "cell_type": "code",
   "execution_count": 96,
   "id": "f1321b43",
   "metadata": {},
   "outputs": [
    {
     "data": {
      "text/plain": [
       "True"
      ]
     },
     "execution_count": 96,
     "metadata": {},
     "output_type": "execute_result"
    }
   ],
   "source": [
    "'aba' < 'ace'"
   ]
  },
  {
   "cell_type": "code",
   "execution_count": 97,
   "id": "60eb0658",
   "metadata": {},
   "outputs": [
    {
     "data": {
      "text/plain": [
       "True"
      ]
     },
     "execution_count": 97,
     "metadata": {},
     "output_type": "execute_result"
    }
   ],
   "source": [
    "'A' <= 'a'"
   ]
  },
  {
   "cell_type": "code",
   "execution_count": 98,
   "id": "c323537d",
   "metadata": {},
   "outputs": [
    {
     "data": {
      "text/plain": [
       "True"
      ]
     },
     "execution_count": 98,
     "metadata": {},
     "output_type": "execute_result"
    }
   ],
   "source": [
    "'cad' in 'abracadabra'"
   ]
  },
  {
   "cell_type": "code",
   "execution_count": 99,
   "id": "01790272",
   "metadata": {},
   "outputs": [
    {
     "data": {
      "text/plain": [
       "False"
      ]
     },
     "execution_count": 99,
     "metadata": {},
     "output_type": "execute_result"
    }
   ],
   "source": [
    "'zoo' in 'hola'"
   ]
  },
  {
   "cell_type": "code",
   "execution_count": 100,
   "id": "fb02d9f6",
   "metadata": {},
   "outputs": [
    {
     "data": {
      "text/plain": [
       "True"
      ]
     },
     "execution_count": 100,
     "metadata": {},
     "output_type": "execute_result"
    }
   ],
   "source": [
    "'' in 'abc'"
   ]
  },
  {
   "cell_type": "code",
   "execution_count": 101,
   "id": "bbce2cdc",
   "metadata": {},
   "outputs": [
    {
     "data": {
      "text/plain": [
       "True"
      ]
     },
     "execution_count": 101,
     "metadata": {},
     "output_type": "execute_result"
    }
   ],
   "source": [
    "'' in ''"
   ]
  },
  {
   "cell_type": "code",
   "execution_count": 102,
   "id": "658ab54a",
   "metadata": {},
   "outputs": [
    {
     "data": {
      "text/plain": [
       "4"
      ]
     },
     "execution_count": 102,
     "metadata": {},
     "output_type": "execute_result"
    }
   ],
   "source": [
    "# longitud de una cadena\n",
    "len(\"hola\")"
   ]
  },
  {
   "cell_type": "markdown",
   "id": "162769e9",
   "metadata": {},
   "source": [
    "Otra forma de consulta ayuda es mediante el operador `?`"
   ]
  },
  {
   "cell_type": "code",
   "execution_count": 105,
   "id": "5e63f50e",
   "metadata": {},
   "outputs": [],
   "source": [
    "len?"
   ]
  },
  {
   "cell_type": "code",
   "execution_count": 107,
   "id": "a615a65a",
   "metadata": {},
   "outputs": [
    {
     "data": {
      "text/plain": [
       "22"
      ]
     },
     "execution_count": 107,
     "metadata": {},
     "output_type": "execute_result"
    }
   ],
   "source": [
    "len(\"Vamos\" + \"a leer \" + \"una cadena\")"
   ]
  },
  {
   "cell_type": "markdown",
   "id": "235500be",
   "metadata": {},
   "source": [
    "## Cadenas, índices y subcadenas"
   ]
  },
  {
   "cell_type": "markdown",
   "id": "ad699218",
   "metadata": {},
   "source": [
    "Una cadena es un conjunto de caracteres, cada uno de ellos tienen asignado un índice. En Python este índice se contabiliza bidireccionalmente:\n",
    "\n",
    "| L | E | A | R | N | T | O | P | R | O | G | R | A | M |\n",
    "|---|---|---|---|---|---|---|---|---|---|---|---|---|---|\n",
    "| 0 | 1 | 2 | 3 | 4 | 5 | 6 | 7 | 8 | 9 |10 |11 | 12| 13|\n",
    "|-15|-14|-13|-12|-11|-10|-10|-9|-8|-7|-6|-5|-4|-3|-2|-1|"
   ]
  },
  {
   "cell_type": "markdown",
   "id": "6033e944",
   "metadata": {},
   "source": [
    "Conceptos básicos:\n",
    "- **Ìndice**: Posición dentro un string\n",
    "- **Slice**: Una subcadena dentro de otra cadena a partir del índice inicial hasta el índice final sin incluirlo."
   ]
  },
  {
   "cell_type": "code",
   "execution_count": 110,
   "id": "2f84c388",
   "metadata": {},
   "outputs": [
    {
     "data": {
      "text/plain": [
       "'L'"
      ]
     },
     "execution_count": 110,
     "metadata": {},
     "output_type": "execute_result"
    }
   ],
   "source": [
    "s = 'Learntoprogram'\n",
    "s[0]"
   ]
  },
  {
   "cell_type": "code",
   "execution_count": 111,
   "id": "9b8804ca",
   "metadata": {},
   "outputs": [
    {
     "data": {
      "text/plain": [
       "'e'"
      ]
     },
     "execution_count": 111,
     "metadata": {},
     "output_type": "execute_result"
    }
   ],
   "source": [
    "s[1]"
   ]
  },
  {
   "cell_type": "code",
   "execution_count": 112,
   "id": "d08ed388",
   "metadata": {},
   "outputs": [
    {
     "data": {
      "text/plain": [
       "'a'"
      ]
     },
     "execution_count": 112,
     "metadata": {},
     "output_type": "execute_result"
    }
   ],
   "source": [
    "s[2]"
   ]
  },
  {
   "cell_type": "code",
   "execution_count": 113,
   "id": "86ab6aa1",
   "metadata": {},
   "outputs": [
    {
     "data": {
      "text/plain": [
       "'m'"
      ]
     },
     "execution_count": 113,
     "metadata": {},
     "output_type": "execute_result"
    }
   ],
   "source": [
    "s[-1]"
   ]
  },
  {
   "cell_type": "code",
   "execution_count": 114,
   "id": "eac4ec1a",
   "metadata": {},
   "outputs": [
    {
     "data": {
      "text/plain": [
       "'a'"
      ]
     },
     "execution_count": 114,
     "metadata": {},
     "output_type": "execute_result"
    }
   ],
   "source": [
    "s[-2]"
   ]
  },
  {
   "cell_type": "code",
   "execution_count": 115,
   "id": "531ed695",
   "metadata": {},
   "outputs": [
    {
     "data": {
      "text/plain": [
       "'r'"
      ]
     },
     "execution_count": 115,
     "metadata": {},
     "output_type": "execute_result"
    }
   ],
   "source": [
    "s[-3]"
   ]
  },
  {
   "cell_type": "code",
   "execution_count": 116,
   "id": "ee023f3f",
   "metadata": {},
   "outputs": [
    {
     "data": {
      "text/plain": [
       "'Learn'"
      ]
     },
     "execution_count": 116,
     "metadata": {},
     "output_type": "execute_result"
    }
   ],
   "source": [
    "#Se toma un slice o rebanada de la cadena s\n",
    "s[0:5]"
   ]
  },
  {
   "cell_type": "markdown",
   "id": "64f32e89",
   "metadata": {},
   "source": [
    "La operación de **slicing** es inclusivo por la izquierda y exclusivo por la derecha [a,b)"
   ]
  },
  {
   "cell_type": "code",
   "execution_count": 117,
   "id": "394bd709",
   "metadata": {},
   "outputs": [
    {
     "data": {
      "text/plain": [
       "'op'"
      ]
     },
     "execution_count": 117,
     "metadata": {},
     "output_type": "execute_result"
    }
   ],
   "source": [
    "# toma los caracteres en los\n",
    "# índices 6 y 7\n",
    "s[6:8]"
   ]
  },
  {
   "cell_type": "code",
   "execution_count": 123,
   "id": "ac916b82",
   "metadata": {},
   "outputs": [
    {
     "data": {
      "text/plain": [
       "'program'"
      ]
     },
     "execution_count": 123,
     "metadata": {},
     "output_type": "execute_result"
    }
   ],
   "source": [
    "s[7:14]"
   ]
  },
  {
   "cell_type": "code",
   "execution_count": 119,
   "id": "d022d9e9",
   "metadata": {},
   "outputs": [
    {
     "data": {
      "text/plain": [
       "14"
      ]
     },
     "execution_count": 119,
     "metadata": {},
     "output_type": "execute_result"
    }
   ],
   "source": [
    "len(s)"
   ]
  },
  {
   "cell_type": "code",
   "execution_count": 121,
   "id": "6ac9b8fe",
   "metadata": {},
   "outputs": [
    {
     "data": {
      "text/plain": [
       "'program'"
      ]
     },
     "execution_count": 121,
     "metadata": {},
     "output_type": "execute_result"
    }
   ],
   "source": [
    "s[7:len(s)]"
   ]
  },
  {
   "cell_type": "code",
   "execution_count": 124,
   "id": "ec5c3354",
   "metadata": {},
   "outputs": [
    {
     "data": {
      "text/plain": [
       "'ogram'"
      ]
     },
     "execution_count": 124,
     "metadata": {},
     "output_type": "execute_result"
    }
   ],
   "source": [
    "# desde un índice hasta el final\n",
    "s[9:]"
   ]
  },
  {
   "cell_type": "code",
   "execution_count": 127,
   "id": "7d8b3fe5",
   "metadata": {},
   "outputs": [
    {
     "data": {
      "text/plain": [
       "'Learnto'"
      ]
     },
     "execution_count": 127,
     "metadata": {},
     "output_type": "execute_result"
    }
   ],
   "source": [
    "# desde el inicio hasta un índice (uno anterior)\n",
    "s[:7]"
   ]
  },
  {
   "cell_type": "code",
   "execution_count": 129,
   "id": "8e438047",
   "metadata": {},
   "outputs": [
    {
     "data": {
      "text/plain": [
       "'Learnto'"
      ]
     },
     "execution_count": 129,
     "metadata": {},
     "output_type": "execute_result"
    }
   ],
   "source": [
    "s[-15:-7]"
   ]
  },
  {
   "cell_type": "code",
   "execution_count": 130,
   "id": "fb35232f",
   "metadata": {},
   "outputs": [
    {
     "ename": "TypeError",
     "evalue": "'str' object does not support item assignment",
     "output_type": "error",
     "traceback": [
      "\u001b[0;31m---------------------------------------------------------------------------\u001b[0m",
      "\u001b[0;31mTypeError\u001b[0m                                 Traceback (most recent call last)",
      "Cell \u001b[0;32mIn[130], line 2\u001b[0m\n\u001b[1;32m      1\u001b[0m \u001b[38;5;66;03m# error!!!\u001b[39;00m\n\u001b[0;32m----> 2\u001b[0m s[\u001b[38;5;241m6\u001b[39m] \u001b[38;5;241m=\u001b[39m \u001b[38;5;124m'\u001b[39m\u001b[38;5;124md\u001b[39m\u001b[38;5;124m'\u001b[39m\n",
      "\u001b[0;31mTypeError\u001b[0m: 'str' object does not support item assignment"
     ]
    }
   ],
   "source": [
    "# error!!!\n",
    "s[6] = 'd'"
   ]
  },
  {
   "cell_type": "markdown",
   "id": "f420b5cd",
   "metadata": {},
   "source": [
    "Las cadenas son objetos **inmutables** y no pueden modificar sus caracteres."
   ]
  },
  {
   "cell_type": "code",
   "execution_count": 131,
   "id": "abc9c4e5",
   "metadata": {},
   "outputs": [
    {
     "data": {
      "text/plain": [
       "'Learnedtoprogram'"
      ]
     },
     "execution_count": 131,
     "metadata": {},
     "output_type": "execute_result"
    }
   ],
   "source": [
    "s[:5] + 'ed' + s[5:]"
   ]
  },
  {
   "cell_type": "code",
   "execution_count": 132,
   "id": "cc3bbed7",
   "metadata": {},
   "outputs": [
    {
     "data": {
      "text/plain": [
       "'Learnedtoprogram'"
      ]
     },
     "execution_count": 132,
     "metadata": {},
     "output_type": "execute_result"
    }
   ],
   "source": [
    "s = s[:5] + 'ed' + s[5:]\n",
    "s"
   ]
  },
  {
   "cell_type": "markdown",
   "id": "722969c2",
   "metadata": {},
   "source": [
    "### Métdos de cadenas"
   ]
  },
  {
   "cell_type": "markdown",
   "id": "e7541264",
   "metadata": {},
   "source": [
    "Un objeto cadena tiene diversos métodos. Un método es un una función dentro de un objeto y es invocado de manera siguiente: `objeto.metodo(argumentos)`"
   ]
  },
  {
   "cell_type": "code",
   "execution_count": 135,
   "id": "bd13b691",
   "metadata": {},
   "outputs": [
    {
     "data": {
      "text/plain": [
       "\"i'm late! i'm late! for a very important date!\""
      ]
     },
     "execution_count": 135,
     "metadata": {},
     "output_type": "execute_result"
    }
   ],
   "source": [
    "white_rabbit = \"I'm late! I'm late! For a very important date!\"\n",
    "white_rabbit.lower()"
   ]
  },
  {
   "cell_type": "code",
   "execution_count": null,
   "id": "c8afefbe",
   "metadata": {},
   "outputs": [],
   "source": [
    "# muestra los métodos de un objeto tipo cadena (str)\n",
    "dir(str)"
   ]
  },
  {
   "cell_type": "code",
   "execution_count": null,
   "id": "b7f9f5d2",
   "metadata": {},
   "outputs": [],
   "source": [
    "# muestra la ayuda sobre un método particular\n",
    "help(str.lower) "
   ]
  },
  {
   "cell_type": "code",
   "execution_count": null,
   "id": "73d8d4fb",
   "metadata": {},
   "outputs": [],
   "source": [
    "help(str.count)"
   ]
  },
  {
   "cell_type": "code",
   "execution_count": 138,
   "id": "932a5123",
   "metadata": {},
   "outputs": [
    {
     "data": {
      "text/plain": [
       "3"
      ]
     },
     "execution_count": 138,
     "metadata": {},
     "output_type": "execute_result"
    }
   ],
   "source": [
    "white_rabbit.count('ate')"
   ]
  },
  {
   "cell_type": "code",
   "execution_count": 139,
   "id": "91a542e1",
   "metadata": {},
   "outputs": [
    {
     "data": {
      "text/plain": [
       "'Computer'"
      ]
     },
     "execution_count": 139,
     "metadata": {},
     "output_type": "execute_result"
    }
   ],
   "source": [
    "\"computer\".capitalize()"
   ]
  },
  {
   "cell_type": "code",
   "execution_count": 140,
   "id": "49ab2773",
   "metadata": {},
   "outputs": [
    {
     "data": {
      "text/plain": [
       "4"
      ]
     },
     "execution_count": 140,
     "metadata": {},
     "output_type": "execute_result"
    }
   ],
   "source": [
    "# busca el índice de la primera coincidencia\n",
    "# de la subcadena\n",
    "white_rabbit.find('late')"
   ]
  },
  {
   "cell_type": "code",
   "execution_count": 141,
   "id": "6fe11c0b",
   "metadata": {},
   "outputs": [
    {
     "data": {
      "text/plain": [
       "14"
      ]
     },
     "execution_count": 141,
     "metadata": {},
     "output_type": "execute_result"
    }
   ],
   "source": [
    "# busca el índice de la primera coincidencia\n",
    "# de la subcadena a partir de la posición indicada\n",
    "white_rabbit.find('late', 7)"
   ]
  },
  {
   "cell_type": "code",
   "execution_count": 142,
   "id": "fb698faf",
   "metadata": {},
   "outputs": [
    {
     "data": {
      "text/plain": [
       "-1"
      ]
     },
     "execution_count": 142,
     "metadata": {},
     "output_type": "execute_result"
    }
   ],
   "source": [
    "white_rabbit.find('zoo')"
   ]
  },
  {
   "cell_type": "code",
   "execution_count": 143,
   "id": "3e5649b9",
   "metadata": {},
   "outputs": [
    {
     "data": {
      "text/plain": [
       "-1"
      ]
     },
     "execution_count": 143,
     "metadata": {},
     "output_type": "execute_result"
    }
   ],
   "source": [
    "white_rabbit.find('kky')"
   ]
  },
  {
   "cell_type": "code",
   "execution_count": 144,
   "id": "4fa7fbdb",
   "metadata": {},
   "outputs": [
    {
     "data": {
      "text/plain": [
       "14"
      ]
     },
     "execution_count": 144,
     "metadata": {},
     "output_type": "execute_result"
    }
   ],
   "source": [
    "# busca el índice de la primera coincidencia\n",
    "# de la subcadena iniciando por la derecha\n",
    "white_rabbit.rfind('late')"
   ]
  },
  {
   "cell_type": "code",
   "execution_count": 145,
   "id": "8fa48512",
   "metadata": {},
   "outputs": [],
   "source": [
    "s = \"   I'm feeling spaced out.   \""
   ]
  },
  {
   "cell_type": "code",
   "execution_count": 146,
   "id": "e3f0eb1f",
   "metadata": {},
   "outputs": [
    {
     "data": {
      "text/plain": [
       "\"I'm feeling spaced out.   \""
      ]
     },
     "execution_count": 146,
     "metadata": {},
     "output_type": "execute_result"
    }
   ],
   "source": [
    "#devuelve la cadena eliminando los espacios a la izquierda\n",
    "s.lstrip()  "
   ]
  },
  {
   "cell_type": "code",
   "execution_count": 148,
   "id": "0e2c58a0",
   "metadata": {},
   "outputs": [
    {
     "data": {
      "text/plain": [
       "\"   I'm feeling spaced out.\""
      ]
     },
     "execution_count": 148,
     "metadata": {},
     "output_type": "execute_result"
    }
   ],
   "source": [
    "#devuelve la cadena eliminando los espacios a la derecha\n",
    "s.rstrip()  "
   ]
  },
  {
   "cell_type": "code",
   "execution_count": 149,
   "id": "45a69b67",
   "metadata": {},
   "outputs": [
    {
     "data": {
      "text/plain": [
       "\"I'm feeling spaced out.\""
      ]
     },
     "execution_count": 149,
     "metadata": {},
     "output_type": "execute_result"
    }
   ],
   "source": [
    "#devuelve la cadena sin espacios\n",
    "s.strip() "
   ]
  },
  {
   "cell_type": "code",
   "execution_count": 150,
   "id": "2196a472",
   "metadata": {},
   "outputs": [
    {
     "data": {
      "text/plain": [
       "\"   I'm feeling spaced out.   \""
      ]
     },
     "execution_count": 150,
     "metadata": {},
     "output_type": "execute_result"
    }
   ],
   "source": [
    "s"
   ]
  },
  {
   "cell_type": "markdown",
   "id": "170e0bb4",
   "metadata": {},
   "source": [
    "La cadena no se modifica si se usa `lstrip()`, `rstrip()` o `strip()`."
   ]
  },
  {
   "cell_type": "code",
   "execution_count": null,
   "id": "c97d6747",
   "metadata": {},
   "outputs": [],
   "source": []
  }
 ],
 "metadata": {
  "kernelspec": {
   "display_name": "Python 3 (ipykernel)",
   "language": "python",
   "name": "python3"
  },
  "language_info": {
   "codemirror_mode": {
    "name": "ipython",
    "version": 3
   },
   "file_extension": ".py",
   "mimetype": "text/x-python",
   "name": "python",
   "nbconvert_exporter": "python",
   "pygments_lexer": "ipython3",
   "version": "3.10.10"
  }
 },
 "nbformat": 4,
 "nbformat_minor": 5
}
