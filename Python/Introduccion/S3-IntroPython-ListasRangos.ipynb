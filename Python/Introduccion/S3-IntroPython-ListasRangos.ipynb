{
 "cells": [
  {
   "cell_type": "markdown",
   "metadata": {},
   "source": [
    "# Introducción a Python"
   ]
  },
  {
   "cell_type": "markdown",
   "metadata": {},
   "source": [
    "## Listas"
   ]
  },
  {
   "cell_type": "markdown",
   "metadata": {},
   "source": [
    "Una **lista** es un tipo especial de objeto en Python el cual es iterable e inmutable. Las listas pueden contener datos del mismo tipo o de tipos diferentes.\n",
    "\n",
    "La forma general para definir una lista es: ```[expr1, expr2,...,exprn]```"
   ]
  },
  {
   "cell_type": "code",
   "execution_count": 1,
   "metadata": {},
   "outputs": [],
   "source": [
    "# lista valores\n",
    "valores = [80, 90, 70]"
   ]
  },
  {
   "cell_type": "code",
   "execution_count": 2,
   "metadata": {},
   "outputs": [
    {
     "data": {
      "text/plain": [
       "list"
      ]
     },
     "execution_count": 2,
     "metadata": {},
     "output_type": "execute_result"
    }
   ],
   "source": [
    "type(valores)"
   ]
  },
  {
   "cell_type": "markdown",
   "metadata": {},
   "source": [
    "Los elementos de una lista tienen un índice asociado y puede usarse sobre ellas la notación de slice."
   ]
  },
  {
   "cell_type": "code",
   "execution_count": 3,
   "metadata": {},
   "outputs": [
    {
     "data": {
      "text/plain": [
       "90"
      ]
     },
     "execution_count": 3,
     "metadata": {},
     "output_type": "execute_result"
    }
   ],
   "source": [
    "# índices\n",
    "valores[1]"
   ]
  },
  {
   "cell_type": "code",
   "execution_count": 4,
   "metadata": {},
   "outputs": [
    {
     "data": {
      "text/plain": [
       "70"
      ]
     },
     "execution_count": 4,
     "metadata": {},
     "output_type": "execute_result"
    }
   ],
   "source": [
    "valores[2]"
   ]
  },
  {
   "cell_type": "code",
   "execution_count": 5,
   "metadata": {},
   "outputs": [
    {
     "data": {
      "text/plain": [
       "[80, 90]"
      ]
     },
     "execution_count": 5,
     "metadata": {},
     "output_type": "execute_result"
    }
   ],
   "source": [
    "# slicing\n",
    "valores[0:2]"
   ]
  },
  {
   "cell_type": "code",
   "execution_count": 6,
   "metadata": {},
   "outputs": [
    {
     "data": {
      "text/plain": [
       "[80, 90, 70]"
      ]
     },
     "execution_count": 6,
     "metadata": {},
     "output_type": "execute_result"
    }
   ],
   "source": [
    "valores[0:]"
   ]
  },
  {
   "cell_type": "code",
   "execution_count": 7,
   "metadata": {},
   "outputs": [
    {
     "data": {
      "text/plain": [
       "True"
      ]
     },
     "execution_count": 7,
     "metadata": {},
     "output_type": "execute_result"
    }
   ],
   "source": [
    "# in\n",
    "80 in valores"
   ]
  },
  {
   "cell_type": "code",
   "execution_count": 8,
   "metadata": {},
   "outputs": [
    {
     "data": {
      "text/plain": [
       "False"
      ]
     },
     "execution_count": 8,
     "metadata": {},
     "output_type": "execute_result"
    }
   ],
   "source": [
    "60 in valores"
   ]
  },
  {
   "cell_type": "markdown",
   "metadata": {},
   "source": [
    "Algunas built-in functions para los objetos lista son:\n",
    "* ```len(list)``` - devuelve la longitud de la lista\n",
    "* ```min(list)``` - devuelve el valor mínimo dentro de la lista\n",
    "* ```max(list)``` - devuelve el valor máximo dentro de la lista\n",
    "* ```sum(list)``` - devuelve la suma de los elementos de la lista"
   ]
  },
  {
   "cell_type": "code",
   "execution_count": 9,
   "metadata": {},
   "outputs": [
    {
     "data": {
      "text/plain": [
       "3"
      ]
     },
     "execution_count": 9,
     "metadata": {},
     "output_type": "execute_result"
    }
   ],
   "source": [
    "# len\n",
    "len(valores)"
   ]
  },
  {
   "cell_type": "code",
   "execution_count": 10,
   "metadata": {},
   "outputs": [
    {
     "data": {
      "text/plain": [
       "90"
      ]
     },
     "execution_count": 10,
     "metadata": {},
     "output_type": "execute_result"
    }
   ],
   "source": [
    "#max \n",
    "max(valores)"
   ]
  },
  {
   "cell_type": "code",
   "execution_count": 11,
   "metadata": {},
   "outputs": [
    {
     "data": {
      "text/plain": [
       "240"
      ]
     },
     "execution_count": 11,
     "metadata": {},
     "output_type": "execute_result"
    }
   ],
   "source": [
    "# sum\n",
    "sum(valores)"
   ]
  },
  {
   "cell_type": "code",
   "execution_count": 12,
   "metadata": {},
   "outputs": [
    {
     "data": {
      "text/plain": [
       "4"
      ]
     },
     "execution_count": 12,
     "metadata": {},
     "output_type": "execute_result"
    }
   ],
   "source": [
    "# materias\n",
    "materias = ['bio', 'cs', 'math', 'history']\n",
    "len(materias)"
   ]
  },
  {
   "cell_type": "markdown",
   "metadata": {},
   "source": [
    "Las funciones ```min()``` y ```max()``` para listas con elementos ```str``` consideran el orden alfabético."
   ]
  },
  {
   "cell_type": "code",
   "execution_count": 13,
   "metadata": {},
   "outputs": [
    {
     "data": {
      "text/plain": [
       "'math'"
      ]
     },
     "execution_count": 13,
     "metadata": {},
     "output_type": "execute_result"
    }
   ],
   "source": [
    "# max\n",
    "max(materias)"
   ]
  },
  {
   "cell_type": "code",
   "execution_count": 14,
   "metadata": {},
   "outputs": [
    {
     "data": {
      "text/plain": [
       "'bio'"
      ]
     },
     "execution_count": 14,
     "metadata": {},
     "output_type": "execute_result"
    }
   ],
   "source": [
    "# min\n",
    "min(materias)"
   ]
  },
  {
   "cell_type": "code",
   "execution_count": 15,
   "metadata": {},
   "outputs": [
    {
     "ename": "TypeError",
     "evalue": "unsupported operand type(s) for +: 'int' and 'str'",
     "output_type": "error",
     "traceback": [
      "\u001b[0;31m---------------------------------------------------------------------------\u001b[0m",
      "\u001b[0;31mTypeError\u001b[0m                                 Traceback (most recent call last)",
      "\u001b[0;32m<ipython-input-15-4ed27ef1f5dc>\u001b[0m in \u001b[0;36m<module>\u001b[0;34m\u001b[0m\n\u001b[1;32m      1\u001b[0m \u001b[0;31m# error\u001b[0m\u001b[0;34m\u001b[0m\u001b[0;34m\u001b[0m\u001b[0;34m\u001b[0m\u001b[0m\n\u001b[0;32m----> 2\u001b[0;31m \u001b[0msum\u001b[0m\u001b[0;34m(\u001b[0m\u001b[0mmaterias\u001b[0m\u001b[0;34m)\u001b[0m\u001b[0;34m\u001b[0m\u001b[0;34m\u001b[0m\u001b[0m\n\u001b[0m",
      "\u001b[0;31mTypeError\u001b[0m: unsupported operand type(s) for +: 'int' and 'str'"
     ]
    }
   ],
   "source": [
    "# error\n",
    "sum(materias)"
   ]
  },
  {
   "cell_type": "markdown",
   "metadata": {},
   "source": [
    "Una lista puede contener elementos de distintos tipos y puede iterarse sobre la lista usando un ciclo ```for```."
   ]
  },
  {
   "cell_type": "code",
   "execution_count": 17,
   "metadata": {},
   "outputs": [],
   "source": [
    "street_address = [10, 'Main Street']"
   ]
  },
  {
   "cell_type": "code",
   "execution_count": 18,
   "metadata": {},
   "outputs": [
    {
     "name": "stdout",
     "output_type": "stream",
     "text": [
      "10\n",
      "Main Street\n"
     ]
    }
   ],
   "source": [
    "for val in street_address:\n",
    "    print(val)"
   ]
  },
  {
   "cell_type": "code",
   "execution_count": 19,
   "metadata": {},
   "outputs": [
    {
     "name": "stdout",
     "output_type": "stream",
     "text": [
      "bio\n",
      "cs\n",
      "math\n",
      "history\n"
     ]
    }
   ],
   "source": [
    "for item in materias:\n",
    "    print(item)"
   ]
  },
  {
   "cell_type": "markdown",
   "metadata": {},
   "source": [
    "Para conocer la ayuda sobre los metodos implementados para las listas se usa ```help(list)```. \n",
    "\n",
    "Las listas son objetos mutables y varios métodos pueden modificarlas:\n",
    "* ```append()```\n",
    "* ```extend()```\n",
    "* ```pop()```\n",
    "* ```remove()```\n",
    "* ```reverse()```\n",
    "* ```sort()```\n",
    "* ```insert()```\n",
    "\n",
    "Algunos métodos que no modifican las listas son:\n",
    "* ```count()``` \n",
    "* ```index()```  "
   ]
  },
  {
   "cell_type": "code",
   "execution_count": 20,
   "metadata": {},
   "outputs": [
    {
     "name": "stdout",
     "output_type": "stream",
     "text": [
      "Ingresa un color...rojo\n"
     ]
    }
   ],
   "source": [
    "colores = []\n",
    "prompt = 'Ingresa un color...'\n",
    "color = input(prompt)"
   ]
  },
  {
   "cell_type": "code",
   "execution_count": 21,
   "metadata": {},
   "outputs": [
    {
     "data": {
      "text/plain": [
       "'rojo'"
      ]
     },
     "execution_count": 21,
     "metadata": {},
     "output_type": "execute_result"
    }
   ],
   "source": [
    "color"
   ]
  },
  {
   "cell_type": "code",
   "execution_count": 22,
   "metadata": {},
   "outputs": [
    {
     "data": {
      "text/plain": [
       "[]"
      ]
     },
     "execution_count": 22,
     "metadata": {},
     "output_type": "execute_result"
    }
   ],
   "source": [
    "colores"
   ]
  },
  {
   "cell_type": "code",
   "execution_count": 23,
   "metadata": {},
   "outputs": [
    {
     "name": "stdout",
     "output_type": "stream",
     "text": [
      "Ingresa un color...amarillo\n",
      "Ingresa un color...verde\n",
      "Ingresa un color...azul\n",
      "Ingresa un color...anaranjado\n",
      "Ingresa un color...\n"
     ]
    }
   ],
   "source": [
    "while color !='':\n",
    "    colores.append(color) #añade elementos a la lista\n",
    "    color = input(prompt)"
   ]
  },
  {
   "cell_type": "code",
   "execution_count": 24,
   "metadata": {},
   "outputs": [
    {
     "data": {
      "text/plain": [
       "['rojo', 'amarillo', 'verde', 'azul', 'anaranjado']"
      ]
     },
     "execution_count": 24,
     "metadata": {},
     "output_type": "execute_result"
    }
   ],
   "source": [
    "colores"
   ]
  },
  {
   "cell_type": "code",
   "execution_count": 25,
   "metadata": {},
   "outputs": [
    {
     "data": {
      "text/plain": [
       "['rojo', 'amarillo', 'verde', 'azul', 'anaranjado', 'rosa', 'gris']"
      ]
     },
     "execution_count": 25,
     "metadata": {},
     "output_type": "execute_result"
    }
   ],
   "source": [
    "#añade a la lista otra lista de elementos\n",
    "colores.extend(['rosa', 'gris'])\n",
    "colores"
   ]
  },
  {
   "cell_type": "code",
   "execution_count": 26,
   "metadata": {},
   "outputs": [
    {
     "data": {
      "text/plain": [
       "'gris'"
      ]
     },
     "execution_count": 26,
     "metadata": {},
     "output_type": "execute_result"
    }
   ],
   "source": [
    "# elimina el último elemento de la lista\n",
    "colores.pop() "
   ]
  },
  {
   "cell_type": "code",
   "execution_count": 27,
   "metadata": {},
   "outputs": [
    {
     "data": {
      "text/plain": [
       "['rojo', 'amarillo', 'verde', 'azul', 'anaranjado', 'rosa']"
      ]
     },
     "execution_count": 27,
     "metadata": {},
     "output_type": "execute_result"
    }
   ],
   "source": [
    "colores"
   ]
  },
  {
   "cell_type": "code",
   "execution_count": 28,
   "metadata": {},
   "outputs": [
    {
     "data": {
      "text/plain": [
       "'verde'"
      ]
     },
     "execution_count": 28,
     "metadata": {},
     "output_type": "execute_result"
    }
   ],
   "source": [
    "# elimina el elemento con el índice especificado\n",
    "colores.pop(2)"
   ]
  },
  {
   "cell_type": "code",
   "execution_count": 29,
   "metadata": {},
   "outputs": [
    {
     "data": {
      "text/plain": [
       "['rojo', 'amarillo', 'azul', 'anaranjado', 'rosa']"
      ]
     },
     "execution_count": 29,
     "metadata": {},
     "output_type": "execute_result"
    }
   ],
   "source": [
    "colores"
   ]
  },
  {
   "cell_type": "code",
   "execution_count": 32,
   "metadata": {},
   "outputs": [],
   "source": [
    "# elimina elementos de la lista. Error si no está en la lista.\n",
    "colores.remove('azul')"
   ]
  },
  {
   "cell_type": "code",
   "execution_count": 33,
   "metadata": {},
   "outputs": [
    {
     "data": {
      "text/plain": [
       "0"
      ]
     },
     "execution_count": 33,
     "metadata": {},
     "output_type": "execute_result"
    }
   ],
   "source": [
    "# regresa el numero de ocurrencias del elemento en la lista\n",
    "colores.count ('azul')"
   ]
  },
  {
   "cell_type": "code",
   "execution_count": 34,
   "metadata": {},
   "outputs": [],
   "source": [
    "if 'azul' in colores:\n",
    "    colores.remove('azul')"
   ]
  },
  {
   "cell_type": "code",
   "execution_count": 35,
   "metadata": {},
   "outputs": [
    {
     "data": {
      "text/plain": [
       "['rojo', 'amarillo', 'anaranjado', 'rosa']"
      ]
     },
     "execution_count": 35,
     "metadata": {},
     "output_type": "execute_result"
    }
   ],
   "source": [
    "colores"
   ]
  },
  {
   "cell_type": "code",
   "execution_count": 36,
   "metadata": {},
   "outputs": [],
   "source": [
    "# añade a la lista elementos de otra lista\n",
    "colores.extend(['violeta', 'negro', 'café', 'morado'])"
   ]
  },
  {
   "cell_type": "code",
   "execution_count": 37,
   "metadata": {},
   "outputs": [
    {
     "data": {
      "text/plain": [
       "['rojo',\n",
       " 'amarillo',\n",
       " 'anaranjado',\n",
       " 'rosa',\n",
       " 'violeta',\n",
       " 'negro',\n",
       " 'café',\n",
       " 'morado']"
      ]
     },
     "execution_count": 37,
     "metadata": {},
     "output_type": "execute_result"
    }
   ],
   "source": [
    "colores"
   ]
  },
  {
   "cell_type": "code",
   "execution_count": 38,
   "metadata": {},
   "outputs": [
    {
     "data": {
      "text/plain": [
       "['amarillo',\n",
       " 'anaranjado',\n",
       " 'café',\n",
       " 'morado',\n",
       " 'negro',\n",
       " 'rojo',\n",
       " 'rosa',\n",
       " 'violeta']"
      ]
     },
     "execution_count": 38,
     "metadata": {},
     "output_type": "execute_result"
    }
   ],
   "source": [
    "# ordena los elementos de la lista\n",
    "colores.sort() \n",
    "colores"
   ]
  },
  {
   "cell_type": "code",
   "execution_count": 39,
   "metadata": {},
   "outputs": [
    {
     "data": {
      "text/plain": [
       "['amarillo',\n",
       " 'anaranjado',\n",
       " 'café',\n",
       " 'morado',\n",
       " 'negro',\n",
       " 'rojo',\n",
       " 'blanco',\n",
       " 'rosa',\n",
       " 'violeta']"
      ]
     },
     "execution_count": 39,
     "metadata": {},
     "output_type": "execute_result"
    }
   ],
   "source": [
    "#inserta un elemento en una posición especifica de la lista.\n",
    "colores.insert(-2, 'blanco')\n",
    "colores"
   ]
  },
  {
   "cell_type": "code",
   "execution_count": 40,
   "metadata": {},
   "outputs": [
    {
     "data": {
      "text/plain": [
       "6"
      ]
     },
     "execution_count": 40,
     "metadata": {},
     "output_type": "execute_result"
    }
   ],
   "source": [
    "# devuelve el índice de la primera ocurrencia de un elemento dentro\n",
    "# de la lista, error si no se encuentra.\n",
    "colores.index('blanco')"
   ]
  },
  {
   "cell_type": "code",
   "execution_count": 41,
   "metadata": {},
   "outputs": [],
   "source": [
    "if 'rosa' in colores:\n",
    "    where = colores.index('rosa')\n",
    "    colores.pop(where)"
   ]
  },
  {
   "cell_type": "code",
   "execution_count": 42,
   "metadata": {},
   "outputs": [
    {
     "data": {
      "text/plain": [
       "['amarillo',\n",
       " 'anaranjado',\n",
       " 'café',\n",
       " 'morado',\n",
       " 'negro',\n",
       " 'rojo',\n",
       " 'blanco',\n",
       " 'violeta']"
      ]
     },
     "execution_count": 42,
     "metadata": {},
     "output_type": "execute_result"
    }
   ],
   "source": [
    "colores"
   ]
  },
  {
   "cell_type": "markdown",
   "metadata": {},
   "source": [
    "> El paso de una lista a una función es por **referencia**, lo cual permite que la lista pueda sea modificada por la función. Cuando se envía una lista a una función se crea un **alias** para la lista. "
   ]
  },
  {
   "cell_type": "code",
   "execution_count": null,
   "metadata": {},
   "outputs": [],
   "source": [
    "# duplica\n",
    "def duplica_indices(lst):\n",
    "    '''(list of int) -> NoneType\n",
    "    \n",
    "    Duplica cada elemento de lst, iniciando desde \n",
    "    el índice 0\n",
    "    '''\n",
    "    \n",
    "    i = 0\n",
    "    while i < len(lst):\n",
    "        lst[i] = lst[i]  * 2\n",
    "        i = i + 2"
   ]
  },
  {
   "cell_type": "code",
   "execution_count": null,
   "metadata": {},
   "outputs": [],
   "source": [
    "lista = [11, 12, 13, 14, 15, 16, 17]\n",
    "print(lista)\n",
    "duplica_indices(lista)\n",
    "print(lista)"
   ]
  },
  {
   "cell_type": "markdown",
   "metadata": {},
   "source": [
    "Las listas son tipos de datos **mutables**, no lo son los ```int```, ```float```, ```double``` y ```str```.\n",
    "\n",
    "Por lo tanto, una función que modifique un parámetro debe especificarlo en el ```docstring``` de la función, si no se indica la modificación explícitamente, la función no debería hacerlo."
   ]
  },
  {
   "cell_type": "markdown",
   "metadata": {},
   "source": [
    "## Rangos"
   ]
  },
  {
   "cell_type": "markdown",
   "metadata": {},
   "source": [
    "La función rango ```range()``` genera un objeto iterable de tipo ```range``` el cual consiste en una lista de números generados desde un valor inicial, hasta otro final y eventualmente una separación determinada : ```range([start,] stop[, step]) -> range object```.   "
   ]
  },
  {
   "cell_type": "code",
   "execution_count": 43,
   "metadata": {},
   "outputs": [
    {
     "data": {
      "text/plain": [
       "range(0, 10)"
      ]
     },
     "execution_count": 43,
     "metadata": {},
     "output_type": "execute_result"
    }
   ],
   "source": [
    "# range (n)\n",
    "range(10)"
   ]
  },
  {
   "cell_type": "code",
   "execution_count": 44,
   "metadata": {},
   "outputs": [
    {
     "data": {
      "text/plain": [
       "range"
      ]
     },
     "execution_count": 44,
     "metadata": {},
     "output_type": "execute_result"
    }
   ],
   "source": [
    "# type\n",
    "type(range(10))"
   ]
  },
  {
   "cell_type": "code",
   "execution_count": 45,
   "metadata": {},
   "outputs": [
    {
     "name": "stdout",
     "output_type": "stream",
     "text": [
      "0\n",
      "1\n",
      "2\n",
      "3\n",
      "4\n",
      "5\n",
      "6\n",
      "7\n",
      "8\n",
      "9\n"
     ]
    }
   ],
   "source": [
    "# iter range\n",
    "for num in range(10):\n",
    "    print(num)"
   ]
  },
  {
   "cell_type": "code",
   "execution_count": 46,
   "metadata": {},
   "outputs": [
    {
     "data": {
      "text/plain": [
       "17"
      ]
     },
     "execution_count": 46,
     "metadata": {},
     "output_type": "execute_result"
    }
   ],
   "source": [
    "# str, len\n",
    "s = 'computer sciences'\n",
    "len(s)"
   ]
  },
  {
   "cell_type": "code",
   "execution_count": 47,
   "metadata": {},
   "outputs": [
    {
     "name": "stdout",
     "output_type": "stream",
     "text": [
      "0\n",
      "1\n",
      "2\n",
      "3\n",
      "4\n",
      "5\n",
      "6\n",
      "7\n",
      "8\n",
      "9\n",
      "10\n",
      "11\n",
      "12\n",
      "13\n",
      "14\n",
      "15\n",
      "16\n"
     ]
    }
   ],
   "source": [
    "# iter range(len)\n",
    "for i in range(len(s)):\n",
    "    print (i)"
   ]
  },
  {
   "cell_type": "code",
   "execution_count": null,
   "metadata": {},
   "outputs": [],
   "source": [
    "# iter range(ini, len)\n",
    "for i in range(3, len(s)):\n",
    "    print(i)"
   ]
  },
  {
   "cell_type": "code",
   "execution_count": null,
   "metadata": {},
   "outputs": [],
   "source": [
    "# iter range(ini, len, step)\n",
    "for i in range(5, len(s), 2):\n",
    "    print(i)"
   ]
  },
  {
   "cell_type": "markdown",
   "metadata": {},
   "source": [
    "## Ciclo For sobre índices"
   ]
  },
  {
   "cell_type": "markdown",
   "metadata": {},
   "source": [
    "**Ejercicio:**\n",
    "\n",
    "Se desea comparar los caracteres contigüos de una cadena y contabilizar aquellos pares que sean iguales."
   ]
  },
  {
   "cell_type": "markdown",
   "metadata": {},
   "source": [
    "**Descripción:**\n",
    "\n",
    "Se hará una serie de comparaciones ```s[0],s[1]```, ```s[1],s[2]```, ... , ```s[-2],s[-1]```; en general se comparará cada pareja ```s[i],s[i+1]```.\n",
    "\n",
    "Se requerirá entonces iterar desde el índice ```s[0]``` hasta ```s[len(s)-1]```, la generación de índices se puede hacer usando ```range()```."
   ]
  },
  {
   "cell_type": "code",
   "execution_count": null,
   "metadata": {},
   "outputs": [],
   "source": [
    "# string\n",
    "s='abccdeffggh'\n",
    "s"
   ]
  },
  {
   "cell_type": "code",
   "execution_count": null,
   "metadata": {},
   "outputs": [],
   "source": [
    "# error\n",
    "i = len(s)\n",
    "print(s[i])"
   ]
  },
  {
   "cell_type": "code",
   "execution_count": null,
   "metadata": {},
   "outputs": [],
   "source": [
    "# len - 1\n",
    "i = len(s)-1\n",
    "print(s[i])"
   ]
  },
  {
   "cell_type": "code",
   "execution_count": null,
   "metadata": {},
   "outputs": [],
   "source": [
    "# range(k) ~ [0,k)\n",
    "for i in range(len(s)-1):\n",
    "    print(i, s[i], s[i+1])"
   ]
  },
  {
   "cell_type": "code",
   "execution_count": null,
   "metadata": {},
   "outputs": [],
   "source": [
    "# cuenta_adjacentes_repetidos\n",
    "def cuenta_adjacentes_repetidos(s):\n",
    "    '''(str) -> int\n",
    "    \n",
    "    Regresa el número de ocurrencias en las dos caracteres\n",
    "    adyacentes dentro de la cadena s son iguales.\n",
    "    \n",
    "    >>> cuenta_adjacentes_repetidos('abccdeffggh')\n",
    "    3\n",
    "    '''\n",
    "    \n",
    "    repetido = 0\n",
    "    \n",
    "    for i in range(len(s)-1):\n",
    "        if s[i] == s[i+1]:\n",
    "            repetido = repetido +1 \n",
    "    \n",
    "    return repetido\n",
    "    "
   ]
  },
  {
   "cell_type": "code",
   "execution_count": null,
   "metadata": {},
   "outputs": [],
   "source": [
    "cuenta_adjacentes_repetidos('abccdeffggh')"
   ]
  },
  {
   "cell_type": "markdown",
   "metadata": {},
   "source": [
    "**Ejercicio:**\n",
    "\n",
    "Se desea intercabiar cada elemento de una lista proporcionada una posición a la izquierda. El primer elemento cambia a la última posición.\n",
    "\n",
    "**Entrada:** ```['a', 'b', 'c', 'd']```\n",
    "\n",
    "**Salida:** ```['b', 'c', 'd', 'a']```"
   ]
  },
  {
   "cell_type": "code",
   "execution_count": null,
   "metadata": {},
   "outputs": [],
   "source": [
    "# funcion cambia_izquierda\n",
    "def cambia_izquierda(L):\n",
    "    '''(list) -> NoneType\n",
    "    \n",
    "    Intercambia cada item en L una posición a la\n",
    "    izquierda e intercambia el primer item a la\n",
    "    última posición.\n",
    "\n",
    "    Precondicion: len(L) >= 1\n",
    "    \n",
    "    >>> cambia_izquierda(['a', 'b', 'c', 'd'])\n",
    "    ['b', 'c', 'd', 'a']\n",
    "    '''\n",
    "    \n",
    "    \n",
    "    first_item = L[0]\n",
    "    \n",
    "    for i in range(1,len(L)):\n",
    "        L[i-1] = L[i]\n",
    "    \n",
    "    L[-1] = first_item"
   ]
  },
  {
   "cell_type": "code",
   "execution_count": null,
   "metadata": {},
   "outputs": [],
   "source": [
    "L = ['a','b','c','d']"
   ]
  },
  {
   "cell_type": "code",
   "execution_count": null,
   "metadata": {},
   "outputs": [],
   "source": [
    "cambia_izquierda(L)\n",
    "print(L)"
   ]
  },
  {
   "cell_type": "markdown",
   "metadata": {},
   "source": [
    "## Listas paralelas y cadenas"
   ]
  },
  {
   "cell_type": "markdown",
   "metadata": {},
   "source": [
    "**Ejercicio:**\n",
    "\n",
    "Se desea sumar los elementos de dos listas de la misma longitud. Cada suma corresponde a los elementos de ambas listas en la misma posición. \n",
    "\n",
    "**Entrada:** ```[1,2,3], [2,4,2]```\n",
    "\n",
    "**Salida:** ```[3,6,5]```\n"
   ]
  },
  {
   "cell_type": "code",
   "execution_count": null,
   "metadata": {},
   "outputs": [],
   "source": [
    "# funcion suma_items\n",
    "def suma_items(lista1, lista2):\n",
    "    '''(list of number, list of number) -> list of number\n",
    "    \n",
    "    Devuelve una nueva lista en la cual cada item es\n",
    "    la suma de los items en la misma posición de las\n",
    "    lista1 y lista2\n",
    "    \n",
    "    Precondicion: len(lista1) == len(lista2)\n",
    "    \n",
    "    >>> suma_items([1,2,3], [2,4,2])\n",
    "    [3,6,5]\n",
    "    '''\n",
    "    \n",
    "    suma_lista = []\n",
    "    \n",
    "    for i in range(len(lista1)):\n",
    "        suma_lista.append(lista1[i] + lista2[i])\n",
    "        \n",
    "    return suma_lista        "
   ]
  },
  {
   "cell_type": "code",
   "execution_count": null,
   "metadata": {},
   "outputs": [],
   "source": [
    "suma_items([1,2,3], [2,4,2])"
   ]
  },
  {
   "cell_type": "markdown",
   "metadata": {},
   "source": [
    "**Ejercicio:**\n",
    "\n",
    "Se desea contabilizar el número de coincidencias de caracteres en la misma posición dadas dos cadenas de la misma longitud.\n",
    "\n",
    "**Entrada:** ```'caras, 'camas'```\n",
    "\n",
    "**Salida:** ```4```"
   ]
  },
  {
   "cell_type": "code",
   "execution_count": null,
   "metadata": {},
   "outputs": [],
   "source": [
    "# funcion cuenta_coincidencias\n",
    "def cuenta_coincidencias(s1,s2):\n",
    "    ''' (str, str) -> int\n",
    "    \n",
    "    Devuelve el numero de ocurrencias en s1 que\n",
    "    contienen el mismo caracter en la posición \n",
    "    correspondiente en la cadena s2.\n",
    "    \n",
    "    Precondicion: len(s1) == len(s2)\n",
    "    \n",
    "    >>> cuenta_coincidencias('hola', 'hilo')\n",
    "    2\n",
    "    >>> cuenta_coincidencias('caras', 'camas')\n",
    "    4\n",
    "    '''\n",
    "    \n",
    "    num_matches = 0\n",
    "    \n",
    "    for i in range(len(s1)):\n",
    "        if s1[i] == s2[i]:\n",
    "            num_matches = num_matches + 1\n",
    "    \n",
    "    return num_matches"
   ]
  },
  {
   "cell_type": "code",
   "execution_count": null,
   "metadata": {},
   "outputs": [],
   "source": [
    "cuenta_coincidencias('hola', 'hilo')"
   ]
  },
  {
   "cell_type": "code",
   "execution_count": null,
   "metadata": {},
   "outputs": [],
   "source": [
    "cuenta_coincidencias('caras', 'camas')"
   ]
  },
  {
   "cell_type": "markdown",
   "metadata": {},
   "source": [
    "## Listas anidadas"
   ]
  },
  {
   "cell_type": "markdown",
   "metadata": {},
   "source": [
    "Una lista puede contener otras listas de la misma o diferente longitud ```list[list1, list2, ... , listn]```"
   ]
  },
  {
   "cell_type": "code",
   "execution_count": null,
   "metadata": {},
   "outputs": [],
   "source": [
    "# parciales\n",
    "parciales = [['parcial1', 80],['parcial2', 90],['parcial3', 70]]"
   ]
  },
  {
   "cell_type": "code",
   "execution_count": null,
   "metadata": {
    "scrolled": true
   },
   "outputs": [],
   "source": [
    "# len\n",
    "len(parciales)"
   ]
  },
  {
   "cell_type": "code",
   "execution_count": null,
   "metadata": {},
   "outputs": [],
   "source": [
    "# index 0\n",
    "parciales[0]"
   ]
  },
  {
   "cell_type": "code",
   "execution_count": null,
   "metadata": {},
   "outputs": [],
   "source": [
    "# index 2\n",
    "parciales[2]"
   ]
  },
  {
   "cell_type": "code",
   "execution_count": null,
   "metadata": {},
   "outputs": [],
   "source": [
    "# len list1\n",
    "len(parciales[1])"
   ]
  },
  {
   "cell_type": "code",
   "execution_count": null,
   "metadata": {},
   "outputs": [],
   "source": [
    "# iter parciales\n",
    "for parcial in parciales:\n",
    "    print(parcial)"
   ]
  },
  {
   "cell_type": "code",
   "execution_count": null,
   "metadata": {},
   "outputs": [],
   "source": [
    "# list index index\n",
    "parciales[0][0]"
   ]
  },
  {
   "cell_type": "code",
   "execution_count": null,
   "metadata": {},
   "outputs": [],
   "source": [
    "parciales[0][1]"
   ]
  },
  {
   "cell_type": "code",
   "execution_count": null,
   "metadata": {},
   "outputs": [],
   "source": [
    "parciales[2][1]"
   ]
  },
  {
   "cell_type": "markdown",
   "metadata": {},
   "source": [
    "**Ejercicio:**\n",
    "\n",
    "Se desea calcular el promedio de calificacines. Las notas registradas son listas que contienen una cadena que describe la calificación y un número que es el valor de la calificación.\n",
    "\n",
    "**Entrada:** ```['A1', 80],['A2', 90],['A3', 75],['A4', 100]```\n",
    "\n",
    "**Salida:** ```4```"
   ]
  },
  {
   "cell_type": "code",
   "execution_count": null,
   "metadata": {},
   "outputs": [],
   "source": [
    "# calcula promedio\n",
    "def calcula_promedio(notas):\n",
    "    ''' (list of list of (str, number]) -> float\n",
    "    \n",
    "    Devuelve el promedio de las calificaciones en notas\n",
    "       \n",
    "    >>> calcula_promedio([['A1', 80],['A2', 90],['A3', 70],['A4', 100]])\n",
    "    85.0\n",
    "    '''\n",
    "    \n",
    "    total = 0\n",
    "    \n",
    "    for item in notas:\n",
    "        total = total + item[1]\n",
    "        \n",
    "    return total / len(notas)"
   ]
  },
  {
   "cell_type": "code",
   "execution_count": null,
   "metadata": {},
   "outputs": [],
   "source": [
    "calcula_promedio([['A1', 80],['A2', 90],['A3', 70],['A4', 100]])"
   ]
  },
  {
   "cell_type": "markdown",
   "metadata": {},
   "source": [
    "## Ciclos anidados"
   ]
  },
  {
   "cell_type": "code",
   "execution_count": null,
   "metadata": {},
   "outputs": [],
   "source": [
    "notas = [[70, 75, 80],[70, 80, 90, 100],[80, 100]]\n",
    "historia = notas[0]\n",
    "historia"
   ]
  },
  {
   "cell_type": "code",
   "execution_count": null,
   "metadata": {},
   "outputs": [],
   "source": [
    "total = 0\n",
    "for nota in historia:\n",
    "    total+= nota\n",
    "print(total)"
   ]
  },
  {
   "cell_type": "code",
   "execution_count": null,
   "metadata": {},
   "outputs": [],
   "source": [
    "# promedios\n",
    "def promedios(notas):\n",
    "    '''(list of list of number) -> list of float\n",
    "    \n",
    "    Regresa una lista nueva en la cual cada item es el promedio\n",
    "    de las calificaciones correspondientes a cada lista de\n",
    "    calificaciones en la lista completa de notas.\n",
    "    \n",
    "    >>> promedios([[70, 75, 80],[70, 80, 90, 100],[80, 100]])\n",
    "    [75.0, 85.0, 90.0]\n",
    "    '''\n",
    "    promedios_list = []\n",
    "    \n",
    "    for notas_list in notas:\n",
    "        # Calcula el promedio de notas_list y lo agreaga\n",
    "        # a la lista promedios_list.\n",
    "        total = 0\n",
    "        for item in notas_list:\n",
    "            total = total + item\n",
    "        \n",
    "        promedios_list.append(total / len(notas_list))\n",
    "                        \n",
    "    return promedios_list"
   ]
  },
  {
   "cell_type": "code",
   "execution_count": null,
   "metadata": {},
   "outputs": [],
   "source": [
    "promedios([[70, 75, 80],[70, 80, 90, 100],[80, 100]])"
   ]
  }
 ],
 "metadata": {
  "kernelspec": {
   "display_name": "Python 3 (ipykernel)",
   "language": "python",
   "name": "python3"
  },
  "language_info": {
   "codemirror_mode": {
    "name": "ipython",
    "version": 3
   },
   "file_extension": ".py",
   "mimetype": "text/x-python",
   "name": "python",
   "nbconvert_exporter": "python",
   "pygments_lexer": "ipython3",
   "version": "3.10.10"
  }
 },
 "nbformat": 4,
 "nbformat_minor": 1
}
