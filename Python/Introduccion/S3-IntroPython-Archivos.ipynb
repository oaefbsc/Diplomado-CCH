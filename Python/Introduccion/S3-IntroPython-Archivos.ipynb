{
 "cells": [
  {
   "cell_type": "markdown",
   "metadata": {},
   "source": [
    "# Introducción a Python"
   ]
  },
  {
   "cell_type": "markdown",
   "metadata": {},
   "source": [
    "## Lectura de archivos"
   ]
  },
  {
   "cell_type": "markdown",
   "metadata": {},
   "source": [
    "En Pythob, para leer un archivo, se utiliza la función ```open(filename, modo)``` donde `filename` es la ruta del archivo y `modo` puede ser 'r' de lectura, 'w' de escritura."
   ]
  },
  {
   "cell_type": "markdown",
   "metadata": {},
   "source": [
    "A manera de ejemplo utilizaremos el archivo **amorconstante.txt** ubicado en la directorio actual"
   ]
  },
  {
   "cell_type": "code",
   "execution_count": 1,
   "metadata": {},
   "outputs": [],
   "source": [
    "path_filename = './LoveBlind.txt'"
   ]
  },
  {
   "cell_type": "code",
   "execution_count": 2,
   "metadata": {},
   "outputs": [
    {
     "data": {
      "text/plain": [
       "'Love Blind\\n'"
      ]
     },
     "execution_count": 2,
     "metadata": {},
     "output_type": "execute_result"
    }
   ],
   "source": [
    "data_file  = open(path_filename , 'r')\n",
    "data_file.readline()"
   ]
  },
  {
   "cell_type": "markdown",
   "metadata": {},
   "source": [
    "El método ```readline()``` lee y devuelve una línea del archivo incluyendo el caracter de retorno de carro si existe."
   ]
  },
  {
   "cell_type": "code",
   "execution_count": 3,
   "metadata": {},
   "outputs": [
    {
     "data": {
      "text/plain": [
       "'\\n'"
      ]
     },
     "execution_count": 3,
     "metadata": {},
     "output_type": "execute_result"
    }
   ],
   "source": [
    "data_file.readline()"
   ]
  },
  {
   "cell_type": "code",
   "execution_count": 4,
   "metadata": {},
   "outputs": [
    {
     "data": {
      "text/plain": [
       "'O me! what eyes hath Love put in my head\\n'"
      ]
     },
     "execution_count": 4,
     "metadata": {},
     "output_type": "execute_result"
    }
   ],
   "source": [
    "data_file.readline()"
   ]
  },
  {
   "cell_type": "code",
   "execution_count": 5,
   "metadata": {},
   "outputs": [
    {
     "data": {
      "text/plain": [
       "'Which have no correspondence with true sight;\\n'"
      ]
     },
     "execution_count": 5,
     "metadata": {},
     "output_type": "execute_result"
    }
   ],
   "source": [
    "data_file.readline()"
   ]
  },
  {
   "cell_type": "markdown",
   "metadata": {},
   "source": [
    "Cuando existe una línea en blanco, el método `readline()` devuelve el caracter ```\\n```. Al final del archivo devolverá el caracter de cadena vacía ' '. "
   ]
  },
  {
   "cell_type": "markdown",
   "metadata": {},
   "source": [
    "El método ```close()``` cierra el archivo."
   ]
  },
  {
   "cell_type": "code",
   "execution_count": 6,
   "metadata": {},
   "outputs": [],
   "source": [
    "data_file.close()"
   ]
  },
  {
   "cell_type": "markdown",
   "metadata": {},
   "source": [
    "Es posible iterar sobre el archivo usando un ciclo ```while``` hasta alcanzar el final del archivo."
   ]
  },
  {
   "cell_type": "code",
   "execution_count": 7,
   "metadata": {},
   "outputs": [],
   "source": [
    "data_file = open(path_filename, 'r')\n",
    "line = data_file.readline()"
   ]
  },
  {
   "cell_type": "code",
   "execution_count": 8,
   "metadata": {},
   "outputs": [
    {
     "name": "stdout",
     "output_type": "stream",
     "text": [
      "Love Blind\n",
      "\n",
      "\n",
      "\n",
      "O me! what eyes hath Love put in my head\n",
      "\n",
      "Which have no correspondence with true sight;\n",
      "\n",
      "Or if they have, where is my judgment fled\n",
      "\n",
      "That censures falsely what they see aright?\n",
      "\n",
      "If that be fair whereon my false eyes dote,\n",
      "\n",
      "What means the world to say it is not so?\n",
      "\n",
      "If it be not, then Love doth well denote\n",
      "\n",
      "Love’s eye is not so true as all men’s: No,\n",
      "\n",
      "How can it? O how can Love’s eye be true,\n",
      "\n",
      "That is so vex’d with watching and with tears?\n",
      "\n",
      "No marvel then though I mistake my view:\n",
      "\n",
      "The sun itself sees not till heaven clears.\n",
      "\n",
      "O cunning Love! with tears thou keep’st me blind,\n",
      "\n",
      "Lest eyes well-seeing thy foul faults should find!\n",
      "\n",
      "\n",
      "\n",
      "-William Shakespeare.\n",
      "\n"
     ]
    }
   ],
   "source": [
    "while line != '':\n",
    "    print(line)\n",
    "    line = data_file.readline()"
   ]
  },
  {
   "cell_type": "code",
   "execution_count": 9,
   "metadata": {},
   "outputs": [],
   "source": [
    "data_file.close()"
   ]
  },
  {
   "cell_type": "markdown",
   "metadata": {},
   "source": [
    "> El método ```readline()``` agrega el retorno de carro `\\n` a cada línea que lee, mismo que se despliega al escribirse dicha línea. Para evitar esto puede usarse ```print(line, end='')``` que indica el delimita la escritura excluyendo el retorno de carro."
   ]
  },
  {
   "cell_type": "code",
   "execution_count": 10,
   "metadata": {},
   "outputs": [
    {
     "name": "stdout",
     "output_type": "stream",
     "text": [
      "Love Blind\n",
      "\n",
      "O me! what eyes that Love put in my head\n",
      "Which have no correspondence with true sight;\n",
      "Or if they have, where is my judgment fled\n",
      "That censures falsely what they see aright?\n",
      "If that be fair whereon my false eyes dote,\n",
      "What means the world to say it is not so?\n",
      "If it be not, then Love doth well denote\n",
      "Love’s eye is not so true as all men’s: No,\n",
      "How can it? O how can Love’s eye be true,\n",
      "That is so vex’d with watching and with tears?\n",
      "No marvel then though I mistake my view:\n",
      "The sun itself sees not till heaven clears.\n",
      "O cunning Love! with tears thou keep’st me blind,\n",
      "Lest eyes well-seeing thy foul faults should find!\n",
      "\n",
      "-William Shakespeare.\n"
     ]
    }
   ],
   "source": [
    "data_file = open(path_filename, 'r')\n",
    "line = data_file.readline()\n",
    "while line != '':\n",
    "    print(line, end='')\n",
    "    line = data_file.readline()"
   ]
  },
  {
   "cell_type": "code",
   "execution_count": 11,
   "metadata": {},
   "outputs": [],
   "source": [
    "data_file.close()"
   ]
  },
  {
   "cell_type": "markdown",
   "metadata": {},
   "source": [
    "El uso del método ```readline()``` se recomienda para leer sólo una parte de interés del archivo. El método permite saltar el inicio del archivo y extraer ciertos segmentos importantes delimitados por un caracter o palabra."
   ]
  },
  {
   "cell_type": "code",
   "execution_count": 12,
   "metadata": {},
   "outputs": [
    {
     "name": "stdout",
     "output_type": "stream",
     "text": [
      "O me! what eyes that Love put in my head\n",
      "Which have no correspondence with true sight;\n",
      "Or if they have, where is my judgment fled\n",
      "That censures falsely what they see aright?\n",
      "If that be fair whereon my false eyes dote,\n",
      "What means the world to say it is not so?\n",
      "If it be not, then Love doth well denote\n",
      "Love’s eye is not so true as all men’s: No,\n",
      "How can it? O how can Love’s eye be true,\n",
      "That is so vex’d with watching and with tears?\n",
      "No marvel then though I mistake my view:\n",
      "The sun itself sees not till heaven clears.\n",
      "O cunning Love! with tears thou keep’st me blind,\n",
      "Lest eyes well-seeing thy foul faults should find!\n"
     ]
    }
   ],
   "source": [
    "data_file = open(path_filename, 'r')\n",
    "\n",
    "line = data_file.readline()\n",
    "line = data_file.readline()\n",
    "line = data_file.readline()\n",
    "\n",
    "# lee hasta encontrar '\\n'\n",
    "while line != '\\n':\n",
    "    print(line, end='')\n",
    "    line = data_file.readline()"
   ]
  },
  {
   "cell_type": "code",
   "execution_count": 13,
   "metadata": {},
   "outputs": [],
   "source": [
    "data_file.close()"
   ]
  },
  {
   "cell_type": "markdown",
   "metadata": {},
   "source": [
    "Para leer todas y cada una de las líneas del archivo se recomienda usar un ciclo ```for```. \n",
    "\n",
    "```for line in file:\n",
    "      process line```"
   ]
  },
  {
   "cell_type": "code",
   "execution_count": 14,
   "metadata": {},
   "outputs": [
    {
     "name": "stdout",
     "output_type": "stream",
     "text": [
      "Love Blind\n",
      "\n",
      "O me! what eyes that Love put in my head\n",
      "Which have no correspondence with true sight;\n",
      "Or if they have, where is my judgment fled\n",
      "That censures falsely what they see aright?\n",
      "If that be fair whereon my false eyes dote,\n",
      "What means the world to say it is not so?\n",
      "If it be not, then Love doth well denote\n",
      "Love’s eye is not so true as all men’s: No,\n",
      "How can it? O how can Love’s eye be true,\n",
      "That is so vex’d with watching and with tears?\n",
      "No marvel then though I mistake my view:\n",
      "The sun itself sees not till heaven clears.\n",
      "O cunning Love! with tears thou keep’st me blind,\n",
      "Lest eyes well-seeing thy foul faults should find!\n",
      "\n",
      "-William Shakespeare.\n"
     ]
    }
   ],
   "source": [
    "data_file = open(path_filename, 'r')\n",
    "for line in data_file:\n",
    "    print(line, end='')  "
   ]
  },
  {
   "cell_type": "code",
   "execution_count": 15,
   "metadata": {},
   "outputs": [],
   "source": [
    "data_file.close()"
   ]
  },
  {
   "cell_type": "markdown",
   "metadata": {},
   "source": [
    "Para leer archivos de mediano y pequeño tamaño se recomienda usar el método ```read()```. \n",
    "\n",
    "```file.read()```"
   ]
  },
  {
   "cell_type": "code",
   "execution_count": 16,
   "metadata": {},
   "outputs": [
    {
     "name": "stdout",
     "output_type": "stream",
     "text": [
      "Love Blind\n",
      "\n",
      "O me! what eyes that Love put in my head\n",
      "Which have no correspondence with true sight;\n",
      "Or if they have, where is my judgment fled\n",
      "That censures falsely what they see aright?\n",
      "If that be fair whereon my false eyes dote,\n",
      "What means the world to say it is not so?\n",
      "If it be not, then Love doth well denote\n",
      "Love’s eye is not so true as all men’s: No,\n",
      "How can it? O how can Love’s eye be true,\n",
      "That is so vex’d with watching and with tears?\n",
      "No marvel then though I mistake my view:\n",
      "The sun itself sees not till heaven clears.\n",
      "O cunning Love! with tears thou keep’st me blind,\n",
      "Lest eyes well-seeing thy foul faults should find!\n",
      "\n",
      "-William Shakespeare.\n",
      "\n"
     ]
    }
   ],
   "source": [
    "data_file = open(path_filename, 'r')\n",
    "print(data_file.read()) "
   ]
  },
  {
   "cell_type": "code",
   "execution_count": 17,
   "metadata": {},
   "outputs": [],
   "source": [
    "data_file.close()"
   ]
  },
  {
   "cell_type": "markdown",
   "metadata": {},
   "source": [
    "Otra forma para leer un archivo es por medio del uso del método ```readlines()``` el cual lee todas las líneas del archivo y las coloca en una lista, cada línea puede accederse por su índice.\n",
    "\n",
    "```list = file.readlines()```"
   ]
  },
  {
   "cell_type": "code",
   "execution_count": 18,
   "metadata": {},
   "outputs": [],
   "source": [
    "data_file = open(path_filename, 'r')\n",
    "lines = data_file.readlines()"
   ]
  },
  {
   "cell_type": "code",
   "execution_count": 19,
   "metadata": {},
   "outputs": [
    {
     "data": {
      "text/plain": [
       "list"
      ]
     },
     "execution_count": 19,
     "metadata": {},
     "output_type": "execute_result"
    }
   ],
   "source": [
    "type(lines)"
   ]
  },
  {
   "cell_type": "code",
   "execution_count": 20,
   "metadata": {},
   "outputs": [
    {
     "name": "stdout",
     "output_type": "stream",
     "text": [
      "Love Blind\n",
      "\n",
      "O me! what eyes that Love put in my head\n",
      "Which have no correspondence with true sight;\n",
      "Or if they have, where is my judgment fled\n",
      "That censures falsely what they see aright?\n",
      "If that be fair whereon my false eyes dote,\n",
      "What means the world to say it is not so?\n",
      "If it be not, then Love doth well denote\n",
      "Love’s eye is not so true as all men’s: No,\n",
      "How can it? O how can Love’s eye be true,\n",
      "That is so vex’d with watching and with tears?\n",
      "No marvel then though I mistake my view:\n",
      "The sun itself sees not till heaven clears.\n",
      "O cunning Love! with tears thou keep’st me blind,\n",
      "Lest eyes well-seeing thy foul faults should find!\n",
      "\n",
      "-William Shakespeare.\n"
     ]
    }
   ],
   "source": [
    "for line in lines:\n",
    "    print(line, end='')"
   ]
  },
  {
   "cell_type": "code",
   "execution_count": 21,
   "metadata": {},
   "outputs": [],
   "source": [
    "data_file.close()"
   ]
  },
  {
   "cell_type": "code",
   "execution_count": 22,
   "metadata": {},
   "outputs": [
    {
     "data": {
      "text/plain": [
       "'Love Blind\\n'"
      ]
     },
     "execution_count": 22,
     "metadata": {},
     "output_type": "execute_result"
    }
   ],
   "source": [
    "lines[0]"
   ]
  },
  {
   "cell_type": "code",
   "execution_count": 23,
   "metadata": {},
   "outputs": [
    {
     "data": {
      "text/plain": [
       "'\\n'"
      ]
     },
     "execution_count": 23,
     "metadata": {},
     "output_type": "execute_result"
    }
   ],
   "source": [
    "lines[1]"
   ]
  },
  {
   "cell_type": "code",
   "execution_count": 24,
   "metadata": {},
   "outputs": [
    {
     "data": {
      "text/plain": [
       "'O me! what eyes that Love put in my head\\n'"
      ]
     },
     "execution_count": 24,
     "metadata": {},
     "output_type": "execute_result"
    }
   ],
   "source": [
    "lines[2]"
   ]
  },
  {
   "cell_type": "markdown",
   "metadata": {},
   "source": [
    "## Escritura de archivos"
   ]
  },
  {
   "cell_type": "markdown",
   "metadata": {},
   "source": [
    "Un archivo puede abrirse para escritura con la opción ```w```. Usando el método ```write(str)``` se puede agregar una línea (sin el retorno de carro ```\\n```) al archivo."
   ]
  },
  {
   "cell_type": "code",
   "execution_count": 28,
   "metadata": {},
   "outputs": [],
   "source": [
    "path_from_filename  = './LoveBlind.txt'\n",
    "path_to_filename = './LoveBlind_copy.txt'"
   ]
  },
  {
   "cell_type": "code",
   "execution_count": 29,
   "metadata": {},
   "outputs": [],
   "source": [
    "from_file = open(path_from_filename, 'r')\n",
    "contents = from_file.read()\n",
    "from_file.close()"
   ]
  },
  {
   "cell_type": "code",
   "execution_count": 30,
   "metadata": {},
   "outputs": [
    {
     "data": {
      "text/plain": [
       "'Love Blind\\n\\nO me! what eyes that Love put in my head\\nWhich have no correspondence with true sight;\\nOr if they have, where is my judgment fled\\nThat censures falsely what they see aright?\\nIf that be fair whereon my false eyes dote,\\nWhat means the world to say it is not so?\\nIf it be not, then Love doth well denote\\nLove’s eye is not so true as all men’s: No,\\nHow can it? O how can Love’s eye be true,\\nThat is so vex’d with watching and with tears?\\nNo marvel then though I mistake my view:\\nThe sun itself sees not till heaven clears.\\nO cunning Love! with tears thou keep’st me blind,\\nLest eyes well-seeing thy foul faults should find!\\n\\n-William Shakespeare.\\n'"
      ]
     },
     "execution_count": 30,
     "metadata": {},
     "output_type": "execute_result"
    }
   ],
   "source": [
    "contents"
   ]
  },
  {
   "cell_type": "code",
   "execution_count": 31,
   "metadata": {},
   "outputs": [
    {
     "data": {
      "text/plain": [
       "15"
      ]
     },
     "execution_count": 31,
     "metadata": {},
     "output_type": "execute_result"
    }
   ],
   "source": [
    "to_filename = open(path_to_filename, 'w')\n",
    "to_filename.write(\"--- Copia ---\\n\\n\")"
   ]
  },
  {
   "cell_type": "code",
   "execution_count": 32,
   "metadata": {},
   "outputs": [],
   "source": [
    "to_filename.write(contents)\n",
    "to_filename.close()"
   ]
  },
  {
   "cell_type": "markdown",
   "metadata": {},
   "source": [
    "El método ```open()``` en modo escritura `w` abre el archivo; si el archivo existe lo sobre-escribe, si no existe el archivo lo crea."
   ]
  },
  {
   "cell_type": "markdown",
   "metadata": {},
   "source": [
    "El método `open()` y el **modo de apertura** está relacionado con la finalidad de se desea lograr. Esto implica lectura, escritura, sobre-escritura, crearlo, crearlo y escribirlo. Cada vez que se abre un archivo se crea un **puntero** que se posiciona dentro del archivo en un lugar específico y que va modificando su posición.\n",
    "\n",
    "La apertura en los modos lectura y escritura, así como la ubicación del puntero se muestran a continuación:\n",
    "\n",
    "|**Indicador** |**Modo de apertura**|**Ubicación del puntero**|\n",
    "|------------- |------------------- |-------------------------|\n",
    "|'r'           |Solo lectura        |Al inicio del archivo    |\n",
    "|'r+'          |Lectura y escritura |Al inicio del archivo    |\n",
    "|'w'           |Solo escritura. Sobre-escribe o crea el archivo|Al inicio del archivo    |\n",
    "|'w+'          |Escritura y lectura. Sobre-escribe o crea el archivo|Al inicio del archivo|"
   ]
  },
  {
   "cell_type": "markdown",
   "metadata": {},
   "source": [
    "### El paquete Tkinter"
   ]
  },
  {
   "cell_type": "markdown",
   "metadata": {},
   "source": [
    "El paquete `Tkinter` es una interface gráfica de usuario para la ubicación y selección de archivos. Con este paquete ue se puede solicitar al usuario la ruta del archivo de lectura por medio del método `askopenfilename()`. "
   ]
  },
  {
   "cell_type": "code",
   "execution_count": 34,
   "metadata": {},
   "outputs": [
    {
     "data": {
      "text/plain": [
       "()"
      ]
     },
     "execution_count": 34,
     "metadata": {},
     "output_type": "execute_result"
    }
   ],
   "source": [
    "import tkinter.filedialog\n",
    "tkinter.filedialog.askopenfilename()"
   ]
  },
  {
   "cell_type": "code",
   "execution_count": null,
   "metadata": {},
   "outputs": [],
   "source": [
    "from_filename = tkinter.filedialog.askopenfilename()"
   ]
  },
  {
   "cell_type": "code",
   "execution_count": null,
   "metadata": {},
   "outputs": [],
   "source": [
    "from_filename"
   ]
  },
  {
   "cell_type": "markdown",
   "metadata": {},
   "source": [
    "Con el método `asksaveasfilename()` se indica el archivo en el cual se va a editar, dicho archivo debe existir. "
   ]
  },
  {
   "cell_type": "code",
   "execution_count": null,
   "metadata": {},
   "outputs": [],
   "source": [
    "to_filename = tkinter.filedialog.asksaveasfilename()"
   ]
  },
  {
   "cell_type": "code",
   "execution_count": null,
   "metadata": {},
   "outputs": [],
   "source": [
    "to_filename"
   ]
  },
  {
   "cell_type": "code",
   "execution_count": null,
   "metadata": {},
   "outputs": [],
   "source": [
    "from_file = open(from_filename, 'r')\n",
    "contents = from_file.read()\n",
    "from_file.close()"
   ]
  },
  {
   "cell_type": "code",
   "execution_count": null,
   "metadata": {},
   "outputs": [],
   "source": [
    "contents"
   ]
  },
  {
   "cell_type": "code",
   "execution_count": null,
   "metadata": {},
   "outputs": [],
   "source": [
    "to_file = open(to_filename, 'w')\n",
    "to_file.write(\"Copia\\n\")"
   ]
  },
  {
   "cell_type": "code",
   "execution_count": null,
   "metadata": {},
   "outputs": [],
   "source": [
    "to_file.write(contents)\n",
    "to_file.close()"
   ]
  },
  {
   "cell_type": "markdown",
   "metadata": {},
   "source": [
    "Una buena referencia sobre el objeto `file`, los modos de apertura y la posición del puntero se puede encontrar en [ObjetoFile](https://uniwebsidad.com/libros/python/capitulo-9/sobre-el-objeto-file)."
   ]
  }
 ],
 "metadata": {
  "kernelspec": {
   "display_name": "Python 3 (ipykernel)",
   "language": "python",
   "name": "python3"
  },
  "language_info": {
   "codemirror_mode": {
    "name": "ipython",
    "version": 3
   },
   "file_extension": ".py",
   "mimetype": "text/x-python",
   "name": "python",
   "nbconvert_exporter": "python",
   "pygments_lexer": "ipython3",
   "version": "3.10.10"
  },
  "widgets": {
   "state": {},
   "version": "1.1.2"
  }
 },
 "nbformat": 4,
 "nbformat_minor": 1
}
